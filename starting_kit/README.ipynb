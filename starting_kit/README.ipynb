{
 "cells": [
  {
   "cell_type": "markdown",
   "metadata": {},
   "source": [
    "\n",
    "<div style=\"background:#000000\">\n",
    "<img src=\"logo.jpg\", width=150, ALIGN=\"left\", border=20>\n",
    "<h1>Sample Starting Kit </h1>\n",
    "    <span style=\"color:red\"> <h1> Keep all code below **yellow** text blocks, </h1> </span>\n",
    "    <span style=\"color:red\"> <h1> but check that it works (you can ADD not remove). </h1> </span>\n",
    "    <span style=\"color:red\"> <h1> Customize Section (1) and modify the explanations.</h1> </span>\n",
    "\n",
    "<br>This code was tested with <br>\n",
    "Python 3.6.6 |Anaconda custom (64-bit)| (default, Jun 28 2018, 11:07:29) (https://anaconda.org/)<br>\n",
    "<i> Adapted for Chalab by Isabelle Guyon from original code of Balázs Kégl</i> <br>\n",
    "<a href=\"http://www.datascience-paris-saclay.fr\">Paris Saclay Center for Data Science (CDS)</a>\n",
    "</center>\n",
    "<p>\n",
    "ALL INFORMATION, SOFTWARE, DOCUMENTATION, AND DATA ARE PROVIDED \"AS-IS\". The CDS, CHALEARN, AND/OR OTHER ORGANIZERS OR CODE AUTHORS DISCLAIM ANY EXPRESSED OR IMPLIED WARRANTIES, INCLUDING, BUT NOT LIMITED TO, THE IMPLIED WARRANTIES OF MERCHANTABILITY AND FITNESS FOR ANY PARTICULAR PURPOSE, AND THE WARRANTY OF NON-INFRIGEMENT OF ANY THIRD PARTY'S INTELLECTUAL PROPERTY RIGHTS. IN NO EVENT SHALL AUTHORS AND ORGANIZERS BE LIABLE FOR ANY SPECIAL, \n",
    "INDIRECT OR CONSEQUENTIAL DAMAGES OR ANY DAMAGES WHATSOEVER ARISING OUT OF OR IN CONNECTION WITH THE USE OR PERFORMANCE OF SOFTWARE, DOCUMENTS, MATERIALS, PUBLICATIONS, OR INFORMATION MADE AVAILABLE FOR THE CHALLENGE.</div>\n"
   ]
  },
  {
   "cell_type": "markdown",
   "metadata": {},
   "source": [
    "<div style=\"background:#000000\">\n",
    "    <h2>Introduction </h2>\n",
    "    <p>\n",
    "     <br>\n",
    "This dataset is a small set of patients which have been diagnotised on different stages of cancer. The goal of this challenge is to find two matrices A*T which are the Matrix Factorization of the original data, and to measure the utility of producted A by giving a classification scoring to it.\n",
    " <br>\n",
    "</div>"
   ]
  },
  {
   "cell_type": "code",
   "execution_count": 49,
   "metadata": {},
   "outputs": [
    {
     "name": "stdout",
     "output_type": "stream",
     "text": [
      "The autoreload extension is already loaded. To reload it, use:\n",
      "  %reload_ext autoreload\n"
     ]
    }
   ],
   "source": [
    "model_dir = 'sample_code_submission/'                        # Change the model to a better one once you have one!\n",
    "#model_dir = '../FILES/pretty_good_sample_code_submission/'\n",
    "result_dir = 'sample_result_submission/' \n",
    "problem_dir = 'ingestion_program/'  \n",
    "score_dir = 'scoring_program/'\n",
    "from sys import path; path.append(model_dir); path.append(problem_dir); path.append(score_dir); \n",
    "%matplotlib inline\n",
    "# Uncomment the next lines to auto-reload libraries (this causes some problem with pickles in Python 3)\n",
    "%load_ext autoreload\n",
    "%autoreload 2\n",
    "import seaborn as sns; sns.set()\n",
    "import warnings\n",
    "warnings.simplefilter(action='ignore', category=FutureWarning)"
   ]
  },
  {
   "cell_type": "markdown",
   "metadata": {},
   "source": [
    "<div style=\"background:#000000\">\n",
    "    <h1> Step 1: Exploratory data analysis </h1>\n",
    "<p>\n",
    "We provide sample_data with the starting kit, but to prepare your submission, you must fetch the public_data from the challenge website and point to it.\n",
    "    <br>\n",
    "</div>"
   ]
  },
  {
   "cell_type": "code",
   "execution_count": 62,
   "metadata": {},
   "outputs": [
    {
     "name": "stdout",
     "output_type": "stream",
     "text": [
      "hadaca_feat1.name  hadaca_test.data\t hadaca_train.solution\n",
      "hadaca_feat.name   hadaca_test.solution  hadaca_valid.data\n",
      "hadaca_label.name  hadaca_train.data\t hadaca_valid.solution\n"
     ]
    }
   ],
   "source": [
    "data_dir = 'sample_data'              # Change this to the directory where you put the input data\n",
    "#data_dir = '../FILES/iris/'          # The sample_data directory should contain only a very small subset of the data\n",
    "data_name = 'hadaca'\n",
    "!ls $data_dir*\n",
    "# !dir $data_dir*                     # For Windows users"
   ]
  },
  {
   "cell_type": "markdown",
   "metadata": {},
   "source": [
    "For convenience, we load the data as a \"pandas\" data frame, so we can use \"pandas\" and \"seaborn\" built in functions to explore the data."
   ]
  },
  {
   "cell_type": "code",
   "execution_count": 64,
   "metadata": {},
   "outputs": [
    {
     "name": "stdout",
     "output_type": "stream",
     "text": [
      "Reading sample_data/hadaca_train from AutoML format\n",
      "Number of examples = 50\n",
      "Number of features = 1000\n",
      "          Class\n",
      "0      stage ib\n",
      "1      stage ia\n",
      "2       stage i\n",
      "3     stage iib\n",
      "4      stage iv\n",
      "5    stage iiia\n",
      "6  not reported\n",
      "7     stage iia\n",
      "8           Nan\n",
      "9    stage iiib\n",
      "Number of classes = 10\n"
     ]
    }
   ],
   "source": [
    "from data_io import read_as_df\n",
    "data = read_as_df(data_dir  + '/' + data_name)       # The data are loaded as a Pandas Data Frame\n",
    "# because we have a huge number of features wo only chose some for visualization\n",
    "data_slice = data.loc[:,data.columns.str.contains('^methyl_0$|^methyl_1$|^methyl_2$|^methyl_3$|^target$')]"
   ]
  },
  {
   "cell_type": "code",
   "execution_count": 65,
   "metadata": {},
   "outputs": [
    {
     "data": {
      "text/html": [
       "<div>\n",
       "<style scoped>\n",
       "    .dataframe tbody tr th:only-of-type {\n",
       "        vertical-align: middle;\n",
       "    }\n",
       "\n",
       "    .dataframe tbody tr th {\n",
       "        vertical-align: top;\n",
       "    }\n",
       "\n",
       "    .dataframe thead th {\n",
       "        text-align: right;\n",
       "    }\n",
       "</style>\n",
       "<table border=\"1\" class=\"dataframe\">\n",
       "  <thead>\n",
       "    <tr style=\"text-align: right;\">\n",
       "      <th></th>\n",
       "      <th>methyl_0</th>\n",
       "      <th>methyl_1</th>\n",
       "      <th>methyl_2</th>\n",
       "      <th>methyl_3</th>\n",
       "      <th>target</th>\n",
       "    </tr>\n",
       "  </thead>\n",
       "  <tbody>\n",
       "    <tr>\n",
       "      <th>0.329034</th>\n",
       "      <td>0.548483</td>\n",
       "      <td>0.407297</td>\n",
       "      <td>0.354840</td>\n",
       "      <td>0.400122</td>\n",
       "      <td>stage ia</td>\n",
       "    </tr>\n",
       "    <tr>\n",
       "      <th>0.229850</th>\n",
       "      <td>0.546777</td>\n",
       "      <td>0.245202</td>\n",
       "      <td>0.068834</td>\n",
       "      <td>0.088149</td>\n",
       "      <td>stage ib</td>\n",
       "    </tr>\n",
       "    <tr>\n",
       "      <th>0.097893</th>\n",
       "      <td>0.897030</td>\n",
       "      <td>0.506750</td>\n",
       "      <td>0.068069</td>\n",
       "      <td>0.549244</td>\n",
       "      <td>Nan</td>\n",
       "    </tr>\n",
       "    <tr>\n",
       "      <th>0.300153</th>\n",
       "      <td>0.460531</td>\n",
       "      <td>0.464640</td>\n",
       "      <td>0.426981</td>\n",
       "      <td>0.508997</td>\n",
       "      <td>stage ib</td>\n",
       "    </tr>\n",
       "    <tr>\n",
       "      <th>0.294985</th>\n",
       "      <td>0.433128</td>\n",
       "      <td>0.434060</td>\n",
       "      <td>0.151103</td>\n",
       "      <td>0.408560</td>\n",
       "      <td>stage iiib</td>\n",
       "    </tr>\n",
       "  </tbody>\n",
       "</table>\n",
       "</div>"
      ],
      "text/plain": [
       "          methyl_0  methyl_1  methyl_2  methyl_3      target\n",
       "0.329034  0.548483  0.407297  0.354840  0.400122    stage ia\n",
       "0.229850  0.546777  0.245202  0.068834  0.088149    stage ib\n",
       "0.097893  0.897030  0.506750  0.068069  0.549244         Nan\n",
       "0.300153  0.460531  0.464640  0.426981  0.508997    stage ib\n",
       "0.294985  0.433128  0.434060  0.151103  0.408560  stage iiib"
      ]
     },
     "execution_count": 65,
     "metadata": {},
     "output_type": "execute_result"
    }
   ],
   "source": [
    "data_slice.head()"
   ]
  },
  {
   "cell_type": "code",
   "execution_count": 66,
   "metadata": {},
   "outputs": [
    {
     "data": {
      "text/html": [
       "<div>\n",
       "<style scoped>\n",
       "    .dataframe tbody tr th:only-of-type {\n",
       "        vertical-align: middle;\n",
       "    }\n",
       "\n",
       "    .dataframe tbody tr th {\n",
       "        vertical-align: top;\n",
       "    }\n",
       "\n",
       "    .dataframe thead th {\n",
       "        text-align: right;\n",
       "    }\n",
       "</style>\n",
       "<table border=\"1\" class=\"dataframe\">\n",
       "  <thead>\n",
       "    <tr style=\"text-align: right;\">\n",
       "      <th></th>\n",
       "      <th>methyl_0</th>\n",
       "      <th>methyl_1</th>\n",
       "      <th>methyl_2</th>\n",
       "      <th>methyl_3</th>\n",
       "    </tr>\n",
       "  </thead>\n",
       "  <tbody>\n",
       "    <tr>\n",
       "      <th>count</th>\n",
       "      <td>50.000000</td>\n",
       "      <td>50.000000</td>\n",
       "      <td>50.000000</td>\n",
       "      <td>50.000000</td>\n",
       "    </tr>\n",
       "    <tr>\n",
       "      <th>mean</th>\n",
       "      <td>0.463971</td>\n",
       "      <td>0.415332</td>\n",
       "      <td>0.288422</td>\n",
       "      <td>0.264170</td>\n",
       "    </tr>\n",
       "    <tr>\n",
       "      <th>std</th>\n",
       "      <td>0.187972</td>\n",
       "      <td>0.182320</td>\n",
       "      <td>0.180807</td>\n",
       "      <td>0.208467</td>\n",
       "    </tr>\n",
       "    <tr>\n",
       "      <th>min</th>\n",
       "      <td>0.071852</td>\n",
       "      <td>0.072241</td>\n",
       "      <td>0.004914</td>\n",
       "      <td>0.045345</td>\n",
       "    </tr>\n",
       "    <tr>\n",
       "      <th>25%</th>\n",
       "      <td>0.293739</td>\n",
       "      <td>0.247211</td>\n",
       "      <td>0.142472</td>\n",
       "      <td>0.087243</td>\n",
       "    </tr>\n",
       "    <tr>\n",
       "      <th>50%</th>\n",
       "      <td>0.483418</td>\n",
       "      <td>0.460444</td>\n",
       "      <td>0.231822</td>\n",
       "      <td>0.169320</td>\n",
       "    </tr>\n",
       "    <tr>\n",
       "      <th>75%</th>\n",
       "      <td>0.592038</td>\n",
       "      <td>0.547587</td>\n",
       "      <td>0.429310</td>\n",
       "      <td>0.429504</td>\n",
       "    </tr>\n",
       "    <tr>\n",
       "      <th>max</th>\n",
       "      <td>0.897030</td>\n",
       "      <td>0.786504</td>\n",
       "      <td>0.697132</td>\n",
       "      <td>0.800506</td>\n",
       "    </tr>\n",
       "  </tbody>\n",
       "</table>\n",
       "</div>"
      ],
      "text/plain": [
       "        methyl_0   methyl_1   methyl_2   methyl_3\n",
       "count  50.000000  50.000000  50.000000  50.000000\n",
       "mean    0.463971   0.415332   0.288422   0.264170\n",
       "std     0.187972   0.182320   0.180807   0.208467\n",
       "min     0.071852   0.072241   0.004914   0.045345\n",
       "25%     0.293739   0.247211   0.142472   0.087243\n",
       "50%     0.483418   0.460444   0.231822   0.169320\n",
       "75%     0.592038   0.547587   0.429310   0.429504\n",
       "max     0.897030   0.786504   0.697132   0.800506"
      ]
     },
     "execution_count": 66,
     "metadata": {},
     "output_type": "execute_result"
    }
   ],
   "source": [
    "data_slice.describe() "
   ]
  },
  {
   "cell_type": "code",
   "execution_count": 67,
   "metadata": {},
   "outputs": [
    {
     "data": {
      "image/png": "[encoded data removed]",
      "text/plain": [
       "<Figure size 720x720 with 6 Axes>"
      ]
     },
     "metadata": {},
     "output_type": "display_data"
    }
   ],
   "source": [
    "data_slice.hist(figsize=(10, 10), bins=50, layout=(3, 2));"
   ]
  },
  {
   "cell_type": "code",
   "execution_count": 68,
   "metadata": {},
   "outputs": [
    {
     "data": {
      "text/plain": [
       "<seaborn.axisgrid.PairGrid at 0x7fe713287d30>"
      ]
     },
     "execution_count": 68,
     "metadata": {},
     "output_type": "execute_result"
    },
    {
     "data": {
      "image/png": "[encoded data removed]",
      "text/plain": [
       "<Figure size 829.35x720 with 20 Axes>"
      ]
     },
     "metadata": {},
     "output_type": "display_data"
    }
   ],
   "source": [
    "sns.pairplot(data_slice, hue=\"target\")"
   ]
  },
  {
   "cell_type": "markdown",
   "metadata": {},
   "source": [
    "<div style=\"background:#000000\">\n",
    "<h1>Step 2: Building a predictive model</h1>\n",
    "</div>"
   ]
  },
  {
   "cell_type": "markdown",
   "metadata": {},
   "source": [
    "<div style=\"background:#000000\">\n",
    "    <h2>Loading data with DataManager</h2>\n",
    "    <p>\n",
    "We reload the data with the AutoML DataManager class because this is more convenient:\n",
    "   <br>     \n",
    "</div>"
   ]
  },
  {
   "cell_type": "code",
   "execution_count": 69,
   "metadata": {},
   "outputs": [
    {
     "name": "stdout",
     "output_type": "stream",
     "text": [
      "Info file NOT found : /home/didou/myProjects/M2 AIC/project/project/starting_kit/sample_data/hadaca_public.info\n",
      "DataManager : hadaca\n",
      "info:\n",
      "\tusage = No Info File\n",
      "\tname = hadaca\n",
      "\tformat = dense\n",
      "\tis_sparse = 0\n",
      "\thas_categorical = 0\n",
      "\thas_missing = 0\n",
      "\ttarget_num = 1\n",
      "\tlabel_num = 0\n",
      "\ttask = regression\n",
      "\ttarget_type = Numerical\n",
      "\tmetric = r2_metric\n",
      "\tfeat_type = Mixed\n",
      "\tfeat_num = 1000\n",
      "\ttrain_num = 50\n",
      "\tvalid_num = 50\n",
      "\ttest_num = 50\n",
      "\ttime_budget = 600\n",
      "data:\n",
      "\tX_train = array(50, 1000)\n",
      "\tY_train = array(50,)\n",
      "\tX_valid = array(50, 1000)\n",
      "\tY_valid = array(50,)\n",
      "\tX_test = array(50, 1000)\n",
      "\tY_test = array(50,)\n",
      "feat_type:\tarray(1000,)\n",
      "feat_idx:\tarray(0,)\n",
      "\n"
     ]
    }
   ],
   "source": [
    "from data_manager import DataManager\n",
    "D = DataManager(data_name, data_dir, replace_missing=True)\n",
    "print(D)"
   ]
  },
  {
   "cell_type": "markdown",
   "metadata": {},
   "source": [
    "<div style=\"background:#000000\">\n",
    "    <h2>Training a predictive model</h2>\n",
    "    <p>\n",
    "We provide an example of predictive model (for classification or regression) in the `sample_code_submission/` directory. It is a quite stupid model: it makes constant predictions. Replace it with your own model.\n",
    "    </div>"
   ]
  },
  {
   "cell_type": "code",
   "execution_count": 70,
   "metadata": {},
   "outputs": [],
   "source": [
    "from data_io import write\n",
    "from model import model\n",
    "# Uncomment the next line to show the code of the model\n",
    "??model "
   ]
  },
  {
   "cell_type": "markdown",
   "metadata": {},
   "source": [
    "<div style=\"background:#000000\">\n",
    "an instance of the model (run the constructor) and attempt to reload a previously saved version from `sample_code_submission/`:\n",
    "    \n",
    "</div>"
   ]
  },
  {
   "cell_type": "code",
   "execution_count": 71,
   "metadata": {},
   "outputs": [],
   "source": [
    "M = model()\n",
    "trained_model_name = model_dir + data_name\n",
    "# Uncomment the next line to re-load an already trained model\n",
    "#M = M.load(trained_model_name)                  "
   ]
  },
  {
   "cell_type": "markdown",
   "metadata": {},
   "source": [
    "<div style=\"background:#FFFFAA\">\n",
    "    Train the model (unless you reloaded a trained model) and make predictions. \n",
    "</div>"
   ]
  },
  {
   "cell_type": "code",
   "execution_count": 72,
   "metadata": {},
   "outputs": [
    {
     "name": "stdout",
     "output_type": "stream",
     "text": [
      "FIT: dim(X)= [50, 1000]\n",
      "FIT: dim(y)= [50, 1]\n",
      "PREDICT: dim(X)= [50, 1000]\n",
      "PREDICT: dim(y)= [50, 1]\n",
      "PREDICT: dim(X)= [50, 1000]\n",
      "PREDICT: dim(y)= [50, 1]\n",
      "PREDICT: dim(X)= [50, 1000]\n",
      "PREDICT: dim(y)= [50, 1]\n"
     ]
    }
   ],
   "source": [
    "if not(M.is_trained):\n",
    "    X_train = D.data['X_train']\n",
    "    Y_train = D.data['Y_train']\n",
    "    M.fit(X_train, Y_train)                     \n",
    "\n",
    "Y_hat_train = M.predict(D.data['X_train']) # Optional, not really needed to test on taining examples\n",
    "Y_hat_valid = M.predict(D.data['X_valid'])\n",
    "Y_hat_test = M.predict(D.data['X_test'])"
   ]
  },
  {
   "cell_type": "markdown",
   "metadata": {},
   "source": [
    "<div style=\"background:#000000\">\n",
    "    <b> Save the trained model </b> (will be ready to reload next time around) and save the prediction results. IMPORTANT: if you save the trained model, it will be bundled with your sample code submission. Therefore your model will NOT be retrained on the challenge platform. Remove the pickle from the submission if you want the model to be retrained on the platform.\n",
    "</div>"
   ]
  },
  {
   "cell_type": "code",
   "execution_count": 73,
   "metadata": {},
   "outputs": [
    {
     "name": "stdout",
     "output_type": "stream",
     "text": [
      "sample_result_submission/hadaca_test.predict\n",
      "sample_result_submission/hadaca_train.predict\n",
      "sample_result_submission/hadaca_valid.predict\n"
     ]
    }
   ],
   "source": [
    "M.save(trained_model_name)                 \n",
    "result_name = result_dir + data_name\n",
    "from data_io import write\n",
    "write(result_name + '_train.predict', Y_hat_train)\n",
    "write(result_name + '_valid.predict', Y_hat_valid)\n",
    "write(result_name + '_test.predict', Y_hat_test)\n",
    "!ls $result_name*"
   ]
  },
  {
   "cell_type": "markdown",
   "metadata": {},
   "source": [
    "<div style=\"background:#000000\">\n",
    "    <h2>Scoring the results</h2>\n",
    "    <h3>Load the challenge metric</h3>\n",
    "    <p>\n",
    "<b>The metric chosen for your challenge</b> is identified in the \"metric.txt\" file found in the `scoring_function/` directory. The function \"get_metric\" searches first for a metric having that name in my_metric.py, then in libscores.py, then in sklearn.metric.\n",
    "    </div>"
   ]
  },
  {
   "cell_type": "code",
   "execution_count": 74,
   "metadata": {},
   "outputs": [
    {
     "name": "stdout",
     "output_type": "stream",
     "text": [
      "Using scoring metric: accuracy_score\n"
     ]
    }
   ],
   "source": [
    "from libscores import get_metric\n",
    "metric_name, scoring_function = get_metric()\n",
    "print('Using scoring metric:', metric_name)\n",
    "# Uncomment the next line to display the code of the scoring metric\n",
    "#??scoring_function"
   ]
  },
  {
   "cell_type": "markdown",
   "metadata": {},
   "source": [
    "<div style=\"background:#000000\">\n",
    "    <h3> Training performance </h3>\n",
    "    <p>\n",
    "The participants normally posess target values (labels) only for training examples (except for the sample data). We compute with the `example` metric the training score, which should be zero for perfect predictions.\n",
    "        </div>"
   ]
  },
  {
   "cell_type": "code",
   "execution_count": 75,
   "metadata": {},
   "outputs": [
    {
     "name": "stdout",
     "output_type": "stream",
     "text": [
      "Training score for the accuracy_score metric = 0.2800\n",
      "Ideal score for the accuracy_score metric = 1.0000\n"
     ]
    }
   ],
   "source": [
    "print('Training score for the', metric_name, 'metric = %5.4f' % scoring_function(Y_train, Y_hat_train))\n",
    "print('Ideal score for the', metric_name, 'metric = %5.4f' % scoring_function(Y_train, Y_train))"
   ]
  },
  {
   "cell_type": "markdown",
   "metadata": {},
   "source": [
    "You can add here other scores and result visualization."
   ]
  },
  {
   "cell_type": "code",
   "execution_count": 76,
   "metadata": {},
   "outputs": [
    {
     "data": {
      "text/plain": [
       "array([[14,  0,  0,  0,  0,  0,  0,  0,  0],\n",
       "       [12,  0,  0,  0,  0,  0,  0,  0,  0],\n",
       "       [ 3,  0,  0,  0,  0,  0,  0,  0,  0],\n",
       "       [ 2,  0,  0,  0,  0,  0,  0,  0,  0],\n",
       "       [ 7,  0,  0,  0,  0,  0,  0,  0,  0],\n",
       "       [ 2,  0,  0,  0,  0,  0,  0,  0,  0],\n",
       "       [ 4,  0,  0,  0,  0,  0,  0,  0,  0],\n",
       "       [ 4,  0,  0,  0,  0,  0,  0,  0,  0],\n",
       "       [ 2,  0,  0,  0,  0,  0,  0,  0,  0]])"
      ]
     },
     "execution_count": 76,
     "metadata": {},
     "output_type": "execute_result"
    }
   ],
   "source": [
    "from sklearn.metrics import confusion_matrix\n",
    "confusion_matrix(Y_train, Y_hat_train)"
   ]
  },
  {
   "cell_type": "markdown",
   "metadata": {},
   "source": [
    "<div style=\"background:#000000\">\n",
    "    <h3>Cross-validation performance</h3>\n",
    "    <p>\n",
    "The participants do not have access to the labels Y_valid and Y_test to self-assess their validation and test performances. But training performance is not a good prediction of validation or test performance. Using cross-validation, the training data is split into multiple training/test folds, which allows participants to self-assess their model during development. The average CV result and 95% confidence interval is displayed.\n",
    "   </div>"
   ]
  },
  {
   "cell_type": "code",
   "execution_count": 77,
   "metadata": {},
   "outputs": [
    {
     "name": "stdout",
     "output_type": "stream",
     "text": [
      "FIT: dim(X)= [40, 1000]\n",
      "FIT: dim(y)= [40, 1]\n",
      "PREDICT: dim(X)= [10, 1000]\n",
      "PREDICT: dim(y)= [10, 1]\n",
      "FIT: dim(X)= [40, 1000]\n",
      "FIT: dim(y)= [40, 1]\n",
      "PREDICT: dim(X)= [10, 1000]\n",
      "PREDICT: dim(y)= [10, 1]\n",
      "FIT: dim(X)= [40, 1000]\n",
      "FIT: dim(y)= [40, 1]\n",
      "PREDICT: dim(X)= [10, 1000]\n",
      "PREDICT: dim(y)= [10, 1]\n",
      "FIT: dim(X)= [40, 1000]\n",
      "FIT: dim(y)= [40, 1]\n",
      "PREDICT: dim(X)= [10, 1000]\n",
      "PREDICT: dim(y)= [10, 1]\n",
      "FIT: dim(X)= [40, 1000]\n",
      "FIT: dim(y)= [40, 1]\n",
      "PREDICT: dim(X)= [10, 1000]\n",
      "PREDICT: dim(y)= [10, 1]\n",
      "\n",
      "CV score (95 perc. CI): 0.28 (+/- 0.27)\n"
     ]
    }
   ],
   "source": [
    "from sklearn.metrics import make_scorer\n",
    "from sklearn.model_selection import cross_val_score\n",
    "scores = cross_val_score(M, X_train, Y_train, cv=5, scoring=make_scorer(scoring_function))\n",
    "print('\\nCV score (95 perc. CI): %0.2f (+/- %0.2f)' % (scores.mean(), scores.std() * 2))"
   ]
  },
  {
   "cell_type": "markdown",
   "metadata": {},
   "source": [
    "<div style=\"background:#000000\">\n",
    "<h1> Step 3: Making a submission </h1> \n",
    "\n",
    "<h2> Unit testing </h2> \n",
    "\n",
    "It is <b><span style=\"color:red\">important that you test your submission files before submitting them</span></b>. All you have to do to make a submission is modify the file <code>model.py</code> in the <code>sample_code_submission/</code> directory, then run this test to make sure everything works fine. This is the actual program that will be run on the server to test your submission. \n",
    "<br>\n",
    "Keep the sample code simple.\n",
    "</div>"
   ]
  },
  {
   "cell_type": "code",
   "execution_count": 78,
   "metadata": {
    "scrolled": true
   },
   "outputs": [
    {
     "name": "stdout",
     "output_type": "stream",
     "text": [
      "Using input_dir: /home/didou/myProjects/M2 AIC/project/project/starting_kit/sample_data\n",
      "Using output_dir: /home/didou/myProjects/M2 AIC/project/project/starting_kit/sample_result_submission\n",
      "Using program_dir: /home/didou/myProjects/M2 AIC/project/project/starting_kit/ingestion_program\n",
      "Using submission_dir: /home/didou/myProjects/M2 AIC/project/project/starting_kit/sample_code_submission\n",
      "/usr/lib/python3.7/site-packages/sklearn/externals/joblib/externals/cloudpickle/cloudpickle.py:47: DeprecationWarning: the imp module is deprecated in favour of importlib; see the module's documentation for alternative uses\n",
      "  import imp\n",
      "\n",
      "========== Ingestion program version 6 ==========\n",
      "\n",
      "************************************************\n",
      "******** Processing dataset Hadaca ********\n",
      "************************************************\n",
      "========= Reading and converting data ==========\n",
      "Info file NOT found : /home/didou/myProjects/M2 AIC/project/project/starting_kit/sample_data/hadaca_public.info\n",
      "========= Reading /home/didou/myProjects/M2 AIC/project/project/starting_kit/sample_data/hadaca_feat.type\n",
      "[+] Success in  0.00 sec\n",
      "========= Reading /home/didou/myProjects/M2 AIC/project/project/starting_kit/sample_data/hadaca_train.data\n",
      "Replace missing values by 0 (slow, sorry)\n",
      "[+] Success in  0.04 sec\n",
      "========= Reading /home/didou/myProjects/M2 AIC/project/project/starting_kit/sample_data/hadaca_train.solution\n",
      "[+] Success in  0.00 sec\n",
      "========= Reading /home/didou/myProjects/M2 AIC/project/project/starting_kit/sample_data/hadaca_valid.data\n",
      "Replace missing values by 0 (slow, sorry)\n",
      "[+] Success in  0.03 sec\n",
      "========= Reading /home/didou/myProjects/M2 AIC/project/project/starting_kit/sample_data/hadaca_valid.solution\n",
      "[+] Success in  0.00 sec\n",
      "========= Reading /home/didou/myProjects/M2 AIC/project/project/starting_kit/sample_data/hadaca_test.data\n",
      "Replace missing values by 0 (slow, sorry)\n",
      "[+] Success in  0.03 sec\n",
      "========= Reading /home/didou/myProjects/M2 AIC/project/project/starting_kit/sample_data/hadaca_test.solution\n",
      "[+] Success in  0.00 sec\n",
      "DataManager : hadaca\n",
      "info:\n",
      "\tusage = No Info File\n",
      "\tname = hadaca\n",
      "\tformat = dense\n",
      "\tis_sparse = 0\n",
      "\thas_categorical = 0\n",
      "\thas_missing = 0\n",
      "\ttarget_num = 1\n",
      "\tlabel_num = 0\n",
      "\ttask = regression\n",
      "\ttarget_type = Numerical\n",
      "\tmetric = r2_metric\n",
      "\tfeat_type = Mixed\n",
      "\tfeat_num = 1000\n",
      "\ttrain_num = 50\n",
      "\tvalid_num = 50\n",
      "\ttest_num = 50\n",
      "\ttime_budget = 600\n",
      "data:\n",
      "\tX_train = array(50, 1000)\n",
      "\tY_train = array(50,)\n",
      "\tX_valid = array(50, 1000)\n",
      "\tY_valid = array(50,)\n",
      "\tX_test = array(50, 1000)\n",
      "\tY_test = array(50,)\n",
      "feat_type:\tarray(1000,)\n",
      "feat_idx:\tarray(1000,)\n",
      "\n",
      "[+] Size of uploaded data  56.00 bytes\n",
      "[+] Cumulated time budget (all tasks so far)  600.00 sec\n",
      "[+] Time budget for this task 600.00 sec\n",
      "[+] Remaining time after reading data 599.88 sec\n",
      "======== Creating model ==========\n",
      "**********************************************************\n",
      "****** Attempting to reload model to avoid training ******\n",
      "**********************************************************\n",
      "Model reloaded from: /home/didou/myProjects/M2 AIC/project/project/starting_kit/sample_code_submission/hadaca_model.pickle\n",
      "[+] Model reloaded, no need to train!\n",
      "PREDICT: dim(X)= [50, 1000]\n",
      "PREDICT: dim(y)= [50, 1]\n",
      "PREDICT: dim(X)= [50, 1000]\n",
      "PREDICT: dim(y)= [50, 1]\n",
      "PREDICT: dim(X)= [50, 1000]\n",
      "PREDICT: dim(y)= [50, 1]\n",
      "[+] Prediction success, time spent so far  0.12 sec\n",
      "======== Saving results to: /home/didou/myProjects/M2 AIC/project/project/starting_kit/sample_result_submission\n",
      "[+] Results saved, time spent so far  0.12 sec\n",
      "[+] End cycle, time left 599.88 sec\n",
      "[+] Done\n",
      "[+] Overall time spent  9.03 sec ::  Overall time budget 600.00 sec\n"
     ]
    }
   ],
   "source": [
    "!python $problem_dir/ingestion.py $data_dir $result_dir $problem_dir $model_dir"
   ]
  },
  {
   "cell_type": "markdown",
   "metadata": {},
   "source": [
    "<div style=\"background:#000000\">\n",
    "Also test the scoring program:\n",
    "    </div>"
   ]
  },
  {
   "cell_type": "code",
   "execution_count": 79,
   "metadata": {},
   "outputs": [
    {
     "name": "stdout",
     "output_type": "stream",
     "text": [
      "/usr/lib/python3.7/site-packages/sklearn/externals/joblib/externals/cloudpickle/cloudpickle.py:47: DeprecationWarning: the imp module is deprecated in favour of importlib; see the module's documentation for alternative uses\n",
      "  import imp\n",
      "======= Set 1 (Hadaca_test): accuracy_score(set1_score)=0.340000000000 =======\n",
      "======= Set 2 (Hadaca_train): accuracy_score(set2_score)=0.280000000000 =======\n",
      "======= Set 3 (Hadaca_valid): accuracy_score(set3_score)=0.300000000000 =======\n"
     ]
    }
   ],
   "source": [
    "scoring_output_dir = 'scoring_output'\n",
    "!python $score_dir/score.py $data_dir $result_dir $scoring_output_dir"
   ]
  },
  {
   "cell_type": "markdown",
   "metadata": {},
   "source": [
    "<div style=\"background:#000000\">\n",
    "    <h1> Preparing the submission </h1>\n",
    "\n",
    "Zip the contents of `sample_code_submission/` (without the directory), or download the challenge public_data and run the command in the previous cell, after replacing sample_data by public_data.\n",
    "Then zip the contents of `sample_result_submission/` (without the directory).\n",
    "<b><span style=\"color:red\">Do NOT zip the data with your submissions</span></b>."
   ]
  },
  {
   "cell_type": "code",
   "execution_count": 80,
   "metadata": {},
   "outputs": [
    {
     "name": "stdout",
     "output_type": "stream",
     "text": [
      "Submit one of these files:\n",
      "sample_code_submission_18-11-21-19-59.zip\n",
      "sample_result_submission_18-11-21-19-59.zip\n"
     ]
    }
   ],
   "source": [
    "import datetime \n",
    "from data_io import zipdir\n",
    "the_date = datetime.datetime.now().strftime(\"%y-%m-%d-%H-%M\")\n",
    "sample_code_submission = 'sample_code_submission_' + the_date + '.zip'\n",
    "sample_result_submission = 'sample_result_submission_' + the_date + '.zip'\n",
    "zipdir(sample_code_submission, model_dir)\n",
    "zipdir(sample_result_submission, result_dir)\n",
    "print(\"Submit one of these files:\\n\" + sample_code_submission + \"\\n\" + sample_result_submission)"
   ]
  }
 ],
 "metadata": {
  "kernelspec": {
   "display_name": "Python 3",
   "language": "python",
   "name": "python3"
  },
  "language_info": {
   "codemirror_mode": {
    "name": "ipython",
    "version": 3
   },
   "file_extension": ".py",
   "mimetype": "text/x-python",
   "name": "python",
   "nbconvert_exporter": "python",
   "pygments_lexer": "ipython3",
   "version": "3.6.5"
  }
 },
 "nbformat": 4,
 "nbformat_minor": 2
}
