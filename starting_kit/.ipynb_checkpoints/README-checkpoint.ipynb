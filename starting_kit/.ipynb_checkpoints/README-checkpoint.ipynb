{
 "cells": [
  {
   "cell_type": "markdown",
   "metadata": {},
   "source": [
    "![Image of Yaktocat](logo.jpg)\n",
    "\n",
    "# Sample Starting Kit\n",
    "# HADACA: Identifying cancer stages based on tumor heterogeneity\n",
    "\n",
    "## Multiclass classification using a factorized methylation matrix\n",
    "\n",
    "This code was tested with\n",
    "Python 3.6.6 - Anaconda custom (64-bit) - (default, Jun 28 2018, 11:07:29) (https://anaconda.org/)\n",
    "\n",
    "<i> Adapted for Chalab by Isabelle Guyon from original code of Balázs Kégl</i>\n",
    "<a href=\"http://www.datascience-paris-saclay.fr\">Paris Saclay Center for Data Science (CDS)</a>\n",
    "\n",
    "ALL INFORMATION, SOFTWARE, DOCUMENTATION, AND DATA ARE PROVIDED \"AS-IS\". The CDS, CHALEARN, AND/OR OTHER ORGANIZERS OR CODE AUTHORS DISCLAIM ANY EXPRESSED OR IMPLIED WARRANTIES, INCLUDING, BUT NOT LIMITED TO, THE IMPLIED WARRANTIES OF MERCHANTABILITY AND FITNESS FOR ANY PARTICULAR PURPOSE, AND THE WARRANTY OF NON-INFRIGEMENT OF ANY THIRD PARTY'S INTELLECTUAL PROPERTY RIGHTS. IN NO EVENT SHALL AUTHORS AND ORGANIZERS BE LIABLE FOR ANY SPECIAL, \n",
    "INDIRECT OR CONSEQUENTIAL DAMAGES OR ANY DAMAGES WHATSOEVER ARISING OUT OF OR IN CONNECTION WITH THE USE OR PERFORMANCE OF SOFTWARE, DOCUMENTS, MATERIALS, PUBLICATIONS, OR INFORMATION MADE AVAILABLE FOR THE CHALLENGE."
   ]
  },
  {
   "cell_type": "markdown",
   "metadata": {},
   "source": [
    "<div>\n",
    "    <h2>Introduction </h2>\n",
    "    <p>\n",
    "This dataset is a small set of patients which have been diagnotised at different stages of cancer. Your task is to improve the classification results regarding the stages of those patients (read the whole notebook for details). The data is a matrix of <i>(number of patients) lines * (number of features per patient) columns </i>. The features correspond to methylation information related to the medical condition of each patient.\n",
    "    </p>\n",
    "</div>"
   ]
  },
  {
   "cell_type": "markdown",
   "metadata": {},
   "source": [
    "# Table of contents\n",
    "\n",
    "## Step 1: Exploratory data analysis\n",
    "\n",
    "Understand the data, represented by the matrix D, which you will use to get another matrix with smaller dimensions to achieve a classification in cancer stages in Step 2 (check associated cells for additional details).\n",
    "\n",
    "## Step 2: Building a predictive model\n",
    "Experimenting with a little data sample and a weak baseline model to understand your task. Note that the factorization is already done in /sample_code_submission/model.py and that the poor results depicted in the confusion matrix are normal for so few data in training (check associated cells for additional details).\n",
    "### 2.1) Training a predictive model after the factorization\n",
    "### 2.2) Results\n",
    "### 2.3) Factorization example and associated evaluation with RMSE\n",
    "## Step 3: Making a submission\n",
    "\n",
    "\n"
   ]
  },
  {
   "cell_type": "code",
   "execution_count": 30,
   "metadata": {},
   "outputs": [
    {
     "name": "stdout",
     "output_type": "stream",
     "text": [
      "The autoreload extension is already loaded. To reload it, use:\n",
      "  %reload_ext autoreload\n"
     ]
    }
   ],
   "source": [
    "import matplotlib.pyplot as plt\n",
    "import pandas as pd\n",
    "\n",
    "model_dir = 'sample_code_submission/'                        # Change the model to a better one once you have one!\n",
    "#model_dir = '../FILES/pretty_good_sample_code_submission/'\n",
    "result_dir = 'sample_result_submission/' \n",
    "problem_dir = 'ingestion_program/'  \n",
    "score_dir = 'scoring_program/'\n",
    "from sys import path; path.append(model_dir); path.append(problem_dir); path.append(score_dir); \n",
    "%matplotlib inline\n",
    "# Uncomment the next lines to auto-reload libraries (this causes some problem with pickles in Python 3)\n",
    "%load_ext autoreload\n",
    "%autoreload 2\n",
    "import seaborn as sns; sns.set()\n",
    "import warnings\n",
    "warnings.simplefilter(action='ignore', category=FutureWarning)"
   ]
  },
  {
   "cell_type": "markdown",
   "metadata": {},
   "source": [
    "<div >\n",
    "    <h1> Step 1: Exploratory data analysis </h1>\n",
    "<p>\n",
    "We provide sample_data with the starting kit to make this notebook work and illustrative, but to prepare your submission and realize actual experiments, you must fetch the public_data from the challenge website. Only using the whole training set, you will be able to achieve interesting classification results, and eventually improve our weak baseline.\n",
    "</p>\n",
    "</div>"
   ]
  },
  {
   "cell_type": "code",
   "execution_count": 31,
   "metadata": {},
   "outputs": [
    {
     "name": "stdout",
     "output_type": "stream",
     "text": [
      "/bin/sh: dir: command not found\r\n"
     ]
    }
   ],
   "source": [
    "data_dir = 'sample_data'              # Change this to the directory where you put the input data\n",
    "#data_dir = '../FILES/iris/'          # The sample_data directory should contain only a very small subset of the data\n",
    "data_name = 'hadaca'\n",
    "#!ls $data_dir*\n",
    "!dir $data_dir*                     # For Windows users"
   ]
  },
  {
   "cell_type": "markdown",
   "metadata": {},
   "source": [
    "For convenience, we load the data as a \"pandas\" data frame, so we can use \"pandas\" and \"seaborn\" built in functions to explore the data."
   ]
  },
  {
   "cell_type": "code",
   "execution_count": 32,
   "metadata": {},
   "outputs": [
    {
     "name": "stdout",
     "output_type": "stream",
     "text": [
      "Reading sample_data/hadaca_train from AutoML format\n",
      "Number of examples = 100\n",
      "Number of features = 5000\n",
      "          Class\n",
      "0      stage ib\n",
      "1      stage ia\n",
      "2       stage i\n",
      "3     stage iib\n",
      "4      stage iv\n",
      "5    stage iiia\n",
      "6  not reported\n",
      "7     stage iia\n",
      "8           Nan\n",
      "9    stage iiib\n",
      "Number of classes = 10\n"
     ]
    },
    {
     "data": {
      "image/png": "[encoded data removed]",
      "text/plain": [
       "<matplotlib.figure.Figure at 0x1a1f807748>"
      ]
     },
     "metadata": {},
     "output_type": "display_data"
    }
   ],
   "source": [
    "from data_io import read_as_df\n",
    "data = read_as_df(data_dir  + '/' + data_name)       # The data are loaded as a Pandas Data Frame\n",
    "# because we have a huge number of features wo only chose some for visualization\n",
    "# We use PCA in order to reduce the dimension\n",
    "# We only use 2 principal components\n",
    "from sklearn.decomposition import PCA\n",
    "data_slice = PCA(n_components=2).fit_transform(data.loc[:,~data.columns.str.contains('^target$')].values)\n",
    "target_revers_index = {value: key for key, value in enumerate(set(data['target'].values))}\n",
    "plt.scatter(data_slice[:,0], data_slice[:,1], c=[target_revers_index[t] for t in data['target'].values], s=100)\n",
    "data_slice = pd.DataFrame({'component_1':data_slice[:,0],'component_2':data_slice[:,1], 'target':data['target'].values})"
   ]
  },
  {
   "cell_type": "code",
   "execution_count": 33,
   "metadata": {},
   "outputs": [
    {
     "data": {
      "text/html": [
       "<div>\n",
       "<style>\n",
       "    .dataframe thead tr:only-child th {\n",
       "        text-align: right;\n",
       "    }\n",
       "\n",
       "    .dataframe thead th {\n",
       "        text-align: left;\n",
       "    }\n",
       "\n",
       "    .dataframe tbody tr th {\n",
       "        vertical-align: top;\n",
       "    }\n",
       "</style>\n",
       "<table border=\"1\" class=\"dataframe\">\n",
       "  <thead>\n",
       "    <tr style=\"text-align: right;\">\n",
       "      <th></th>\n",
       "      <th>component_1</th>\n",
       "      <th>component_2</th>\n",
       "      <th>target</th>\n",
       "    </tr>\n",
       "  </thead>\n",
       "  <tbody>\n",
       "    <tr>\n",
       "      <th>0</th>\n",
       "      <td>6.428927</td>\n",
       "      <td>-2.090840</td>\n",
       "      <td>stage ib</td>\n",
       "    </tr>\n",
       "    <tr>\n",
       "      <th>1</th>\n",
       "      <td>-0.976435</td>\n",
       "      <td>1.917485</td>\n",
       "      <td>stage ib</td>\n",
       "    </tr>\n",
       "    <tr>\n",
       "      <th>2</th>\n",
       "      <td>3.209365</td>\n",
       "      <td>-4.351128</td>\n",
       "      <td>stage ib</td>\n",
       "    </tr>\n",
       "    <tr>\n",
       "      <th>3</th>\n",
       "      <td>0.708326</td>\n",
       "      <td>3.226245</td>\n",
       "      <td>stage ib</td>\n",
       "    </tr>\n",
       "    <tr>\n",
       "      <th>4</th>\n",
       "      <td>0.192163</td>\n",
       "      <td>-0.453881</td>\n",
       "      <td>stage ib</td>\n",
       "    </tr>\n",
       "  </tbody>\n",
       "</table>\n",
       "</div>"
      ],
      "text/plain": [
       "   component_1  component_2    target\n",
       "0     6.428927    -2.090840  stage ib\n",
       "1    -0.976435     1.917485  stage ib\n",
       "2     3.209365    -4.351128  stage ib\n",
       "3     0.708326     3.226245  stage ib\n",
       "4     0.192163    -0.453881  stage ib"
      ]
     },
     "execution_count": 33,
     "metadata": {},
     "output_type": "execute_result"
    }
   ],
   "source": [
    "data_slice.head()"
   ]
  },
  {
   "cell_type": "code",
   "execution_count": 34,
   "metadata": {},
   "outputs": [
    {
     "data": {
      "text/plain": [
       "{'Nan',\n",
       " 'not reported',\n",
       " 'stage i',\n",
       " 'stage ia',\n",
       " 'stage ib',\n",
       " 'stage iia',\n",
       " 'stage iib',\n",
       " 'stage iiia',\n",
       " 'stage iiib',\n",
       " 'stage iv'}"
      ]
     },
     "execution_count": 34,
     "metadata": {},
     "output_type": "execute_result"
    }
   ],
   "source": [
    "set(list(data_slice.target))"
   ]
  },
  {
   "cell_type": "code",
   "execution_count": 35,
   "metadata": {},
   "outputs": [
    {
     "data": {
      "text/html": [
       "<div>\n",
       "<style>\n",
       "    .dataframe thead tr:only-child th {\n",
       "        text-align: right;\n",
       "    }\n",
       "\n",
       "    .dataframe thead th {\n",
       "        text-align: left;\n",
       "    }\n",
       "\n",
       "    .dataframe tbody tr th {\n",
       "        vertical-align: top;\n",
       "    }\n",
       "</style>\n",
       "<table border=\"1\" class=\"dataframe\">\n",
       "  <thead>\n",
       "    <tr style=\"text-align: right;\">\n",
       "      <th></th>\n",
       "      <th>component_1</th>\n",
       "      <th>component_2</th>\n",
       "    </tr>\n",
       "  </thead>\n",
       "  <tbody>\n",
       "    <tr>\n",
       "      <th>count</th>\n",
       "      <td>1.000000e+02</td>\n",
       "      <td>1.000000e+02</td>\n",
       "    </tr>\n",
       "    <tr>\n",
       "      <th>mean</th>\n",
       "      <td>1.065814e-16</td>\n",
       "      <td>3.039236e-17</td>\n",
       "    </tr>\n",
       "    <tr>\n",
       "      <th>std</th>\n",
       "      <td>5.215416e+00</td>\n",
       "      <td>3.137966e+00</td>\n",
       "    </tr>\n",
       "    <tr>\n",
       "      <th>min</th>\n",
       "      <td>-1.104494e+01</td>\n",
       "      <td>-5.862048e+00</td>\n",
       "    </tr>\n",
       "    <tr>\n",
       "      <th>25%</th>\n",
       "      <td>-2.403687e+00</td>\n",
       "      <td>-2.364625e+00</td>\n",
       "    </tr>\n",
       "    <tr>\n",
       "      <th>50%</th>\n",
       "      <td>5.848421e-01</td>\n",
       "      <td>-5.548595e-01</td>\n",
       "    </tr>\n",
       "    <tr>\n",
       "      <th>75%</th>\n",
       "      <td>3.220584e+00</td>\n",
       "      <td>1.842550e+00</td>\n",
       "    </tr>\n",
       "    <tr>\n",
       "      <th>max</th>\n",
       "      <td>1.245374e+01</td>\n",
       "      <td>1.018061e+01</td>\n",
       "    </tr>\n",
       "  </tbody>\n",
       "</table>\n",
       "</div>"
      ],
      "text/plain": [
       "        component_1   component_2\n",
       "count  1.000000e+02  1.000000e+02\n",
       "mean   1.065814e-16  3.039236e-17\n",
       "std    5.215416e+00  3.137966e+00\n",
       "min   -1.104494e+01 -5.862048e+00\n",
       "25%   -2.403687e+00 -2.364625e+00\n",
       "50%    5.848421e-01 -5.548595e-01\n",
       "75%    3.220584e+00  1.842550e+00\n",
       "max    1.245374e+01  1.018061e+01"
      ]
     },
     "execution_count": 35,
     "metadata": {},
     "output_type": "execute_result"
    }
   ],
   "source": [
    "data_slice.describe() "
   ]
  },
  {
   "cell_type": "code",
   "execution_count": 36,
   "metadata": {},
   "outputs": [
    {
     "data": {
      "image/png": "[encoded data removed]",
      "text/plain": [
       "<matplotlib.figure.Figure at 0x1a1f75cb38>"
      ]
     },
     "metadata": {},
     "output_type": "display_data"
    }
   ],
   "source": [
    "data_slice.hist(figsize=(10, 10), bins=50, layout=(3, 2));"
   ]
  },
  {
   "cell_type": "code",
   "execution_count": 37,
   "metadata": {},
   "outputs": [
    {
     "data": {
      "text/plain": [
       "<seaborn.axisgrid.PairGrid at 0x1a1d564b38>"
      ]
     },
     "execution_count": 37,
     "metadata": {},
     "output_type": "execute_result"
    },
    {
     "data": {
      "image/png": "[encoded data removed]",
      "text/plain": [
       "<matplotlib.figure.Figure at 0x1a1d6da2e8>"
      ]
     },
     "metadata": {},
     "output_type": "display_data"
    }
   ],
   "source": [
    "sns.pairplot(data_slice, hue=\"target\")"
   ]
  },
  {
   "cell_type": "markdown",
   "metadata": {},
   "source": [
    "<div>\n",
    "<h1>Step 2: Building a predictive model</h1>\n",
    "</div>"
   ]
  },
  {
   "cell_type": "markdown",
   "metadata": {},
   "source": [
    "## 2.1) Training a predictive model after the factorization\n",
    "\n",
    "The factorization of the original data matrix D is already realized in the model.py (cf. \"from model import model\"). A cell at the end of this notebook still shows how we accomplish this factorization, and suggests RMSE to observe the quality of this operation.\n",
    "\n",
    "Note that the factorization is fundamental if you want to be able to compute your classification on your laptop. **This factorization projects the 5000 original features of the initial matrix D in n_components (parameter of the TruncatedSVD function), which makes the data used for model training substantially smaller.** If for some reason you still want to heat up your laptop, feel free to try the classification directly on the initial D matrix :p !"
   ]
  },
  {
   "cell_type": "code",
   "execution_count": 38,
   "metadata": {},
   "outputs": [
    {
     "name": "stdout",
     "output_type": "stream",
     "text": [
      "Info file found : /Users/lucgibaud/Desktop/HADACA/starting_kit/sample_data/hadaca_public.info\n"
     ]
    }
   ],
   "source": [
    "from data_manager import DataManager\n",
    "D = DataManager(data_name, data_dir, replace_missing=True)"
   ]
  },
  {
   "cell_type": "markdown",
   "metadata": {},
   "source": [
    "Note that the model provided for this notebook (and used in the cell below) isn't optimized in order to return the best possible results, this is your data scientist mission ! **As such, you should think about changing parameters and models, be creative ! Your contribution to this task is to modify the /sample_code_submission/model.py source code to get the best possible results according to the chosen metrics** (see the end of this notebook)."
   ]
  },
  {
   "cell_type": "code",
   "execution_count": 39,
   "metadata": {
    "collapsed": true
   },
   "outputs": [],
   "source": [
    "from model import model\n",
    "M1 = model()\n",
    "trained_model_name = model_dir + data_name\n",
    "# Uncomment the next line to re-load an already trained model\n",
    "#M = M.load(trained_model_name)           "
   ]
  },
  {
   "cell_type": "code",
   "execution_count": 40,
   "metadata": {},
   "outputs": [
    {
     "name": "stdout",
     "output_type": "stream",
     "text": [
      "FIT: dim(X)= [100, 10]\n",
      "FIT: dim(y)= [100, 1]\n",
      "PREDICT: dim(X)= [100, 10]\n",
      "PREDICT: dim(y)= [100, 1]\n",
      "PREDICT: dim(X)= [100, 10]\n",
      "PREDICT: dim(y)= [100, 1]\n",
      "PREDICT: dim(X)= [100, 10]\n",
      "PREDICT: dim(y)= [100, 1]\n"
     ]
    },
    {
     "name": "stderr",
     "output_type": "stream",
     "text": [
      "/anaconda3/lib/python3.6/site-packages/sklearn/utils/validation.py:578: DataConversionWarning: A column-vector y was passed when a 1d array was expected. Please change the shape of y to (n_samples, ), for example using ravel().\n",
      "  y = column_or_1d(y, warn=True)\n"
     ]
    }
   ],
   "source": [
    "import numpy as np\n",
    "\n",
    "Y_train = D.data['Y_train']\n",
    "\n",
    "if not(M1.is_trained) or True:\n",
    "    M1.fit(D.data['X_train'], Y_train)       \n",
    "    \n",
    "Y_hat_train_facto = M1.predict(D.data['X_train']) # Optional, not really needed to test on taining examples\n",
    "Y_hat_valid_facto = M1.predict(D.data['X_valid'])\n",
    "Y_hat_test_facto = M1.predict(D.data['X_test'])"
   ]
  },
  {
   "cell_type": "code",
   "execution_count": 41,
   "metadata": {
    "collapsed": true
   },
   "outputs": [],
   "source": [
    "Y_test = D.data['Y_test']\n",
    "Y_valid = D.data['Y_valid']"
   ]
  },
  {
   "cell_type": "code",
   "execution_count": 42,
   "metadata": {
    "collapsed": true
   },
   "outputs": [],
   "source": [
    "M1.save(trained_model_name)                 \n",
    "result_name = result_dir + data_name\n",
    "from data_io import write\n",
    "write(result_name + '_train.predict', Y_hat_train_facto)\n",
    "write(result_name + '_valid.predict', Y_hat_valid_facto)\n",
    "write(result_name + '_test.predict', Y_hat_test_facto)\n",
    "#!ls $result_name*"
   ]
  },
  {
   "cell_type": "markdown",
   "metadata": {},
   "source": [
    "## 2.2) Results\n",
    "\n",
    "We choose the scoring metric. Pay attention to its definition, understanding it specifically in the case of multiclass classification is essential to appreciating your results.\n",
    "\n",
    "The results for sample_data, especially the confusion matrix, aren't to look good: this notebook tries to achieve machine learning with very few data, so you should expect bad results here. The results you will eventually get with the whole training set should (will !) be much better.\n",
    "\n",
    "Finally, don't hesitate to use the visualization tools at your disposal. Swimming among thousands of thousands of parameters without them is completely impossible."
   ]
  },
  {
   "cell_type": "code",
   "execution_count": 43,
   "metadata": {},
   "outputs": [
    {
     "name": "stdout",
     "output_type": "stream",
     "text": [
      "Using scoring metric: precision_score\n"
     ]
    }
   ],
   "source": [
    "from libscores import get_metric\n",
    "metric_name, scoring_function = get_metric()\n",
    "print('Using scoring metric:', metric_name)\n",
    "# Uncomment the next line to display the code of the scoring metric\n",
    "#??scoring_function"
   ]
  },
  {
   "cell_type": "code",
   "execution_count": 44,
   "metadata": {},
   "outputs": [
    {
     "name": "stdout",
     "output_type": "stream",
     "text": [
      "Training score for the precision_score metric = 0.2969\n",
      "Ideal score for the precision_score metric = 1.0000\n"
     ]
    }
   ],
   "source": [
    "print('Training score for the', metric_name, 'metric = %5.4f' % scoring_function(Y_test, Y_hat_test_facto))\n",
    "print('Ideal score for the', metric_name, 'metric = %5.4f' % scoring_function(Y_train, Y_train))"
   ]
  },
  {
   "cell_type": "code",
   "execution_count": 45,
   "metadata": {},
   "outputs": [
    {
     "data": {
      "image/png": "[encoded data removed]",
      "text/plain": [
       "<matplotlib.figure.Figure at 0x1a1de35c18>"
      ]
     },
     "metadata": {},
     "output_type": "display_data"
    }
   ],
   "source": [
    "import seaborn as sn\n",
    "import numpy as np\n",
    "import pandas as pd\n",
    "import matplotlib.pyplot as plt\n",
    "from sklearn.metrics import confusion_matrix\n",
    "\n",
    "y_pred1 = Y_hat_test_facto\n",
    "y_test1 = Y_test\n",
    "array = confusion_matrix(y_test1, y_pred1)\n",
    "array = array.astype('float') / array.sum(axis=1)[:, np.newaxis]\n",
    "\n",
    "\n",
    "df_cm = pd.DataFrame(array, index = set(list(data.target)) , columns = set(list(data.target)))\n",
    "plt.figure(figsize = (10,10))\n",
    "sn.heatmap(df_cm, annot=True)\n",
    "plt.show()"
   ]
  },
  {
   "cell_type": "code",
   "execution_count": 66,
   "metadata": {},
   "outputs": [
    {
     "name": "stderr",
     "output_type": "stream",
     "text": [
      "/anaconda3/lib/python3.6/site-packages/sklearn/utils/validation.py:578: DataConversionWarning: A column-vector y was passed when a 1d array was expected. Please change the shape of y to (n_samples, ), for example using ravel().\n",
      "  y = column_or_1d(y, warn=True)\n",
      "/anaconda3/lib/python3.6/site-packages/sklearn/metrics/classification.py:1135: UndefinedMetricWarning: Precision is ill-defined and being set to 0.0 in labels with no predicted samples.\n",
      "  'precision', 'predicted', average, warn_for)\n"
     ]
    },
    {
     "name": "stdout",
     "output_type": "stream",
     "text": [
      "FIT: dim(X)= [70, 10]\n",
      "FIT: dim(y)= [70, 1]\n",
      "PREDICT: dim(X)= [30, 10]\n",
      "PREDICT: dim(y)= [30, 1]\n",
      "FIT: dim(X)= [70, 10]\n",
      "FIT: dim(y)= [70, 1]\n",
      "PREDICT: dim(X)= [30, 10]\n",
      "PREDICT: dim(y)= [30, 1]\n",
      "FIT: dim(X)= [70, 10]\n",
      "FIT: dim(y)= [70, 1]\n",
      "PREDICT: dim(X)= [30, 10]\n",
      "PREDICT: dim(y)= [30, 1]\n",
      "FIT: dim(X)= [70, 10]\n",
      "FIT: dim(y)= [70, 1]\n",
      "PREDICT: dim(X)= [30, 10]\n",
      "PREDICT: dim(y)= [30, 1]\n",
      "FIT: dim(X)= [70, 10]\n",
      "FIT: dim(y)= [70, 1]\n",
      "PREDICT: dim(X)= [30, 10]\n",
      "PREDICT: dim(y)= [30, 1]\n",
      "\n",
      "CV score (95 perc. CI): 0.30 (+/- 0.17)\n"
     ]
    }
   ],
   "source": [
    "from sklearn.metrics import make_scorer\n",
    "from sklearn.model_selection import ShuffleSplit, cross_val_score\n",
    "\n",
    "cv = ShuffleSplit(n_splits=5, test_size=0.3, random_state=0)\n",
    "scores = cross_val_score(M1, D.data['X_test'], Y_test, cv=cv, scoring=make_scorer(scoring_function))\n",
    "\n",
    "print('\\nCV score (95 perc. CI): %0.2f (+/- %0.2f)' % (scores.mean(), scores.std() * 2))"
   ]
  },
  {
   "cell_type": "markdown",
   "metadata": {},
   "source": [
    "## 2.3) Factorization example and associated evaluation with RMSE\n",
    "\n",
    "As it is said in a previous comment cell, the factorization is already done in model.py (cf. \"from model import model\"). Still, it can be interesting to understand how we achieved it, and how to parametrize it.\n",
    "\n",
    "You could try to change the factorization parameters (like n_components of TruncatedSVD) directly in the model.py source code. This way, you can evaluate the evolution of your classification in relation with the evolution of the RMSE (see below), the latter translating how good your factorization actually is."
   ]
  },
  {
   "cell_type": "code",
   "execution_count": 18,
   "metadata": {},
   "outputs": [
    {
     "name": "stdout",
     "output_type": "stream",
     "text": [
      "(100, 10)\n",
      "(10, 5000)\n",
      "(100, 5000)\n",
      "RMSE = 0.00722362434507\n"
     ]
    }
   ],
   "source": [
    "from sklearn.metrics import  mean_squared_error\n",
    "from sklearn.decomposition import TruncatedSVD\n",
    "svd = TruncatedSVD(n_components = 10)\n",
    "\n",
    "X_test = D.data['X_test']\n",
    "\n",
    "A_test = svd.fit_transform(X_test)\n",
    "#A_test = svd.fit_transform(X_test)\n",
    "\n",
    "T = svd.components_\n",
    "print(A_test.shape)\n",
    "print(T.shape)\n",
    "D = np.dot(A_test,T)\n",
    "print(D.shape)\n",
    "################ WARNING ###############\n",
    "# pearson = np.corrcoef(D,X_art)\n",
    "# print(\"Pearson =\", pearson) \n",
    "########################################\n",
    "\n",
    "rmse = mean_squared_error(D,X_test)\n",
    "print(\"RMSE =\", rmse)"
   ]
  },
  {
   "cell_type": "markdown",
   "metadata": {},
   "source": [
    "<div >\n",
    "<h1> Step 3: Making a submission </h1> \n",
    "\n",
    "<h2> Unit testing </h2> \n",
    "\n",
    "It is <b><span style=\"color:red\">important that you test your submission files before submitting them</span></b>. All you have to do to make a submission is modify the file <code>model.py</code> in the <code>sample_code_submission/</code> directory, then run this test to make sure everything works fine. This is the actual program that will be run on the server to test your submission. \n",
    "<br>\n",
    "Keep the sample code simple.\n",
    "</div>"
   ]
  },
  {
   "cell_type": "code",
   "execution_count": 19,
   "metadata": {
    "scrolled": true
   },
   "outputs": [
    {
     "name": "stdout",
     "output_type": "stream",
     "text": [
      "Using input_dir: /Users/lucgibaud/Desktop/HADACA/starting_kit/sample_data\n",
      "Using output_dir: /Users/lucgibaud/Desktop/HADACA/starting_kit/sample_result_submission\n",
      "Using program_dir: /Users/lucgibaud/Desktop/HADACA/starting_kit/ingestion_program\n",
      "Using submission_dir: /Users/lucgibaud/Desktop/HADACA/starting_kit/sample_code_submission\n",
      "\n",
      "========== Ingestion program version 6 ==========\n",
      "\n",
      "************************************************\n",
      "******** Processing dataset Hadaca ********\n",
      "************************************************\n",
      "========= Reading and converting data ==========\n",
      "Info file found : /Users/lucgibaud/Desktop/HADACA/starting_kit/sample_data/hadaca_public.info\n",
      "========= Reading /Users/lucgibaud/Desktop/HADACA/starting_kit/sample_data/hadaca_feat.type\n",
      "[+] Success in  0.00 sec\n",
      "========= Reading /Users/lucgibaud/Desktop/HADACA/starting_kit/sample_data/hadaca_train.data\n",
      "[+] Success in  0.55 sec\n",
      "========= Reading /Users/lucgibaud/Desktop/HADACA/starting_kit/sample_data/hadaca_train.solution\n",
      "[+] Success in  0.00 sec\n",
      "========= Reading /Users/lucgibaud/Desktop/HADACA/starting_kit/sample_data/hadaca_valid.data\n",
      "[+] Success in  0.52 sec\n",
      "========= Reading /Users/lucgibaud/Desktop/HADACA/starting_kit/sample_data/hadaca_valid.solution\n",
      "[+] Success in  0.00 sec\n",
      "========= Reading /Users/lucgibaud/Desktop/HADACA/starting_kit/sample_data/hadaca_test.data\n",
      "[+] Success in  0.47 sec\n",
      "========= Reading /Users/lucgibaud/Desktop/HADACA/starting_kit/sample_data/hadaca_test.solution\n",
      "[+] Success in  0.00 sec\n",
      "DataManager : hadaca\n",
      "info:\n",
      "\ttask = multiclass.classification\n",
      "\tname = hadaca\n",
      "\tfeat_type = Numerical\n",
      "\tformat = dense\n",
      "\tis_sparse = 0\n",
      "\tmetric = precision_score\n",
      "\ttarget_type = Numerical\n",
      "\ttest_num = 500\n",
      "\tlabel_num = 10\n",
      "\ttarget_num = 10\n",
      "\tvalid_num = 500\n",
      "\thas_categorical = 0\n",
      "\tusage = Sample dataset hadaca\n",
      "\tfeat_num = 5000\n",
      "\ttime_budget = 1200\n",
      "\ttrain_num = 4000\n",
      "\thas_missing = 0\n",
      "data:\n",
      "\tX_train = array(100, 5000)\n",
      "\tY_train = array(100, 1)\n",
      "\tX_valid = array(100, 5000)\n",
      "\tY_valid = array(100, 1)\n",
      "\tX_test = array(100, 5000)\n",
      "\tY_test = array(100, 1)\n",
      "feat_type:\tarray(5000,)\n",
      "feat_idx:\tarray(5000,)\n",
      "\n",
      "[+] Size of uploaded data  72.00 bytes\n",
      "[+] Cumulated time budget (all tasks so far)  1200.00 sec\n",
      "[+] Time budget for this task 1200.00 sec\n",
      "[+] Remaining time after reading data 1198.43 sec\n",
      "======== Creating model ==========\n",
      "**********************************************************\n",
      "****** Attempting to reload model to avoid training ******\n",
      "**********************************************************\n",
      "Traceback (most recent call last):\n",
      "  File \"ingestion_program//ingestion.py\", line 209, in <module>\n",
      "    M = M.load(modelname)\n",
      "  File \"/Users/lucgibaud/Desktop/HADACA/starting_kit/sample_code_submission/model.py\", line 97, in load\n",
      "    self = pickle.load(f)\n",
      "  File \"/Users/lucgibaud/anaconda2/lib/python2.7/pickle.py\", line 1384, in load\n",
      "    return Unpickler(file).load()\n",
      "  File \"/Users/lucgibaud/anaconda2/lib/python2.7/pickle.py\", line 864, in load\n",
      "    dispatch[key](self)\n",
      "  File \"/Users/lucgibaud/anaconda2/lib/python2.7/pickle.py\", line 892, in load_proto\n",
      "    raise ValueError, \"unsupported pickle protocol: %d\" % proto\n",
      "ValueError: unsupported pickle protocol: 3\n"
     ]
    }
   ],
   "source": [
    "!python $problem_dir/ingestion.py $data_dir $result_dir $problem_dir $model_dir"
   ]
  },
  {
   "cell_type": "markdown",
   "metadata": {},
   "source": [
    "<div >\n",
    "Also test the scoring program:\n",
    "    </div>"
   ]
  },
  {
   "cell_type": "code",
   "execution_count": 20,
   "metadata": {},
   "outputs": [
    {
     "name": "stdout",
     "output_type": "stream",
     "text": [
      "======= Set 1 (Hadaca_test): precision_score(set1_score)=0.296879509380 =======\r\n",
      "======= Set 2 (Hadaca_train): precision_score(set2_score)=0.930151515152 =======\r\n",
      "======= Set 3 (Hadaca_valid): precision_score(set3_score)=0.382131398014 =======\r\n"
     ]
    }
   ],
   "source": [
    "scoring_output_dir = 'scoring_output'\n",
    "!python $score_dir/score.py $data_dir $result_dir $scoring_output_dir"
   ]
  },
  {
   "cell_type": "markdown",
   "metadata": {},
   "source": [
    "<div >\n",
    "    <h1> Preparing the submission </h1>\n",
    "\n",
    "Zip the contents of `sample_code_submission/` (without the directory), or download the challenge public_data and run the command in the previous cell, after replacing sample_data by public_data.\n",
    "Then zip the contents of `sample_result_submission/` (without the directory).\n",
    "<b><span style=\"color:red\">Do NOT zip the data with your submissions</span></b>."
   ]
  },
  {
   "cell_type": "code",
   "execution_count": 21,
   "metadata": {},
   "outputs": [
    {
     "name": "stdout",
     "output_type": "stream",
     "text": [
      "Submit one of these files:\n",
      "sample_code_submission_18-12-14-21-17.zip\n",
      "sample_result_submission_18-12-14-21-17.zip\n"
     ]
    }
   ],
   "source": [
    "import datetime \n",
    "from data_io import zipdir\n",
    "the_date = datetime.datetime.now().strftime(\"%y-%m-%d-%H-%M\")\n",
    "sample_code_submission = 'sample_code_submission_' + the_date + '.zip'\n",
    "sample_result_submission = 'sample_result_submission_' + the_date + '.zip'\n",
    "zipdir(sample_code_submission, model_dir)\n",
    "zipdir(sample_result_submission, result_dir)\n",
    "print(\"Submit one of these files:\\n\" + sample_code_submission + \"\\n\" + sample_result_submission)"
   ]
  }
 ],
 "metadata": {
  "kernelspec": {
   "display_name": "Python 3",
   "language": "python",
   "name": "python3"
  },
  "language_info": {
   "codemirror_mode": {
    "name": "ipython",
    "version": 3
   },
   "file_extension": ".py",
   "mimetype": "text/x-python",
   "name": "python",
   "nbconvert_exporter": "python",
   "pygments_lexer": "ipython3",
   "version": "3.6.3"
  }
 },
 "nbformat": 4,
 "nbformat_minor": 2
}
