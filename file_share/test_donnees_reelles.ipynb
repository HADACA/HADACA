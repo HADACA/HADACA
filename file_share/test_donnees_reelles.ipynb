{
 "cells": [
  {
   "cell_type": "code",
   "execution_count": 52,
   "metadata": {},
   "outputs": [],
   "source": [
    "from sklearn.model_selection import train_test_split\n",
    "from sklearn.metrics import classification_report, mean_squared_error, log_loss\n",
    "from sklearn.feature_selection import SelectKBest\n",
    "from sklearn.feature_selection import chi2\n",
    "from sklearn.preprocessing import MinMaxScaler\n",
    "import pandas as pd\n",
    "import numpy as np\n",
    "import matplotlib.pyplot as plt\n"
   ]
  },
  {
   "cell_type": "code",
   "execution_count": 53,
   "metadata": {},
   "outputs": [
    {
     "name": "stdout",
     "output_type": "stream",
     "text": [
      "Shape of X : (685, 20103)\n",
      "Shape of y : (685,)\n",
      "labels : Index(['patho', 'normal'], dtype='object')\n"
     ]
    }
   ],
   "source": [
    "# Chargement des données\n",
    "df_data = pd.read_csv(\"data/clean_data.csv\")\n",
    "df_metadata = pd.read_csv(\"data/metadata.csv\")\n",
    "# df_data_t = df_data.transpose()\n",
    "# df_metadata\n",
    "\n",
    "# Convertir les données en ndarray et supprimer les colonnes inutiles\n",
    "X = df_data.loc[:, ~df_data.columns.str.contains('^Unnamed')].values\n",
    "X = X.T\n",
    "\n",
    "# Générer les labels en fonction d'une colonne choisie\n",
    "s = pd.Series(df_metadata[\"tissue_status\"].values)\n",
    "labels,values = pd.factorize(s)\n",
    "y = labels\n",
    "\n",
    "print(\"Shape of X :\", X.shape)\n",
    "print(\"Shape of y :\", y.shape)\n",
    "\n",
    "print(\"labels :\", values)\n"
   ]
  },
  {
   "cell_type": "code",
   "execution_count": 54,
   "metadata": {},
   "outputs": [
    {
     "name": "stdout",
     "output_type": "stream",
     "text": [
      "(685, 1000)\n"
     ]
    }
   ],
   "source": [
    "# selection des k best features grâce au test chi2\n",
    "\n",
    "chi2_selector = SelectKBest(chi2, k=1000)\n",
    "X = chi2_selector.fit_transform(X, y)\n",
    "print(X.shape)"
   ]
  },
  {
   "cell_type": "code",
   "execution_count": 61,
   "metadata": {},
   "outputs": [],
   "source": [
    "def generate_artificial_data(data, lbls, nb_of_new, noise = False):\n",
    "    \n",
    "    sigma_noise = 10e-2\n",
    "    new_X = np.zeros((data.shape[1],0))\n",
    "    new_y = np.zeros((0))\n",
    "\n",
    "    for label in np.unique(y):\n",
    "\n",
    "        X_cond = data[np.where(lbls==label)] # X correspondant à un label    \n",
    "        # estimation des paramètres de la normale\n",
    "        mean_X = np.mean(X_cond, axis=0)\n",
    "        std_X = np.std(X_cond, axis=0) \n",
    "\n",
    "        # nombre de nouveaux patiends à ajouter\n",
    "\n",
    "        nb_new_patients_cond = int(nb_of_new*(len(lbls[np.where(lbls==label)])/lbls.shape[0]))\n",
    "        \n",
    "\n",
    "        # generer les labels\n",
    "        \n",
    "        y_cond = np.empty(nb_new_patients_cond)\n",
    "        y_cond.fill(label)\n",
    "\n",
    "        \n",
    "        # boucle qui genere des nombres aléatoires suivant\n",
    "        # une loi normale avec les paramètres calculés\n",
    "\n",
    "        new_X_cond = np.zeros((0,nb_new_patients_cond))\n",
    "\n",
    "        for i in range(X.shape[1]):\n",
    "            new_feature = np.random.normal(mean_X[i], std_X[i], (1,nb_new_patients_cond))\n",
    "            if(noise):\n",
    "                new_feature += np.random.normal(0,1, new_feature.shape)*sigma_noise # peutêtre à changer\n",
    "            new_X_cond = np.append(new_X_cond,new_feature, axis=0)\n",
    "\n",
    "        new_X = np.concatenate((new_X,new_X_cond),axis=1)\n",
    "        new_y = np.append(new_y, y_cond)\n",
    "\n",
    "#     new_X = MinMaxScaler().fit_transform(new_X.T)\n",
    "    new_X = new_X.T\n",
    "    \n",
    "    print(new_X.shape)\n",
    "    print(new_y.shape)\n",
    "    \n",
    "    return (new_X,new_y)\n",
    "\n"
   ]
  },
  {
   "cell_type": "code",
   "execution_count": 62,
   "metadata": {},
   "outputs": [
    {
     "name": "stdout",
     "output_type": "stream",
     "text": [
      "(15000, 1000)\n",
      "(15000,)\n"
     ]
    }
   ],
   "source": [
    "X_art,y_art = generate_artificial_data(X,y,15001)\n",
    "\n",
    "X_train, X_test, y_train, y_test = train_test_split(X_art, y_art, test_size=0.2, random_state=42)"
   ]
  },
  {
   "cell_type": "code",
   "execution_count": 70,
   "metadata": {},
   "outputs": [
    {
     "name": "stdout",
     "output_type": "stream",
     "text": [
      "(15000, 100)\n",
      "(100, 1000)\n",
      "(15000, 1000)\n",
      "RMSE = 0.01954241307486277\n",
      "Frob = -0.0740750381802698\n"
     ]
    }
   ],
   "source": [
    "from sklearn.decomposition import TruncatedSVD\n",
    "\n",
    "svd = TruncatedSVD(n_components = 100)\n",
    "A_art = svd.fit_transform(X_art)\n",
    "T_art = svd.components_\n",
    "print(A_art.shape)\n",
    "print(T_art.shape)\n",
    "D_art = np.dot(A_art,T_art)\n",
    "print(D_art.shape)\n",
    "################ WARNING ###############\n",
    "# pearson = np.corrcoef(D,X_art)\n",
    "# print(\"Pearson =\", pearson) \n",
    "########################################\n",
    "\n",
    "rmse = mean_squared_error(D_art,X_art)\n",
    "frobD = np.linalg.norm(D_art, 'fro')\n",
    "frobX = np.linalg.norm(X_art, 'fro')\n",
    "frob = (frobD - frobX)*2/(frobD+frobX)\n",
    "print(\"RMSE =\", rmse)\n",
    "print(\"Frob =\", frob)\n",
    "A = svd.fit_transform(X)\n",
    "T = svd.components_\n",
    "D = np.dot(A,T)\n"
   ]
  },
  {
   "cell_type": "code",
   "execution_count": 27,
   "metadata": {},
   "outputs": [],
   "source": [
    "X_train, X_test, y_train, y_test = train_test_split(A_art, y_art, test_size=0.2, random_state=42)"
   ]
  },
  {
   "cell_type": "code",
   "execution_count": 28,
   "metadata": {},
   "outputs": [
    {
     "name": "stdout",
     "output_type": "stream",
     "text": [
      "Train:\n",
      "             precision    recall  f1-score   support\n",
      "\n",
      "        0.0       1.00      1.00      1.00      9938\n",
      "        1.0       1.00      1.00      1.00      2062\n",
      "\n",
      "avg / total       1.00      1.00      1.00     12000\n",
      "\n",
      "Test:\n",
      "             precision    recall  f1-score   support\n",
      "\n",
      "        0.0       1.00      1.00      1.00      2500\n",
      "        1.0       1.00      1.00      1.00       500\n",
      "\n",
      "avg / total       1.00      1.00      1.00      3000\n",
      "\n"
     ]
    }
   ],
   "source": [
    "from sklearn.svm import SVC\n",
    "\n",
    "model = SVC(C=10.)\n",
    "model.fit(X_train,y_train)\n",
    "pred_train = model.predict(X_train)\n",
    "\n",
    "print(\"Train:\")\n",
    "print(classification_report(y_train,pred_train))\n",
    "pred_test = model.predict(X_test)\n",
    "\n",
    "print(\"Test:\")\n",
    "print(classification_report(y_test,pred_test))"
   ]
  },
  {
   "cell_type": "code",
   "execution_count": 68,
   "metadata": {},
   "outputs": [
    {
     "name": "stdout",
     "output_type": "stream",
     "text": [
      "             precision    recall  f1-score   support\n",
      "\n",
      "          0       0.83      1.00      0.91       568\n",
      "          1       0.00      0.00      0.00       117\n",
      "\n",
      "avg / total       0.69      0.83      0.75       685\n",
      "\n"
     ]
    },
    {
     "name": "stderr",
     "output_type": "stream",
     "text": [
      "C:\\Program Files (x86)\\Microsoft Visual Studio\\Shared\\Python36_64\\lib\\site-packages\\sklearn\\metrics\\classification.py:1135: UndefinedMetricWarning: Precision and F-score are ill-defined and being set to 0.0 in labels with no predicted samples.\n",
      "  'precision', 'predicted', average, warn_for)\n"
     ]
    }
   ],
   "source": [
    "# Test données réelles \n",
    "\n",
    "model = SVC(C=10.)\n",
    "model.fit(A_art,y_art)\n",
    "pred = model.predict(A)\n",
    "\n",
    "print(classification_report(y,pred))"
   ]
  },
  {
   "cell_type": "code",
   "execution_count": 12,
   "metadata": {},
   "outputs": [
    {
     "name": "stdout",
     "output_type": "stream",
     "text": [
      "(14994, 1000)\n",
      "(14994,)\n",
      "(4996, 1000)\n",
      "(4996,)\n"
     ]
    }
   ],
   "source": [
    "X_train_art,y_train_art = generate_artificial_data(X,y,15001)\n",
    "X_test_art, y_test_art = generate_artificial_data(X,y,5001)\n",
    "\n",
    "df_train_X = pd.DataFrame(X_train_art)\n",
    "df_train_X.to_csv(\"data/challenge/train/data.csv\")\n",
    "df_train_y = pd.DataFrame(y_train_art)\n",
    "df_train_y.to_csv(\"data/challenge/train/metadata.csv\")\n",
    "\n",
    "df_test_X = pd.DataFrame(X_test_art)\n",
    "df_test_X.to_csv(\"data/challenge/test/data.csv\")\n",
    "df_test_y = pd.DataFrame(y_test_art)\n",
    "df_test_y.to_csv(\"data/challenge/test/metadata.csv\")"
   ]
  },
  {
   "cell_type": "code",
   "execution_count": 47,
   "metadata": {},
   "outputs": [],
   "source": [
    "from sklearn.manifold import TSNE\n",
    "\n",
    "X_1 = X[np.where(y == 1)]\n",
    "X_0 = X[np.where(y == 0)]\n",
    "\n",
    "X_1_embedded = TSNE(n_components=2).fit_transform(X_1)\n",
    "X_0_embedded = TSNE(n_components=2).fit_transform(X_0)\n"
   ]
  },
  {
   "cell_type": "code",
   "execution_count": 36,
   "metadata": {},
   "outputs": [
    {
     "data": {
      "text/plain": [
       "(568, 2)"
      ]
     },
     "execution_count": 36,
     "metadata": {},
     "output_type": "execute_result"
    }
   ],
   "source": [
    "X_0_embedded.shape"
   ]
  },
  {
   "cell_type": "code",
   "execution_count": 48,
   "metadata": {},
   "outputs": [
    {
     "data": {
      "image/png": "[encoded data removed]",
      "text/plain": [
       "<Figure size 432x288 with 1 Axes>"
      ]
     },
     "metadata": {},
     "output_type": "display_data"
    }
   ],
   "source": [
    "# Create plots with pre-defined labels.\n",
    "fig, ax = plt.subplots()\n",
    "ax.plot(X_0_embedded[:,0], X_0_embedded[:,1], 'o', label='Pathogene')\n",
    "ax.plot(X_1_embedded[:,0], X_1_embedded[:,1], 'o', label='Normal')\n",
    "\n",
    "legend = ax.legend(loc='best', shadow=True, fontsize='x-large')\n",
    "\n",
    "# Put a nicer background color on the legend.\n",
    "legend.get_frame().set_facecolor('grey')\n",
    "\n",
    "plt.show()"
   ]
  },
  {
   "cell_type": "code",
   "execution_count": 69,
   "metadata": {},
   "outputs": [
    {
     "name": "stdout",
     "output_type": "stream",
     "text": [
      "             precision    recall  f1-score   support\n",
      "\n",
      "          0       0.83      1.00      0.91       568\n",
      "          1       0.00      0.00      0.00       117\n",
      "\n",
      "avg / total       0.69      0.83      0.75       685\n",
      "\n"
     ]
    },
    {
     "name": "stderr",
     "output_type": "stream",
     "text": [
      "C:\\Program Files (x86)\\Microsoft Visual Studio\\Shared\\Python36_64\\lib\\site-packages\\sklearn\\metrics\\classification.py:1135: UndefinedMetricWarning: Precision and F-score are ill-defined and being set to 0.0 in labels with no predicted samples.\n",
      "  'precision', 'predicted', average, warn_for)\n"
     ]
    }
   ],
   "source": [
    "from sklearn.naive_bayes import GaussianNB\n",
    "\n",
    "model = GaussianNB()\n",
    "model.fit(A_art,y_art)\n",
    "pred = model.predict(A)\n",
    "\n",
    "print(classification_report(y,pred))"
   ]
  },
  {
   "cell_type": "code",
   "execution_count": null,
   "metadata": {},
   "outputs": [],
   "source": []
  }
 ],
 "metadata": {
  "kernelspec": {
   "display_name": "Python 3",
   "language": "python",
   "name": "python3"
  },
  "language_info": {
   "codemirror_mode": {
    "name": "ipython",
    "version": 3
   },
   "file_extension": ".py",
   "mimetype": "text/x-python",
   "name": "python",
   "nbconvert_exporter": "python",
   "pygments_lexer": "ipython3",
   "version": "3.7.0"
  }
 },
 "nbformat": 4,
 "nbformat_minor": 2
}
