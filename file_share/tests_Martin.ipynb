{
 "cells": [
  {
   "cell_type": "code",
   "execution_count": 21,
   "metadata": {},
   "outputs": [],
   "source": [
    "from sklearn.model_selection import train_test_split\n",
    "from sklearn.metrics import classification_report, mean_squared_error, log_loss\n",
    "from sklearn.feature_selection import SelectKBest\n",
    "from sklearn.feature_selection import chi2\n",
    "from sklearn.preprocessing import MinMaxScaler\n",
    "import pandas as pd\n",
    "import numpy as np\n",
    "import matplotlib.pyplot as plt\n",
    "from collections import Counter\n",
    "from imblearn.over_sampling import ADASYN, SMOTE"
   ]
  },
  {
   "cell_type": "markdown",
   "metadata": {},
   "source": [
    "# 0) Chargement des données"
   ]
  },
  {
   "cell_type": "code",
   "execution_count": 16,
   "metadata": {},
   "outputs": [
    {
     "name": "stdout",
     "output_type": "stream",
     "text": [
      "df_data shape: (20103, 687)\n",
      "df_metadata shape: (685, 14)\n"
     ]
    },
    {
     "data": {
      "text/html": [
       "<div>\n",
       "<style scoped>\n",
       "    .dataframe tbody tr th:only-of-type {\n",
       "        vertical-align: middle;\n",
       "    }\n",
       "\n",
       "    .dataframe tbody tr th {\n",
       "        vertical-align: top;\n",
       "    }\n",
       "\n",
       "    .dataframe thead th {\n",
       "        text-align: right;\n",
       "    }\n",
       "</style>\n",
       "<table border=\"1\" class=\"dataframe\">\n",
       "  <thead>\n",
       "    <tr style=\"text-align: right;\">\n",
       "      <th></th>\n",
       "      <th>dmprocr_ID</th>\n",
       "      <th>indiv</th>\n",
       "      <th>sample</th>\n",
       "      <th>trscr</th>\n",
       "      <th>cnv</th>\n",
       "      <th>meth</th>\n",
       "      <th>gender</th>\n",
       "      <th>days_to_birth</th>\n",
       "      <th>tumor_stage</th>\n",
       "      <th>da</th>\n",
       "      <th>fut</th>\n",
       "      <th>age_diag</th>\n",
       "      <th>days_to_death</th>\n",
       "      <th>tissue_status</th>\n",
       "    </tr>\n",
       "  </thead>\n",
       "  <tbody>\n",
       "    <tr>\n",
       "      <th>0</th>\n",
       "      <td>97-7552-01</td>\n",
       "      <td>97-7552</td>\n",
       "      <td>1</td>\n",
       "      <td>1</td>\n",
       "      <td>1</td>\n",
       "      <td>1</td>\n",
       "      <td>male</td>\n",
       "      <td>-25578.0</td>\n",
       "      <td>stage ib</td>\n",
       "      <td>alive</td>\n",
       "      <td>1932.0</td>\n",
       "      <td>25578.0</td>\n",
       "      <td>NaN</td>\n",
       "      <td>patho</td>\n",
       "    </tr>\n",
       "    <tr>\n",
       "      <th>1</th>\n",
       "      <td>44-7671-01</td>\n",
       "      <td>44-7671</td>\n",
       "      <td>1</td>\n",
       "      <td>0</td>\n",
       "      <td>1</td>\n",
       "      <td>1</td>\n",
       "      <td>male</td>\n",
       "      <td>-23538.0</td>\n",
       "      <td>stage ib</td>\n",
       "      <td>alive</td>\n",
       "      <td>889.0</td>\n",
       "      <td>23538.0</td>\n",
       "      <td>NaN</td>\n",
       "      <td>patho</td>\n",
       "    </tr>\n",
       "    <tr>\n",
       "      <th>2</th>\n",
       "      <td>86-7953-01</td>\n",
       "      <td>86-7953</td>\n",
       "      <td>1</td>\n",
       "      <td>1</td>\n",
       "      <td>1</td>\n",
       "      <td>1</td>\n",
       "      <td>female</td>\n",
       "      <td>-25315.0</td>\n",
       "      <td>stage ia</td>\n",
       "      <td>alive</td>\n",
       "      <td>997.0</td>\n",
       "      <td>25315.0</td>\n",
       "      <td>NaN</td>\n",
       "      <td>patho</td>\n",
       "    </tr>\n",
       "    <tr>\n",
       "      <th>3</th>\n",
       "      <td>L4-A4E5-01</td>\n",
       "      <td>L4-A4E5</td>\n",
       "      <td>1</td>\n",
       "      <td>1</td>\n",
       "      <td>1</td>\n",
       "      <td>1</td>\n",
       "      <td>female</td>\n",
       "      <td>-17680.0</td>\n",
       "      <td>stage i</td>\n",
       "      <td>alive</td>\n",
       "      <td>578.0</td>\n",
       "      <td>17680.0</td>\n",
       "      <td>NaN</td>\n",
       "      <td>patho</td>\n",
       "    </tr>\n",
       "    <tr>\n",
       "      <th>4</th>\n",
       "      <td>NJ-A4YP-01</td>\n",
       "      <td>NJ-A4YP</td>\n",
       "      <td>1</td>\n",
       "      <td>1</td>\n",
       "      <td>1</td>\n",
       "      <td>1</td>\n",
       "      <td>male</td>\n",
       "      <td>-19106.0</td>\n",
       "      <td>stage ib</td>\n",
       "      <td>alive</td>\n",
       "      <td>50.0</td>\n",
       "      <td>19106.0</td>\n",
       "      <td>NaN</td>\n",
       "      <td>patho</td>\n",
       "    </tr>\n",
       "  </tbody>\n",
       "</table>\n",
       "</div>"
      ],
      "text/plain": [
       "   dmprocr_ID    indiv  sample  trscr  cnv  meth  gender  days_to_birth  \\\n",
       "0  97-7552-01  97-7552       1      1    1     1    male       -25578.0   \n",
       "1  44-7671-01  44-7671       1      0    1     1    male       -23538.0   \n",
       "2  86-7953-01  86-7953       1      1    1     1  female       -25315.0   \n",
       "3  L4-A4E5-01  L4-A4E5       1      1    1     1  female       -17680.0   \n",
       "4  NJ-A4YP-01  NJ-A4YP       1      1    1     1    male       -19106.0   \n",
       "\n",
       "  tumor_stage     da     fut  age_diag  days_to_death tissue_status  \n",
       "0    stage ib  alive  1932.0   25578.0            NaN         patho  \n",
       "1    stage ib  alive   889.0   23538.0            NaN         patho  \n",
       "2    stage ia  alive   997.0   25315.0            NaN         patho  \n",
       "3     stage i  alive   578.0   17680.0            NaN         patho  \n",
       "4    stage ib  alive    50.0   19106.0            NaN         patho  "
      ]
     },
     "execution_count": 16,
     "metadata": {},
     "output_type": "execute_result"
    }
   ],
   "source": [
    "# Chargement des données, clean_data étant les données nettoyées des NaN trop nombreux\n",
    "df_data = pd.read_csv(\"data/clean_data.csv\")\n",
    "print(\"df_data shape:\", df_data.shape)\n",
    "df_metadata = pd.read_csv(\"data/metadata.csv\")\n",
    "print(\"df_metadata shape:\", df_metadata.shape)\n",
    "df_metadata[:5]"
   ]
  },
  {
   "cell_type": "code",
   "execution_count": 17,
   "metadata": {},
   "outputs": [
    {
     "name": "stdout",
     "output_type": "stream",
     "text": [
      "<class 'numpy.ndarray'>\n",
      "(685, 20103)\n",
      "Shape of X : (685, 20103)\n",
      "Shape of y : (685,)\n",
      "labelsBinary : [0 0 0 0 0 0 0 0 0 0 0 0 0 0 0 1 0 0 0 1 0 0 0 0 0 0 0 0 0 0 0 0 0 0 0 0 0\n",
      " 0 0 0 0 0 0 0 0 0 0 0 0 0 0 0 0 0 0 0 0 0 0 0 1 0 0 0 0 0 0 0 0 1 0 0 0 0\n",
      " 0 0 0 0 0 0 0 0 0 1 0 0 0 0 0 0 1 0 0 0 0 0 0 0 0 0 0 0 0 0 0 0 0 1 0 0 0\n",
      " 0 0 0 0 0 0 0 0 0 0 0 0 0 0 0 0 0 0 0 0 0 0 0 0 0 0 0 0 0 0 0 0 0 0 0 0 0\n",
      " 0 0 0 0 0 1 0 0 1 0 0 0 0 0 0 0 0 0 0 0 0 0 0 1 0 1 0 0 0 0 0 0 0 0 0 0 0\n",
      " 1 0 0 0 0 0 0 0 0 0 0 0 0 0 0 0 0 0 0 0 0 0 0 0 0 0 1 0 0 0 0 0 0 0 0 0 0\n",
      " 0 0 0 0 0 0 0 0 0 0 0 0 0 0 0 0 0 0 0 1 0 1 0 0 1 0 0 0 0 0 0 0 0 0 0 0 0\n",
      " 0 0 0 0 1 1 0 0 1 1 0 0 0 0 0 0 0 0 0 1 0 0 0 0 0 0 1 0 1 1 0 0 0 0 0 0 0\n",
      " 1 0 1 0 0 0 0 0 0 0 0 0 0 0 1 0 0 0 0 0 0 0 0 0 0 0 0 0 0 1 0 0 0 0 0 1 0\n",
      " 0 0 0 0 0 0 0 0 0 0 0 0 0 0 0 0 0 0 0 0 0 0 0 1 0 0 0 0 0 0 0 0 0 0 0 0 0\n",
      " 0 0 0 1 0 0 0 0 0 0 0 0 0 0 0 0 0 0 0 0 0 0 0 0 0 0 0 0 0 0 0 0 0 0 0 0 0\n",
      " 0 0 0 0 1 0 0 0 0 0 0 0 0 1 0 0 0 0 0 0 0 0 0 0 0 0 0 0 0 0 0 0 0 0 0 0 0\n",
      " 0 0 0 0 0 0 0 1 0 0 0 0 0 0 0 1 0 0 0 0 0 0 0 0 0 0 0 0 0 0 0 0 0 0 0 0 0\n",
      " 0 0 0 0 0 0 0 0 0 0 0 0 0 0 0 0 0 0 0 0 1 0 0 0 0 0 0 0 0 0 1 0 1 0 0 0 0\n",
      " 0 0 1 0 0 1 0 1 0 0 0 0 1 0 0 0 0 0 0 1 0 0 0 0 0 0 0 0 0 0 0 0 0 0 0 0 0\n",
      " 0 0 0 0 0 0 0 1 0 0 1 0 0 0 0 0 0 0 0 0 1 0 0 0 0 0 0 0 0 0 0 0 0 0 0 1 0\n",
      " 0 1 0 0 0 0 0 0 0 0 0 0 0 0 0 0 0 0 0 0 0 0 1 0 0 1 1 1 1 1 1 1 1 1 1 1 1\n",
      " 1 1 1 1 1 1 1 1 1 1 1 1 1 1 1 1 1 1 1 1 1 1 1 1 1 1 1 1 1 1 1 1 1 1 1 1 1\n",
      " 1 1 1 1 1 1 1 1 1 1 1 1 1 1 1 1 1 1 1]\n",
      "valuesBinary : Index(['patho', 'normal'], dtype='object')\n",
      "labelsStages : [ 0  0  1  2  0  3  1  4  0  1  0  3  0  5  0  0  5  1  0  6  4  1  1 -1\n",
      " -1  0  1  1  1  0  7 -1  7  0  0  1  4  5  0  0  8  5  6  9  5  7  6 -1\n",
      "  5  3  1  1  1  5  7  5  3 -1 -1  0  5  0  4  7  0  0 -1  1 -1  1  5 -1\n",
      "  5  5  0  1  5 -1  0  3  1  7  3  5  0  5  3  5  0 -1  5  3  0  1  1  0\n",
      " -1  3  7  0  1 -1  5  2  0  5  4  1  0  9  0  3  0  1  0  3  5 -1 -1  5\n",
      " -1  3  1  3  5  9  1  4  0  1  1 -1  5  0  5  0  3  1  1 -1 -1  1  0  0\n",
      "  7  3  1  0  0  3  5  1  1  0  0  0  0  1  3  1  3  1  3  3  1  0  1  0\n",
      "  9 -1 -1  3  0  5  1  7  1  1  1  4  7  3  0  3  5  5  9  1  0  7 -1  1\n",
      "  1  0  3  7  6  1  5  5  5  5  3  0  0  1  1  7  1  1 -1  0  1  0  7  7\n",
      "  0  0  3  0  1  5  1  1  7  0  0  7  1  1  1  1  7  9  7  0  1 -1 -1  0\n",
      "  6  1  0  5  7 -1  5  3  5  3  3  0  1  5  0  5  0  0  3  7  3  5  1  0\n",
      "  3  1  1  4  1  5  0  3  4  1  1  3  1  1  3  0  0  1  1  7  0  5  1  1\n",
      "  5  5  1  1 -1  1  5  0  1  1  3  5  4 -1  3  5 -1  4  7  3  3  0  5  7\n",
      "  0  1  1  1 -1  0  3 -1  3 -1 -1  0  0  1  5  3  1  1  4  3  0  7  0  7\n",
      "  7  3  0 -1  4  1  9  0  3  5  0  1  0  7  0 -1  1 -1  1  0  1  5 -1  0\n",
      "  1  0  1  0  3  1  7  5  1 -1  0  0 -1  1  3  4  0  1  0  3  0  1  6 -1\n",
      "  5  0  1  1  0 -1 -1  3  1  7  4  1  4 -1  3  3  1  2 -1  7  7  5  0  0\n",
      "  1  3  2  3  7  4  5  3  0  7  5 -1  3  0  1  1  1  1  7  3  7  9  1  9\n",
      " -1 -1  5  3  5  5  3  1  1  5  0  1  0  7 -1  4  0  0  3  3  1  0  4  1\n",
      "  0  1  5  1  0  7  0  3  1  1 -1  7 -1  3  0  5  0  7  2  0  1  0  1  1\n",
      "  0  7  5  0  0  1  0  5  0  0  0  0  7  3  3  7  0  1  3  0  7  4 -1  3\n",
      "  1  5  3  1  3  3  3  4  7  1  0  4  3  0  5  6  0  0  0  1  0  0  4  0\n",
      "  7 -1  3 -1  0  0  3  5  5  1  1  1  3  5  1  5  6 -1  3  5  3  0  0  5\n",
      "  1  1  1  7  5  7  0  5  0  3  1  0  0  0  3 -1  1  1  0  1  4 -1  1  0\n",
      "  1  5  0  1  0  9  1  5  5  5  1  5  4 -1  0  7  3  5 -1  0 -1  0 -1  4\n",
      "  0  1  1  4  6  1  0  0  5  0  4  0  1  5  9  9 -1  3  1  0  0  3  5  0\n",
      "  4  0  3  4  3  0  1  3  0  5  1  0  0  6  0  1  0  1  0  1  1  1  5  0\n",
      "  1  1  5  3  0  1  7  0  0  5  5  5  1  3  1  0  7  7  0  0  7  0  0  0\n",
      "  3  4  3  0  5  3  1  0  9  3  9  3  9]\n",
      "valuesStages : Index(['stage ib', 'stage ia', 'stage i', 'stage iib', 'stage iv',\n",
      "       'stage iiia', 'not reported', 'stage iia', 'stage ii', 'stage iiib'],\n",
      "      dtype='object')\n"
     ]
    }
   ],
   "source": [
    "# Convertir les données en ndarray et supprimer les colonnes inutiles\n",
    "X = df_data.loc[:, ~df_data.columns.str.contains('^Unnamed')].values\n",
    "X = X.T\n",
    "\n",
    "print(type(X))\n",
    "print(X.shape)\n",
    "\n",
    "# Générer les labels en fonction d'une colonne choisie\n",
    "status = pd.Series(df_metadata[\"tissue_status\"].values)\n",
    "stage = pd.Series(df_metadata[\"tumor_stage\"].values)\n",
    "\n",
    "labelsBinary, valuesBinary = pd.factorize(status)\n",
    "labelsStages, valuesStages = pd.factorize(stage)\n",
    "\n",
    "yBinary = labelsBinary\n",
    "yStage = labelsStages\n",
    "\n",
    "print(\"Shape of X :\", X.shape)\n",
    "print(\"Shape of y :\", y.shape)\n",
    "\n",
    "print(\"labelsBinary :\", labelsBinary)\n",
    "print(\"valuesBinary :\", valuesBinary)\n",
    "\n",
    "print(\"labelsStages :\", labelsStages)\n",
    "print(\"valuesStages :\", valuesStages)"
   ]
  },
  {
   "cell_type": "code",
   "execution_count": 18,
   "metadata": {},
   "outputs": [
    {
     "name": "stdout",
     "output_type": "stream",
     "text": [
      "(685, 1000)\n"
     ]
    }
   ],
   "source": [
    "# uniformisation de la notation\n",
    "D = X\n",
    "\n",
    "# IL FAUT ARRIVER À 300 MB après avoir agrandi le nombre d'observations\n",
    "# ===>>> couper les features\n",
    "# selection des k best features grâce au test chi2\n",
    "chi2_selector = SelectKBest(chi2, k=1000)\n",
    "D = chi2_selector.fit_transform(D, y)\n",
    "print(D.shape)"
   ]
  },
  {
   "cell_type": "markdown",
   "metadata": {},
   "source": [
    "## Enrichissement artificiel des données"
   ]
  },
  {
   "cell_type": "code",
   "execution_count": 23,
   "metadata": {},
   "outputs": [
    {
     "name": "stdout",
     "output_type": "stream",
     "text": [
      "Counter({0: 141, 1: 131, 5: 68, 3: 63, -1: 49, 7: 42, 4: 26, 9: 13, 6: 9, 2: 5, 8: 1})\n",
      "(547, 1000)\n",
      "(1000,)\n"
     ]
    }
   ],
   "source": [
    "# 6 occurences nécessaire pour Smote ou Adasyn, on enlève la classe 8 et on duplique occurence de 2  la classe 5 \n",
    "\n",
    "X_train, X_test, y_train, y_test = train_test_split(D, yStage, test_size=0.2, random_state=42)\n",
    "# stratify=y, mais une classe avec 1 occurences,on vire cette classe?\n",
    "\n",
    "recounted = Counter(y_train)\n",
    "print(recounted)\n",
    "\n",
    "X_train_sans_8= X_train[np.where(y_train!=8)  ]\n",
    "X_2 = X_train[np.where(y_train==2)  ][0]\n",
    "print(X_train_sans_8.shape)\n",
    "print(X_2.shape)\n",
    "X_train_sans_8_1 = np.vstack( [X_train_sans_8,X_2  ])\n",
    "X_train_sans_8_1.shape\n",
    "\n",
    "\n",
    "\n",
    "y_train_sans_8= y_train[np.where(y_train!=8)]\n",
    "y_train_sans_8 = np.append(y_train_sans_8, 2)"
   ]
  },
  {
   "cell_type": "markdown",
   "metadata": {},
   "source": [
    "# 1) Classification par stage sur D"
   ]
  },
  {
   "cell_type": "code",
   "execution_count": 20,
   "metadata": {},
   "outputs": [],
   "source": []
  },
  {
   "cell_type": "markdown",
   "metadata": {},
   "source": [
    "# 2) Factorisation de D en A*T"
   ]
  },
  {
   "cell_type": "markdown",
   "metadata": {},
   "source": [
    "# 3) Classification par stage sur A"
   ]
  },
  {
   "cell_type": "code",
   "execution_count": null,
   "metadata": {},
   "outputs": [],
   "source": []
  }
 ],
 "metadata": {
  "kernelspec": {
   "display_name": "Python 3",
   "language": "python",
   "name": "python3"
  },
  "language_info": {
   "codemirror_mode": {
    "name": "ipython",
    "version": 3
   },
   "file_extension": ".py",
   "mimetype": "text/x-python",
   "name": "python",
   "nbconvert_exporter": "python",
   "pygments_lexer": "ipython3",
   "version": "3.7.0"
  }
 },
 "nbformat": 4,
 "nbformat_minor": 2
}
