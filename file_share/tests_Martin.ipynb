{
 "cells": [
  {
   "cell_type": "code",
   "execution_count": 30,
   "metadata": {},
   "outputs": [],
   "source": [
    "from sklearn.model_selection import train_test_split\n",
    "from sklearn.metrics import classification_report, mean_squared_error, log_loss\n",
    "from sklearn.feature_selection import SelectKBest\n",
    "from sklearn.feature_selection import chi2\n",
    "from sklearn.preprocessing import MinMaxScaler\n",
    "import pandas as pd\n",
    "import numpy as np\n",
    "import matplotlib.pyplot as plt\n",
    "from collections import Counter\n",
    "from imblearn.over_sampling import ADASYN, SMOTE\n",
    "from xgboost import XGBClassifier\n",
    "from sklearn.ensemble import RandomForestClassifier\n",
    "from sklearn.svm import SVC\n",
    "from sklearn.decomposition import TruncatedSVD"
   ]
  },
  {
   "cell_type": "markdown",
   "metadata": {},
   "source": [
    "# 0) Chargement des données"
   ]
  },
  {
   "cell_type": "code",
<<<<<<< HEAD
   "execution_count": 31,
=======
   "execution_count": 2,
>>>>>>> d8aeb342a06ae0a9e059c5a1d89ee77a4bde48e2
   "metadata": {},
   "outputs": [
    {
     "name": "stdout",
     "output_type": "stream",
     "text": [
      "df_data shape: (20103, 687)\n",
      "df_metadata shape: (685, 14)\n"
     ]
    },
    {
     "data": {
      "text/html": [
       "<div>\n",
       "<style scoped>\n",
       "    .dataframe tbody tr th:only-of-type {\n",
       "        vertical-align: middle;\n",
       "    }\n",
       "\n",
       "    .dataframe tbody tr th {\n",
       "        vertical-align: top;\n",
       "    }\n",
       "\n",
       "    .dataframe thead th {\n",
       "        text-align: right;\n",
       "    }\n",
       "</style>\n",
       "<table border=\"1\" class=\"dataframe\">\n",
       "  <thead>\n",
       "    <tr style=\"text-align: right;\">\n",
       "      <th></th>\n",
       "      <th>dmprocr_ID</th>\n",
       "      <th>indiv</th>\n",
       "      <th>sample</th>\n",
       "      <th>trscr</th>\n",
       "      <th>cnv</th>\n",
       "      <th>meth</th>\n",
       "      <th>gender</th>\n",
       "      <th>days_to_birth</th>\n",
       "      <th>tumor_stage</th>\n",
       "      <th>da</th>\n",
       "      <th>fut</th>\n",
       "      <th>age_diag</th>\n",
       "      <th>days_to_death</th>\n",
       "      <th>tissue_status</th>\n",
       "    </tr>\n",
       "  </thead>\n",
       "  <tbody>\n",
       "    <tr>\n",
       "      <th>0</th>\n",
       "      <td>97-7552-01</td>\n",
       "      <td>97-7552</td>\n",
       "      <td>1</td>\n",
       "      <td>1</td>\n",
       "      <td>1</td>\n",
       "      <td>1</td>\n",
       "      <td>male</td>\n",
       "      <td>-25578.0</td>\n",
       "      <td>stage ib</td>\n",
       "      <td>alive</td>\n",
       "      <td>1932.0</td>\n",
       "      <td>25578.0</td>\n",
       "      <td>NaN</td>\n",
       "      <td>patho</td>\n",
       "    </tr>\n",
       "    <tr>\n",
       "      <th>1</th>\n",
       "      <td>44-7671-01</td>\n",
       "      <td>44-7671</td>\n",
       "      <td>1</td>\n",
       "      <td>0</td>\n",
       "      <td>1</td>\n",
       "      <td>1</td>\n",
       "      <td>male</td>\n",
       "      <td>-23538.0</td>\n",
       "      <td>stage ib</td>\n",
       "      <td>alive</td>\n",
       "      <td>889.0</td>\n",
       "      <td>23538.0</td>\n",
       "      <td>NaN</td>\n",
       "      <td>patho</td>\n",
       "    </tr>\n",
       "    <tr>\n",
       "      <th>2</th>\n",
       "      <td>86-7953-01</td>\n",
       "      <td>86-7953</td>\n",
       "      <td>1</td>\n",
       "      <td>1</td>\n",
       "      <td>1</td>\n",
       "      <td>1</td>\n",
       "      <td>female</td>\n",
       "      <td>-25315.0</td>\n",
       "      <td>stage ia</td>\n",
       "      <td>alive</td>\n",
       "      <td>997.0</td>\n",
       "      <td>25315.0</td>\n",
       "      <td>NaN</td>\n",
       "      <td>patho</td>\n",
       "    </tr>\n",
       "    <tr>\n",
       "      <th>3</th>\n",
       "      <td>L4-A4E5-01</td>\n",
       "      <td>L4-A4E5</td>\n",
       "      <td>1</td>\n",
       "      <td>1</td>\n",
       "      <td>1</td>\n",
       "      <td>1</td>\n",
       "      <td>female</td>\n",
       "      <td>-17680.0</td>\n",
       "      <td>stage i</td>\n",
       "      <td>alive</td>\n",
       "      <td>578.0</td>\n",
       "      <td>17680.0</td>\n",
       "      <td>NaN</td>\n",
       "      <td>patho</td>\n",
       "    </tr>\n",
       "    <tr>\n",
       "      <th>4</th>\n",
       "      <td>NJ-A4YP-01</td>\n",
       "      <td>NJ-A4YP</td>\n",
       "      <td>1</td>\n",
       "      <td>1</td>\n",
       "      <td>1</td>\n",
       "      <td>1</td>\n",
       "      <td>male</td>\n",
       "      <td>-19106.0</td>\n",
       "      <td>stage ib</td>\n",
       "      <td>alive</td>\n",
       "      <td>50.0</td>\n",
       "      <td>19106.0</td>\n",
       "      <td>NaN</td>\n",
       "      <td>patho</td>\n",
       "    </tr>\n",
       "  </tbody>\n",
       "</table>\n",
       "</div>"
      ],
      "text/plain": [
       "   dmprocr_ID    indiv  sample  trscr  cnv  meth  gender  days_to_birth  \\\n",
       "0  97-7552-01  97-7552       1      1    1     1    male       -25578.0   \n",
       "1  44-7671-01  44-7671       1      0    1     1    male       -23538.0   \n",
       "2  86-7953-01  86-7953       1      1    1     1  female       -25315.0   \n",
       "3  L4-A4E5-01  L4-A4E5       1      1    1     1  female       -17680.0   \n",
       "4  NJ-A4YP-01  NJ-A4YP       1      1    1     1    male       -19106.0   \n",
       "\n",
       "  tumor_stage     da     fut  age_diag  days_to_death tissue_status  \n",
       "0    stage ib  alive  1932.0   25578.0            NaN         patho  \n",
       "1    stage ib  alive   889.0   23538.0            NaN         patho  \n",
       "2    stage ia  alive   997.0   25315.0            NaN         patho  \n",
       "3     stage i  alive   578.0   17680.0            NaN         patho  \n",
       "4    stage ib  alive    50.0   19106.0            NaN         patho  "
      ]
     },
<<<<<<< HEAD
     "execution_count": 31,
=======
     "execution_count": 2,
>>>>>>> d8aeb342a06ae0a9e059c5a1d89ee77a4bde48e2
     "metadata": {},
     "output_type": "execute_result"
    }
   ],
   "source": [
    "# Chargement des données, clean_data étant les données nettoyées des NaN trop nombreux\n",
    "df_data = pd.read_csv(\"data/clean_data.csv\")\n",
    "print(\"df_data shape:\", df_data.shape)\n",
    "df_metadata = pd.read_csv(\"data/metadata.csv\")\n",
    "print(\"df_metadata shape:\", df_metadata.shape)\n",
    "df_metadata[:5]"
   ]
  },
  {
   "cell_type": "code",
<<<<<<< HEAD
   "execution_count": 32,
=======
   "execution_count": 4,
>>>>>>> d8aeb342a06ae0a9e059c5a1d89ee77a4bde48e2
   "metadata": {},
   "outputs": [
    {
     "name": "stdout",
     "output_type": "stream",
     "text": [
      "<class 'numpy.ndarray'>\n",
      "(685, 20103)\n",
      "labelsBinary : [0 0 0 0 0 0 0 0 0 0 0 0 0 0 0 1 0 0 0 1 0 0 0 0 0 0 0 0 0 0 0 0 0 0 0 0 0\n",
      " 0 0 0 0 0 0 0 0 0 0 0 0 0 0 0 0 0 0 0 0 0 0 0 1 0 0 0 0 0 0 0 0 1 0 0 0 0\n",
      " 0 0 0 0 0 0 0 0 0 1 0 0 0 0 0 0 1 0 0 0 0 0 0 0 0 0 0 0 0 0 0 0 0 1 0 0 0\n",
      " 0 0 0 0 0 0 0 0 0 0 0 0 0 0 0 0 0 0 0 0 0 0 0 0 0 0 0 0 0 0 0 0 0 0 0 0 0\n",
      " 0 0 0 0 0 1 0 0 1 0 0 0 0 0 0 0 0 0 0 0 0 0 0 1 0 1 0 0 0 0 0 0 0 0 0 0 0\n",
      " 1 0 0 0 0 0 0 0 0 0 0 0 0 0 0 0 0 0 0 0 0 0 0 0 0 0 1 0 0 0 0 0 0 0 0 0 0\n",
      " 0 0 0 0 0 0 0 0 0 0 0 0 0 0 0 0 0 0 0 1 0 1 0 0 1 0 0 0 0 0 0 0 0 0 0 0 0\n",
      " 0 0 0 0 1 1 0 0 1 1 0 0 0 0 0 0 0 0 0 1 0 0 0 0 0 0 1 0 1 1 0 0 0 0 0 0 0\n",
      " 1 0 1 0 0 0 0 0 0 0 0 0 0 0 1 0 0 0 0 0 0 0 0 0 0 0 0 0 0 1 0 0 0 0 0 1 0\n",
      " 0 0 0 0 0 0 0 0 0 0 0 0 0 0 0 0 0 0 0 0 0 0 0 1 0 0 0 0 0 0 0 0 0 0 0 0 0\n",
      " 0 0 0 1 0 0 0 0 0 0 0 0 0 0 0 0 0 0 0 0 0 0 0 0 0 0 0 0 0 0 0 0 0 0 0 0 0\n",
      " 0 0 0 0 1 0 0 0 0 0 0 0 0 1 0 0 0 0 0 0 0 0 0 0 0 0 0 0 0 0 0 0 0 0 0 0 0\n",
      " 0 0 0 0 0 0 0 1 0 0 0 0 0 0 0 1 0 0 0 0 0 0 0 0 0 0 0 0 0 0 0 0 0 0 0 0 0\n",
      " 0 0 0 0 0 0 0 0 0 0 0 0 0 0 0 0 0 0 0 0 1 0 0 0 0 0 0 0 0 0 1 0 1 0 0 0 0\n",
      " 0 0 1 0 0 1 0 1 0 0 0 0 1 0 0 0 0 0 0 1 0 0 0 0 0 0 0 0 0 0 0 0 0 0 0 0 0\n",
      " 0 0 0 0 0 0 0 1 0 0 1 0 0 0 0 0 0 0 0 0 1 0 0 0 0 0 0 0 0 0 0 0 0 0 0 1 0\n",
      " 0 1 0 0 0 0 0 0 0 0 0 0 0 0 0 0 0 0 0 0 0 0 1 0 0 1 1 1 1 1 1 1 1 1 1 1 1\n",
      " 1 1 1 1 1 1 1 1 1 1 1 1 1 1 1 1 1 1 1 1 1 1 1 1 1 1 1 1 1 1 1 1 1 1 1 1 1\n",
      " 1 1 1 1 1 1 1 1 1 1 1 1 1 1 1 1 1 1 1]\n",
      "valuesBinary : Index(['patho', 'normal'], dtype='object')\n",
      "labelsStages : [ 0  0  1  2  0  3  1  4  0  1  0  3  0  5  0  0  5  1  0  6  4  1  1 -1\n",
      " -1  0  1  1  1  0  7 -1  7  0  0  1  4  5  0  0  8  5  6  9  5  7  6 -1\n",
      "  5  3  1  1  1  5  7  5  3 -1 -1  0  5  0  4  7  0  0 -1  1 -1  1  5 -1\n",
      "  5  5  0  1  5 -1  0  3  1  7  3  5  0  5  3  5  0 -1  5  3  0  1  1  0\n",
      " -1  3  7  0  1 -1  5  2  0  5  4  1  0  9  0  3  0  1  0  3  5 -1 -1  5\n",
      " -1  3  1  3  5  9  1  4  0  1  1 -1  5  0  5  0  3  1  1 -1 -1  1  0  0\n",
      "  7  3  1  0  0  3  5  1  1  0  0  0  0  1  3  1  3  1  3  3  1  0  1  0\n",
      "  9 -1 -1  3  0  5  1  7  1  1  1  4  7  3  0  3  5  5  9  1  0  7 -1  1\n",
      "  1  0  3  7  6  1  5  5  5  5  3  0  0  1  1  7  1  1 -1  0  1  0  7  7\n",
      "  0  0  3  0  1  5  1  1  7  0  0  7  1  1  1  1  7  9  7  0  1 -1 -1  0\n",
      "  6  1  0  5  7 -1  5  3  5  3  3  0  1  5  0  5  0  0  3  7  3  5  1  0\n",
      "  3  1  1  4  1  5  0  3  4  1  1  3  1  1  3  0  0  1  1  7  0  5  1  1\n",
      "  5  5  1  1 -1  1  5  0  1  1  3  5  4 -1  3  5 -1  4  7  3  3  0  5  7\n",
      "  0  1  1  1 -1  0  3 -1  3 -1 -1  0  0  1  5  3  1  1  4  3  0  7  0  7\n",
      "  7  3  0 -1  4  1  9  0  3  5  0  1  0  7  0 -1  1 -1  1  0  1  5 -1  0\n",
      "  1  0  1  0  3  1  7  5  1 -1  0  0 -1  1  3  4  0  1  0  3  0  1  6 -1\n",
      "  5  0  1  1  0 -1 -1  3  1  7  4  1  4 -1  3  3  1  2 -1  7  7  5  0  0\n",
      "  1  3  2  3  7  4  5  3  0  7  5 -1  3  0  1  1  1  1  7  3  7  9  1  9\n",
      " -1 -1  5  3  5  5  3  1  1  5  0  1  0  7 -1  4  0  0  3  3  1  0  4  1\n",
      "  0  1  5  1  0  7  0  3  1  1 -1  7 -1  3  0  5  0  7  2  0  1  0  1  1\n",
      "  0  7  5  0  0  1  0  5  0  0  0  0  7  3  3  7  0  1  3  0  7  4 -1  3\n",
      "  1  5  3  1  3  3  3  4  7  1  0  4  3  0  5  6  0  0  0  1  0  0  4  0\n",
      "  7 -1  3 -1  0  0  3  5  5  1  1  1  3  5  1  5  6 -1  3  5  3  0  0  5\n",
      "  1  1  1  7  5  7  0  5  0  3  1  0  0  0  3 -1  1  1  0  1  4 -1  1  0\n",
      "  1  5  0  1  0  9  1  5  5  5  1  5  4 -1  0  7  3  5 -1  0 -1  0 -1  4\n",
      "  0  1  1  4  6  1  0  0  5  0  4  0  1  5  9  9 -1  3  1  0  0  3  5  0\n",
      "  4  0  3  4  3  0  1  3  0  5  1  0  0  6  0  1  0  1  0  1  1  1  5  0\n",
      "  1  1  5  3  0  1  7  0  0  5  5  5  1  3  1  0  7  7  0  0  7  0  0  0\n",
      "  3  4  3  0  5  3  1  0  9  3  9  3  9]\n",
      "valuesStages : Index(['stage ib', 'stage ia', 'stage i', 'stage iib', 'stage iv',\n",
      "       'stage iiia', 'not reported', 'stage iia', 'stage ii', 'stage iiib'],\n",
      "      dtype='object')\n"
     ]
    }
   ],
   "source": [
    "# Convertir les données en ndarray et supprimer les colonnes inutiles\n",
    "D = df_data.loc[:, ~df_data.columns.str.contains('^Unnamed')].values\n",
    "D = D.T\n",
    "\n",
    "print(type(D))\n",
    "print(D.shape)\n",
    "\n",
    "# Générer les labels en fonction d'une colonne choisie\n",
    "status = pd.Series(df_metadata[\"tissue_status\"].values)\n",
    "stage = pd.Series(df_metadata[\"tumor_stage\"].values)\n",
    "\n",
    "labelsBinary, valuesBinary = pd.factorize(status)\n",
    "labelsStages, valuesStages = pd.factorize(stage)\n",
    "\n",
    "yBinary = labelsBinary\n",
    "yStage = labelsStages\n",
    "\n",
    "print(\"labelsBinary :\", labelsBinary)\n",
    "print(\"valuesBinary :\", valuesBinary)\n",
    "\n",
    "print(\"labelsStages :\", labelsStages)\n",
    "print(\"valuesStages :\", valuesStages)"
   ]
  },
  {
   "cell_type": "code",
<<<<<<< HEAD
   "execution_count": 33,
=======
   "execution_count": 7,
>>>>>>> d8aeb342a06ae0a9e059c5a1d89ee77a4bde48e2
   "metadata": {},
   "outputs": [
    {
     "name": "stdout",
     "output_type": "stream",
     "text": [
      "(685, 1000)\n"
     ]
    }
   ],
   "source": [
    "# IL FAUT ARRIVER À 300 MB après avoir agrandi le nombre d'observations\n",
    "# ===>>> couper les features\n",
    "# selection des k best features grâce au test chi2\n",
    "chi2_selector = SelectKBest(chi2, k=1000)\n",
    "D = chi2_selector.fit_transform(D, labelsBinary)\n",
    "print(D.shape)"
   ]
  },
  {
   "cell_type": "markdown",
   "metadata": {},
   "source": [
    "## Enrichissement artificiel des données\n",
    "\n",
    "Problème potentiel: il reste peut-être des classes 8 dans le test set, potentiellement à nettoyer"
   ]
  },
  {
   "cell_type": "code",
<<<<<<< HEAD
   "execution_count": 34,
=======
   "execution_count": 8,
>>>>>>> d8aeb342a06ae0a9e059c5a1d89ee77a4bde48e2
   "metadata": {},
   "outputs": [
    {
     "name": "stdout",
     "output_type": "stream",
     "text": [
      "Counter({0: 141, 1: 131, 5: 68, 3: 63, -1: 49, 7: 42, 4: 26, 9: 13, 6: 9, 2: 5, 8: 1})\n",
      "(547, 1000)\n",
      "(1000,)\n",
      "(548, 1000)\n",
      "[ 0  0  7  1  7  0  5  3  4 -1  0  0  5  0  7  0  6 -1  1  3  0  0  1  1\n",
      "  3 -1  1  5  1  5  0  3  0  4  7  7  3  3  0  0  1  0  0  0  4 -1 -1 -1\n",
      "  1  0  1  0 -1  0  9  6  5  0  0  0 -1  3  1  7  0  0  5  0  1  1  1  1\n",
      " -1  5  4  3  4  3 -1  0  7  0  5  1  1  6  1  9  1  0  7  5  1  1  0  5\n",
      "  7  0  5  0  3  0  3  0  0  6  7  0  1  1  5  3  7  0  1  5  5  1  1  7\n",
      "  0  1  0 -1 -1  0  1  0  0 -1  9  0 -1  0  3  1  0  7  5  1  3 -1  1  1\n",
      "  7  0  1  1  0  1  1  6  5  7  9  1  1  0  7  3  1  1  0  7  4  4  3  5\n",
      "  5  3  5 -1 -1  0  7  3  0  1  3  6  0  9  0  6  0  4  0  3 -1  1  7 -1\n",
      "  3  1  4  0  1  4  1  1  1  5  0 -1  9  1  0  1  1 -1  5  5  0 -1  3  4\n",
      "  0  1  7 -1  1  1  1  1  7  3  7  0  0  4  5  5  0  3  2  5  7 -1  1  7\n",
      "  0  5  1  0  1  1  0  1  3  1  5  1 -1  0  3  0  7  1  5  3  9 -1  0  5\n",
      "  1  1  5  1  9  9  3  3  0  0  1  1 -1 -1  5  1  1  1  0  0  0  2  0  0\n",
      "  6  0  3  0  5  5  5  1  7  1  7  7  7  5 -1  0  1  4 -1  5  5  4  5  1\n",
      "  0  3  5  5  1  1  1  1  5  5 -1  1  1 -1  0  0  0  4  1  0  3  5 -1  0\n",
      "  1  3  1  0 -1  0  5  0  1  0  3  1  9  3  0 -1  0  0  4  3  4  3  0  0\n",
      "  0  1  0  1  1  3  3  3  0  5  3  1  5  0  3  1  1 -1  5  0  0  3  0  4\n",
      "  7  1  1  3  4  5  0  0  7  5  1  9  1  0  2  4 -1  3  1  0  5  7  1  0\n",
      "  0  1  5  3  0  1  5  0  1  0  1  3 -1  5  1  1  0  6  0  1 -1  1  1 -1\n",
      "  5  0  0  0  3  7 -1  0 -1 -1  7  5  5  1  0  1  0  0  5  5  3  3  1  4\n",
      "  5  0  7  0  0  0  0  7  3  1  0  1  3  0  0  7  1  9  5  5  1  7  2  1\n",
      "  5  0 -1  0  1  3  1  1  0  3  3  4  7  3 -1  0  5  1  5  1  0  1  1  1\n",
      "  0  0  7  1  5  3  1  7  0  3 -1  2  0  1  1  1  1  3  1  1  0  4  0  0\n",
      "  3  3  1  0  0 -1  5  5  4  7 -1  3  9  4 -1  4  0  3  5]\n",
      "[ 0  0  7  1  7  0  5  3  4 -1  0  0  5  0  7  0  6 -1  1  3  0  0  1  1\n",
      "  3 -1  1  5  1  5  0  3  0  4  7  7  3  3  0  0  1  0  0  0  4 -1 -1 -1\n",
      "  1  0  1  0 -1  0  9  6  5  0  0  0 -1  3  1  7  0  0  5  0  1  1  1  1\n",
      " -1  5  4  3  4  3 -1  0  7  0  5  1  1  6  1  9  1  0  7  5  1  1  0  5\n",
      "  7  0  5  0  3  0  3  0  0  6  7  0  1  1  5  3  7  0  1  5  5  1  1  7\n",
      "  0  1  0 -1 -1  0  1  0  0 -1  9  0 -1  0  3  1  0  7  5  1  3 -1  1  1\n",
      "  7  0  1  1  0  1  1  6  5  7  9  1  1  0  7  3  1  1  0  7  4  4  3  5\n",
      "  5  3  5 -1 -1  0  7  3  0  1  3  6  0  9  0  6  0  4  0  3 -1  1  7 -1\n",
      "  3  1  4  0  1  4  1  1  1  5  0 -1  9  1  0  1  1 -1  5  5  0 -1  3  4\n",
      "  0  1  7 -1  1  1  1  1  7  3  7  0  0  4  5  5  0  3  2  5  7 -1  1  7\n",
      "  0  5  1  0  1  1  0  1  3  1  5  1 -1  0  3  0  7  1  5  3  9 -1  0  5\n",
      "  1  1  5  1  9  9  3  3  0  0  1  1 -1 -1  5  1  1  1  0  0  0  2  0  0\n",
      "  6  0  3  0  5  5  5  1  7  1  7  7  7  5 -1  0  1  4 -1  5  5  4  5  1\n",
      "  0  3  5  5  1  1  1  1  5  5 -1  1  1 -1  0  0  0  4  1  0  3  5 -1  0\n",
      "  1  3  1  0 -1  0  5  0  1  0  3  1  9  3  0 -1  0  0  4  3  4  3  0  0\n",
      "  0  1  0  1  1  3  3  3  0  5  3  1  5  0  3  1  1 -1  5  0  0  3  0  4\n",
      "  7  1  1  3  4  5  0  0  7  5  1  9  1  0  2  4 -1  3  1  0  5  7  1  0\n",
      "  0  1  5  3  0  1  5  0  1  0  1  3 -1  5  1  1  0  6  0  1 -1  1  1 -1\n",
      "  5  0  0  0  3  7 -1  0 -1 -1  7  5  5  1  0  1  0  0  5  5  3  3  1  4\n",
      "  5  0  7  0  0  0  0  7  3  1  0  1  3  0  0  7  1  9  5  5  1  7  2  1\n",
      "  5  0 -1  0  1  3  1  1  0  3  3  4  7  3 -1  0  5  1  5  1  0  1  1  1\n",
      "  0  0  7  1  5  3  1  7  0  3 -1  2  0  1  1  1  1  3  1  1  0  4  0  0\n",
      "  3  3  1  0  0 -1  5  5  4  7 -1  3  9  4 -1  4  0  3  5  2]\n"
     ]
    }
   ],
   "source": [
    "# 6 occurences nécessaire pour Smote ou Adasyn, \n",
    "# on enlève la classe 8 et on duplique une occurence de 2 pour passer à 6 (min SMOTE) \n",
    "\n",
    "X_train, X_test, y_train, y_test = train_test_split(D, yStage, test_size=0.2, random_state=42)\n",
    "# stratify=y, mais une classe avec 1 occurences,on vire cette classe?\n",
    "\n",
    "recounted = Counter(y_train)\n",
    "print(recounted)\n",
    "\n",
    "X_train_sans_8 = X_train[np.where(y_train!=8)]\n",
    "X_2 = X_train[np.where(y_train==2)][0]\n",
    "print(X_train_sans_8.shape)\n",
    "print(X_2.shape)\n",
    "\n",
    "# dédoublement d'un exemple de la classe 2\n",
    "X_train_sans_8_double_2 = np.vstack([X_train_sans_8,X_2])\n",
    "print(X_train_sans_8_double_2.shape)\n",
    "\n",
    "# dédoublement d'un label de la classe 2\n",
    "y_train_sans_8 = y_train[np.where(y_train!=8)]\n",
    "print(y_train_sans_8)\n",
    "y_train_sans_8 = np.append(y_train_sans_8, 2)\n",
    "print(y_train_sans_8)\n",
    "\n",
    "# retrait des instances potentielles de la classe 8 trop petite dans le test\n",
    "X_test = X_test[np.where(y_test!=8)]\n",
    "y_test = y_test[np.where(y_test!=8)]"
   ]
  },
  {
   "cell_type": "code",
<<<<<<< HEAD
   "execution_count": 35,
=======
   "execution_count": 9,
>>>>>>> d8aeb342a06ae0a9e059c5a1d89ee77a4bde48e2
   "metadata": {},
   "outputs": [],
   "source": [
    "X_train = X_train_sans_8_double_2\n",
    "y_train = y_train_sans_8"
   ]
  },
  {
   "cell_type": "code",
<<<<<<< HEAD
   "execution_count": 41,
=======
   "execution_count": 10,
>>>>>>> d8aeb342a06ae0a9e059c5a1d89ee77a4bde48e2
   "metadata": {},
   "outputs": [
    {
     "name": "stderr",
     "output_type": "stream",
     "text": [
      "/home/mbauw/anaconda3/lib/python3.7/site-packages/imblearn/utils/_validation.py:257: UserWarning: After over-sampling, the number of samples (1000) in class 0 will be larger than the number of samples in the majority class (class #0 -> 141)\n",
      "  n_samples_majority))\n",
      "/home/mbauw/anaconda3/lib/python3.7/site-packages/imblearn/utils/_validation.py:257: UserWarning: After over-sampling, the number of samples (1000) in class 1 will be larger than the number of samples in the majority class (class #0 -> 141)\n",
      "  n_samples_majority))\n",
      "/home/mbauw/anaconda3/lib/python3.7/site-packages/imblearn/utils/_validation.py:257: UserWarning: After over-sampling, the number of samples (1000) in class 5 will be larger than the number of samples in the majority class (class #0 -> 141)\n",
      "  n_samples_majority))\n",
      "/home/mbauw/anaconda3/lib/python3.7/site-packages/imblearn/utils/_validation.py:257: UserWarning: After over-sampling, the number of samples (1000) in class 3 will be larger than the number of samples in the majority class (class #0 -> 141)\n",
      "  n_samples_majority))\n",
      "/home/mbauw/anaconda3/lib/python3.7/site-packages/imblearn/utils/_validation.py:257: UserWarning: After over-sampling, the number of samples (1000) in class -1 will be larger than the number of samples in the majority class (class #0 -> 141)\n",
      "  n_samples_majority))\n",
      "/home/mbauw/anaconda3/lib/python3.7/site-packages/imblearn/utils/_validation.py:257: UserWarning: After over-sampling, the number of samples (1000) in class 7 will be larger than the number of samples in the majority class (class #0 -> 141)\n",
      "  n_samples_majority))\n",
      "/home/mbauw/anaconda3/lib/python3.7/site-packages/imblearn/utils/_validation.py:257: UserWarning: After over-sampling, the number of samples (1000) in class 4 will be larger than the number of samples in the majority class (class #0 -> 141)\n",
      "  n_samples_majority))\n",
      "/home/mbauw/anaconda3/lib/python3.7/site-packages/imblearn/utils/_validation.py:257: UserWarning: After over-sampling, the number of samples (1000) in class 9 will be larger than the number of samples in the majority class (class #0 -> 141)\n",
      "  n_samples_majority))\n",
      "/home/mbauw/anaconda3/lib/python3.7/site-packages/imblearn/utils/_validation.py:257: UserWarning: After over-sampling, the number of samples (1000) in class 6 will be larger than the number of samples in the majority class (class #0 -> 141)\n",
      "  n_samples_majority))\n",
      "/home/mbauw/anaconda3/lib/python3.7/site-packages/imblearn/utils/_validation.py:257: UserWarning: After over-sampling, the number of samples (1000) in class 2 will be larger than the number of samples in the majority class (class #0 -> 141)\n",
      "  n_samples_majority))\n"
     ]
    },
    {
     "name": "stdout",
     "output_type": "stream",
     "text": [
<<<<<<< HEAD
      "{0, 1, 2, 3, 4, 5, 6, 7, 8, 9}\n",
      "(10000, 1000)\n",
      "(10000,)\n",
      "[[0.3290337  0.54848336 0.40729654 ... 0.32762888 0.20773271 0.40425245]\n",
      " [0.22984968 0.54677661 0.24520245 ... 0.36988468 0.23176469 0.15229468]\n",
      " [0.09789264 0.89703004 0.50674993 ... 0.01662475 0.02969978 0.0351161 ]\n",
      " [0.30015319 0.46053148 0.46463951 ... 0.305154   0.25637512 0.40730345]\n",
      " [0.29498483 0.4331283  0.43406003 ... 0.32929177 0.14735607 0.35599259]]\n"
=======
      "(10000, 1000)\n",
      "(548, 1000)\n"
>>>>>>> d8aeb342a06ae0a9e059c5a1d89ee77a4bde48e2
     ]
    }
   ],
   "source": [
    "# nombre d'occurences désirées par classe \n",
    "# # on a enlevé la classe 8 car qu'une occurence \n",
    "# impossible d'appliquer SMOTE ou ADASYN et génération d'une population à partir\n",
    "# d'un seul exemple est absurde\n",
    "\n",
    "dict= {0: 1000, 1: 1000, 5: 1000, 3: 1000, -1: 1000, 7: 1000, 4: 1000, 9: 1000, 6: 1000, 2: 1000}  \n",
    "smote = SMOTE(random_state=42, sampling_strategy=dict)\n",
    "\n",
    "X_resampled, y_resampled = smote.fit_resample(X_train, y_train)\n",
    "print(X_resampled.shape)\n",
<<<<<<< HEAD
    "print(y_resampled.shape)\n",
    "\n",
    "with open('../starting_kit/sample_data/hadaca_feat.name', 'w') as f:\n",
    "    for i in range(X_resampled.shape[1]):\n",
    "        f.write('methyl_{}\\n'.format(i))\n",
    "\n",
    "with open('../starting_kit/sample_data/hadaca_train.data', 'w') as f:\n",
    "    for x in X_resampled[50:100]:\n",
    "        for feat in x:\n",
    "            f.write('{} '.format(feat))\n",
    "\n",
    "        f.write('\\n')\n",
    "\n",
    "with open('../starting_kit/sample_data/hadaca_test.data', 'w') as f:\n",
    "    for x in X_resampled[:50]:\n",
    "        for feat in x:\n",
    "            f.write('{} '.format(feat))\n",
    "\n",
    "        f.write('\\n')\n",
    "\n",
    "\n",
    "with open('../starting_kit/sample_data/hadaca_valid.data', 'w') as f:\n",
    "    for x in X_resampled[100:150]:\n",
    "        for feat in x:\n",
    "            f.write('{} '.format(feat))\n",
    "\n",
    "        f.write('\\n')\n",
    "\n",
    "with open('../starting_kit/sample_data/hadaca_train.solution', 'w') as f:\n",
    "    for x in y_resampled[50:100]:\n",
    "        f.write('{}'.format(x))\n",
    "\n",
    "        f.write('\\n')\n",
    "\n",
    "with open('../starting_kit/sample_data/hadaca_test.solution', 'w') as f:\n",
    "    for x in y_resampled[:50]:\n",
    "        f.write('{}'.format(x))\n",
    "\n",
    "        f.write('\\n')\n",
    "\n",
=======
    "print(X_train.shape)"
   ]
  },
  {
   "cell_type": "markdown",
   "metadata": {},
   "source": [
    "## TSNE 2D from PCA bringing back dims to 50D \n",
>>>>>>> d8aeb342a06ae0a9e059c5a1d89ee77a4bde48e2
    "\n",
    "as recommanded here https://scikit-learn.org/stable/modules/generated/sklearn.manifold.TSNE.html\n",
    "\"reasonable amount\"\n",
    "\n",
    "PCA: https://towardsdatascience.com/pca-using-python-scikit-learn-e653f8989e60"
   ]
  },
  {
   "cell_type": "code",
   "execution_count": 18,
   "metadata": {},
   "outputs": [
    {
     "name": "stdout",
     "output_type": "stream",
     "text": [
      "resampledPCA shape: (10000, 50)\n"
     ]
    },
    {
     "data": {
      "image/png": "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\n",
      "text/plain": [
       "<Figure size 432x288 with 1 Axes>"
      ]
     },
     "metadata": {
      "needs_background": "light"
     },
     "output_type": "display_data"
    }
   ],
   "source": [
    "from sklearn.decomposition import PCA\n",
    "from sklearn.manifold import TSNE\n",
    "\n",
    "# PCA\n",
    "pca = PCA(n_components=50) # on projette les milliers de dims sur 50\n",
    "principalComponents = pca.fit_transform(X_resampled)\n",
    "resampledPCA = pd.DataFrame(data = principalComponents)\n",
    "print(\"resampledPCA shape:\", resampledPCA.shape)\n",
    "\n",
    "# TSNE\n",
    "tsne = TSNE(n_components=2).fit_transform(resampledPCA)\n",
    "plt.scatter(*zip(*tsne[:,:2]), c=y_resampled)\n",
    "plt.show()"
   ]
  },
  {
   "cell_type": "markdown",
   "metadata": {},
   "source": [
    "# 1) Classification par stage sur D\n",
    "\n",
    "NB: les données enrichies pour classifier sont dans X_resampled, y_resampled"
   ]
  },
  {
   "cell_type": "code",
   "execution_count": 52,
   "metadata": {},
   "outputs": [
    {
     "name": "stdout",
     "output_type": "stream",
     "text": [
      "Train:\n",
      "              precision    recall  f1-score   support\n",
      "\n",
      "          -1       1.00      1.00      1.00      1000\n",
      "           0       1.00      0.99      0.99      1000\n",
      "           1       1.00      1.00      1.00      1000\n",
      "           2       1.00      1.00      1.00      1000\n",
      "           3       1.00      1.00      1.00      1000\n",
      "           4       1.00      1.00      1.00      1000\n",
      "           5       1.00      1.00      1.00      1000\n",
      "           6       1.00      1.00      1.00      1000\n",
      "           7       1.00      1.00      1.00      1000\n",
      "           9       1.00      1.00      1.00      1000\n",
      "\n",
      "   micro avg       1.00      1.00      1.00     10000\n",
      "   macro avg       1.00      1.00      1.00     10000\n",
      "weighted avg       1.00      1.00      1.00     10000\n",
      "\n",
      "Test:\n",
      "              precision    recall  f1-score   support\n",
      "\n",
      "          -1       0.86      1.00      0.92        12\n",
      "           0       0.15      0.20      0.17        30\n",
      "           1       0.28      0.30      0.29        27\n",
      "           3       0.14      0.07      0.10        28\n",
      "           4       0.00      0.00      0.00         5\n",
      "           5       0.13      0.10      0.11        21\n",
      "           6       0.00      0.00      0.00         1\n",
      "           7       0.10      0.09      0.10        11\n",
      "           9       0.00      0.00      0.00         2\n",
      "\n",
      "   micro avg       0.23      0.23      0.23       137\n",
      "   macro avg       0.18      0.19      0.19       137\n",
      "weighted avg       0.22      0.23      0.22       137\n",
      "\n"
     ]
    },
    {
     "name": "stderr",
     "output_type": "stream",
     "text": [
      "/home/mbauw/anaconda3/lib/python3.7/site-packages/sklearn/metrics/classification.py:1143: UndefinedMetricWarning: Precision and F-score are ill-defined and being set to 0.0 in labels with no predicted samples.\n",
      "  'precision', 'predicted', average, warn_for)\n"
     ]
    }
   ],
   "source": [
    "# XGBoost\n",
    "\n",
    "XGBclass = XGBClassifier(objective='binary:logistic', max_depth=3, n_estimators=100, learning_rate=0.1, n_jobs=3)\n",
    "\n",
    "XGBclass.fit(X_resampled,y_resampled)\n",
    "pred_train = XGBclass.predict(X_resampled) # on vérifie que le train est normal\n",
    "\n",
    "print(\"Train:\")\n",
    "print(classification_report(y_resampled,pred_train))\n",
    "\n",
    "pred_test = XGBclass.predict(X_test)\n",
    "print(\"Test:\")\n",
    "print(classification_report(y_test,pred_test))"
   ]
  },
  {
   "cell_type": "code",
   "execution_count": 11,
   "metadata": {},
   "outputs": [
    {
     "name": "stdout",
     "output_type": "stream",
     "text": [
      "Train:\n",
      "              precision    recall  f1-score   support\n",
      "\n",
      "          -1       1.00      1.00      1.00      1000\n",
      "           0       1.00      1.00      1.00      1000\n",
      "           1       1.00      1.00      1.00      1000\n",
      "           2       1.00      1.00      1.00      1000\n",
      "           3       1.00      1.00      1.00      1000\n",
      "           4       1.00      1.00      1.00      1000\n",
      "           5       1.00      1.00      1.00      1000\n",
      "           6       1.00      1.00      1.00      1000\n",
      "           7       1.00      1.00      1.00      1000\n",
      "           9       1.00      1.00      1.00      1000\n",
      "\n",
      "   micro avg       1.00      1.00      1.00     10000\n",
      "   macro avg       1.00      1.00      1.00     10000\n",
      "weighted avg       1.00      1.00      1.00     10000\n",
      "\n",
      "Test:\n",
      "              precision    recall  f1-score   support\n",
      "\n",
      "          -1       0.55      1.00      0.71        12\n",
      "           0       0.19      0.37      0.25        30\n",
      "           1       0.38      0.44      0.41        27\n",
      "           3       0.14      0.04      0.06        28\n",
      "           4       0.00      0.00      0.00         5\n",
      "           5       0.25      0.14      0.18        21\n",
      "           6       0.00      0.00      0.00         1\n",
      "           7       0.00      0.00      0.00        11\n",
      "           9       0.00      0.00      0.00         2\n",
      "\n",
      "   micro avg       0.28      0.28      0.28       137\n",
      "   macro avg       0.17      0.22      0.18       137\n",
      "weighted avg       0.23      0.28      0.24       137\n",
      "\n"
     ]
    },
    {
     "name": "stderr",
     "output_type": "stream",
     "text": [
      "/home/mbauw/anaconda3/lib/python3.7/site-packages/sklearn/metrics/classification.py:1143: UndefinedMetricWarning: Precision and F-score are ill-defined and being set to 0.0 in labels with no predicted samples.\n",
      "  'precision', 'predicted', average, warn_for)\n"
     ]
    }
   ],
   "source": [
    "# Random forest\n",
    "\n",
    "RFclass = RandomForestClassifier(n_estimators = 200, max_depth = 20, n_jobs = 3)\n",
    "RFclass.fit(X_resampled,y_resampled)\n",
    "\n",
    "pred_train = RFclass.predict(X_resampled) # on vérifie que le train est normal\n",
    "\n",
    "print(\"Train:\")\n",
    "print(classification_report(y_resampled,pred_train))\n",
    "\n",
    "pred_test = RFclass.predict(X_test)\n",
    "print(\"Test:\")\n",
    "print(classification_report(y_test,pred_test))"
   ]
  },
  {
   "cell_type": "code",
   "execution_count": 73,
   "metadata": {},
   "outputs": [
    {
     "name": "stderr",
     "output_type": "stream",
     "text": [
      "/home/mbauw/anaconda3/lib/python3.7/site-packages/sklearn/svm/base.py:196: FutureWarning: The default value of gamma will change from 'auto' to 'scale' in version 0.22 to account better for unscaled features. Set gamma explicitly to 'auto' or 'scale' to avoid this warning.\n",
      "  \"avoid this warning.\", FutureWarning)\n"
     ]
    },
    {
     "name": "stdout",
     "output_type": "stream",
     "text": [
      "Train:\n",
      "              precision    recall  f1-score   support\n",
      "\n",
      "          -1       0.85      0.98      0.91      1000\n",
      "           0       0.34      0.48      0.39      1000\n",
      "           1       0.28      0.61      0.38      1000\n",
      "           2       1.00      1.00      1.00      1000\n",
      "           3       0.91      0.14      0.25      1000\n",
      "           4       0.74      0.60      0.66      1000\n",
      "           5       0.98      0.10      0.17      1000\n",
      "           6       1.00      0.83      0.91      1000\n",
      "           7       0.49      0.73      0.58      1000\n",
      "           9       0.97      0.80      0.88      1000\n",
      "\n",
      "   micro avg       0.63      0.63      0.63     10000\n",
      "   macro avg       0.76      0.63      0.61     10000\n",
      "weighted avg       0.76      0.63      0.61     10000\n",
      "\n",
      "Test:\n",
      "              precision    recall  f1-score   support\n",
      "\n",
      "          -1       0.57      1.00      0.73        12\n",
      "           0       0.25      0.27      0.26        30\n",
      "           1       0.27      0.30      0.28        27\n",
      "           3       0.00      0.00      0.00        28\n",
      "           4       0.00      0.00      0.00         5\n",
      "           5       0.00      0.00      0.00        21\n",
      "           6       0.00      0.00      0.00         1\n",
      "           7       0.12      0.36      0.18        11\n",
      "           9       0.00      0.00      0.00         2\n",
      "\n",
      "   micro avg       0.23      0.23      0.23       137\n",
      "   macro avg       0.13      0.21      0.16       137\n",
      "weighted avg       0.17      0.23      0.19       137\n",
      "\n"
     ]
    },
    {
     "name": "stderr",
     "output_type": "stream",
     "text": [
      "/home/mbauw/anaconda3/lib/python3.7/site-packages/sklearn/metrics/classification.py:1143: UndefinedMetricWarning: Precision and F-score are ill-defined and being set to 0.0 in labels with no predicted samples.\n",
      "  'precision', 'predicted', average, warn_for)\n"
     ]
    }
   ],
   "source": [
    "# SVM\n",
    "\n",
    "SVCclass = SVC(C=1)\n",
    "SVCclass.fit(X_resampled,y_resampled)\n",
    "pred_train = SVCclass.predict(X_resampled)\n",
    "\n",
    "print(\"Train:\")\n",
    "print(classification_report(y_resampled,pred_train))\n",
    "pred_test = SVCclass.predict(X_test)\n",
    "\n",
    "print(\"Test:\")\n",
    "print(classification_report(y_test,pred_test))"
   ]
  },
  {
   "cell_type": "markdown",
   "metadata": {},
   "source": [
    "# 2) Factorisation de D en A*T\n",
    "\n",
    "comparer les résultats après facto NMF et facto TruncatedSVD ?"
   ]
  },
  {
   "cell_type": "code",
   "execution_count": 72,
   "metadata": {},
   "outputs": [
    {
     "name": "stdout",
     "output_type": "stream",
     "text": [
      "(685, 100)\n",
      "(100, 1000)\n"
     ]
    }
   ],
   "source": [
    "svd = TruncatedSVD(n_components = 100)\n",
    "\n",
    "A = svd.fit_transform(D)\n",
    "T = svd.components_\n",
    "print(A.shape)\n",
    "print(T.shape)\n",
    "\n",
    "# qualité de la factorisation\n",
    "rmse = mean_squared_error(D,np.dot(A,T))"
   ]
  },
  {
   "cell_type": "markdown",
   "metadata": {},
   "source": [
    "# 3) Classification par stage sur A"
   ]
  },
  {
   "cell_type": "code",
   "execution_count": null,
   "metadata": {},
   "outputs": [],
   "source": [
    "# Random forest\n",
    "\n",
    "RFclass = RandomForestClassifier(n_estimators = 200, max_depth = 20, n_jobs = 3)\n",
    "RFclass.fit(X_resampled,y_resampled)\n",
    "\n",
    "pred_train = RFclass.predict(X_resampled) # on vérifie que le train est normal\n",
    "\n",
    "print(\"Train:\")\n",
    "print(classification_report(y_resampled,pred_train))\n",
    "\n",
    "pred_test = RFclass.predict(X_test)\n",
    "print(\"Test:\")\n",
    "print(classification_report(y_test,pred_test))"
   ]
  },
  {
   "cell_type": "code",
   "execution_count": null,
   "metadata": {},
   "outputs": [],
   "source": [
    "# SVM\n",
    "\n",
    "SVCclass = SVC(C=1)\n",
    "SVCclass.fit(X_resampled,y_resampled)\n",
    "pred_train = SVCclass.predict(X_resampled)\n",
    "\n",
    "print(\"Train:\")\n",
    "print(classification_report(y_resampled,pred_train))\n",
    "pred_test = SVCclass.predict(A_test)\n",
    "\n",
    "print(\"Test:\")\n",
    "print(classification_report(y_test,pred_test))"
   ]
  },
  {
   "cell_type": "markdown",
   "metadata": {},
   "source": [
    "# 4) Comparaison des classifications en partant de D et de A"
   ]
  },
  {
   "cell_type": "code",
   "execution_count": null,
   "metadata": {},
   "outputs": [],
   "source": []
  }
 ],
 "metadata": {
  "kernelspec": {
   "display_name": "Python 3",
   "language": "python",
   "name": "python3"
  },
  "language_info": {
   "codemirror_mode": {
    "name": "ipython",
    "version": 3
   },
   "file_extension": ".py",
   "mimetype": "text/x-python",
   "name": "python",
   "nbconvert_exporter": "python",
   "pygments_lexer": "ipython3",
   "version": "3.7.0"
  }
 },
 "nbformat": 4,
 "nbformat_minor": 2
}
