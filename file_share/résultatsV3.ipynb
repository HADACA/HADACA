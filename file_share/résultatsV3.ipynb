{
 "cells": [
  {
   "cell_type": "markdown",
   "metadata": {},
   "source": [
    "# Projet HADACA\n",
    "\n",
    "## 1. Récupération des données et définition des variables"
   ]
  },
  {
   "cell_type": "code",
   "execution_count": 1,
   "metadata": {},
   "outputs": [],
   "source": [
    "# Import les librairies utilisées\n",
    "import numpy as np\n",
    "import pickle"
   ]
  },
  {
   "cell_type": "code",
   "execution_count": 3,
   "metadata": {},
   "outputs": [
    {
     "name": "stdout",
     "output_type": "stream",
     "text": [
      "Shape of X : (20, 100)\n",
      "Shape of T : (3, 100)\n",
      "Shape of A : (20, 3)\n"
     ]
    }
   ],
   "source": [
    "# Récupération des données\n",
    "\n",
    "x = open('mat_X', 'r')\n",
    "X = pickle.load(x)\n",
    "x.close()\n",
    "\n",
    "t = open('mat_T', 'r')\n",
    "T = pickle.load(t)\n",
    "t.close()\n",
    "\n",
    "a = open('mat_A', 'r')\n",
    "A = pickle.load(a)\n",
    "a.close()\n",
    "\n",
    "shape_X = X.shape\n",
    "shape_T = T.shape\n",
    "shape_A = A.shape\n",
    "\n",
    "print(\"Shape of X : \" +str(shape_X))\n",
    "print(\"Shape of T : \" +str(shape_T))\n",
    "print(\"Shape of A : \" +str(shape_A))"
   ]
  },
  {
   "cell_type": "code",
   "execution_count": 4,
   "metadata": {},
   "outputs": [],
   "source": [
    "# Remarques pour l'équipe : il semble que T et A soient inversées par rapport aux consignes de Mme Guyon ...\n",
    "\n",
    "# N = nombre de patients =20\n",
    "N = X.shape[0]\n",
    "\n",
    "# M = nombre de variables = 100\n",
    "M = X.shape[1]\n",
    "\n",
    "# C = nombre de cellules dont l'activité des gènes est mesurée =3\n",
    "C = A.shape[1]\n",
    "\n",
    "D = np.dot(A,T)"
   ]
  },
  {
   "cell_type": "markdown",
   "metadata": {},
   "source": [
    "## 2. Définition des Métriques\n",
    "\n",
    "### 2.1 Ressemblance"
   ]
  },
  {
   "cell_type": "code",
   "execution_count": 5,
   "metadata": {},
   "outputs": [
    {
     "data": {
      "text/plain": [
       "1.9387580209688027"
      ]
     },
     "execution_count": 5,
     "metadata": {},
     "output_type": "execute_result"
    }
   ],
   "source": [
    "# On choisit la norme 2\n",
    "\n",
    "def ressemblance(X,D):\n",
    "    return np.sqrt(((X-D)**2).sum())\n",
    "\n",
    "ressemblance(X,D)"
   ]
  },
  {
   "cell_type": "markdown",
   "metadata": {},
   "source": [
    "### 2.2 Utilité\n",
    "\n",
    "Comment faire ? On a pas Y dans les données..."
   ]
  },
  {
   "cell_type": "code",
   "execution_count": 6,
   "metadata": {},
   "outputs": [
    {
     "data": {
      "text/plain": [
       "array([[0.],\n",
       "       [0.],\n",
       "       [0.],\n",
       "       [0.],\n",
       "       [0.],\n",
       "       [0.],\n",
       "       [0.],\n",
       "       [0.],\n",
       "       [0.],\n",
       "       [0.],\n",
       "       [0.],\n",
       "       [0.],\n",
       "       [0.],\n",
       "       [0.],\n",
       "       [0.],\n",
       "       [0.],\n",
       "       [0.],\n",
       "       [0.],\n",
       "       [0.],\n",
       "       [0.]])"
      ]
     },
     "execution_count": 6,
     "metadata": {},
     "output_type": "execute_result"
    }
   ],
   "source": [
    "def utilities(M):\n",
    "    Y = np.zeros((N,1))\n",
    "    #TODO\n",
    "    return Y\n",
    "\n",
    "utilities(D)"
   ]
  },
  {
   "cell_type": "markdown",
   "metadata": {},
   "source": [
    "## 3. Création de nouvelles données"
   ]
  },
  {
   "cell_type": "code",
   "execution_count": 7,
   "metadata": {},
   "outputs": [],
   "source": [
    "# Que faut-il choisir pour mu et sigma ???\n",
    "A2 = np.random.normal(0.75, 0.25, shape_A)\n",
    "T2 = np.random.normal(0.5, 0.25, shape_T)\n",
    "D2 = np.dot(A2,T2)"
   ]
  },
  {
   "cell_type": "markdown",
   "metadata": {},
   "source": [
    "## 4. Premiers résultats\n",
    "\n",
    "Rappel du Challenge : Avec C et X, trouver la meilleure factorisation de D = A*T. C-à-d, trouver deux matrices A et D, dont le produit est le plus près possible de X."
   ]
  },
  {
   "cell_type": "markdown",
   "metadata": {},
   "source": [
    "### 4.1Non-negative Matrix Factorization"
   ]
  },
  {
   "cell_type": "code",
   "execution_count": 8,
   "metadata": {},
   "outputs": [
    {
     "name": "stdout",
     "output_type": "stream",
     "text": [
      "Shape of A3 : (20, 3)\n",
      "Shape of T3 : (3, 100)\n",
      "Shape of D3 : (20, 100)\n",
      "Ressemblance of D3 and X : 1.6932902478182965\n"
     ]
    }
   ],
   "source": [
    "from sklearn.decomposition import NMF\n",
    "\n",
    "model = NMF(n_components=3, init='random', random_state=0)\n",
    "A3 = model.fit_transform(X)\n",
    "T3 = model.components_\n",
    "\n",
    "D3 = np.dot(A3,T3)\n",
    "print(\"Shape of A3 : \" + str(A3.shape))\n",
    "print(\"Shape of T3 : \" + str(T3.shape))\n",
    "print(\"Shape of D3 : \" + str(D3.shape))\n",
    "\n",
    "print(\"Ressemblance of D3 and X : \" + str(ressemblance(X,D3)))"
   ]
  }
 ],
 "metadata": {
  "kernelspec": {
   "display_name": "Python 3",
   "language": "python",
   "name": "python3"
  },
  "language_info": {
   "codemirror_mode": {
    "name": "ipython",
    "version": 3
   },
   "file_extension": ".py",
   "mimetype": "text/x-python",
   "name": "python",
   "nbconvert_exporter": "python",
   "pygments_lexer": "ipython3",
   "version": "3.6.5"
  }
 },
 "nbformat": 4,
 "nbformat_minor": 2
}
