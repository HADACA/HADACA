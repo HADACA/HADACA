{
 "cells": [
  {
   "cell_type": "code",
   "execution_count": 1,
   "metadata": {},
   "outputs": [],
   "source": [
    "from sklearn.model_selection import train_test_split\n",
    "from sklearn.metrics import classification_report, mean_squared_error, log_loss\n",
    "from sklearn.feature_selection import SelectKBest\n",
    "from sklearn.feature_selection import chi2\n",
    "from sklearn.preprocessing import MinMaxScaler\n",
    "import pandas as pd\n",
    "import numpy as np\n"
   ]
  },
  {
   "cell_type": "code",
   "execution_count": 2,
   "metadata": {},
   "outputs": [
    {
     "name": "stdout",
     "output_type": "stream",
     "text": [
      "Shape of X : (685, 20103)\n",
      "Shape of y : (685,)\n",
      "labels : Index(['stage ib', 'stage ia', 'stage i', 'stage iib', 'stage iv',\n",
      "       'stage iiia', 'not reported', 'stage iia', 'stage ii', 'stage iiib'],\n",
      "      dtype='object')\n"
     ]
    }
   ],
   "source": [
    "# Chargement des données\n",
    "df_data = pd.read_csv(\"data/clean_data.csv\")\n",
    "df_metadata = pd.read_csv(\"data/metadata.csv\")\n",
    "# df_data_t = df_data.transpose()\n",
    "# df_metadata\n",
    "\n",
    "# Convertir les données en ndarray et supprimer les colonnes inutiles\n",
    "X = df_data.loc[:, ~df_data.columns.str.contains('^Unnamed')].values\n",
    "X = X.T\n",
    "\n",
    "# Générer les labels en fonction d'une colonne choisie\n",
    "s = pd.Series(df_metadata[\"tumor_stage\"].values)\n",
    "labels,values = pd.factorize(s)\n",
    "y = labels\n",
    "\n",
    "print(\"Shape of X :\", X.shape)\n",
    "print(\"Shape of y :\", y.shape)\n",
    "\n",
    "print(\"labels :\", values)\n"
   ]
  },
  {
   "cell_type": "code",
   "execution_count": 3,
   "metadata": {},
   "outputs": [
    {
     "name": "stdout",
     "output_type": "stream",
     "text": [
      "(685, 1000)\n"
     ]
    }
   ],
   "source": [
    "# selection des k best features grâce au test chi2\n",
    "\n",
    "chi2_selector = SelectKBest(chi2, k=1000)\n",
    "X = chi2_selector.fit_transform(X, y)\n",
    "print(X.shape)"
   ]
  },
  {
   "cell_type": "code",
   "execution_count": 4,
   "metadata": {},
   "outputs": [],
   "source": [
    "def generate_artificial_data(data, lbls, nb_of_new, noise = True):\n",
    "    \n",
    "    sigma_noise = 10e-2\n",
    "    new_X = np.zeros((data.shape[1],0))\n",
    "    new_y = np.zeros((0))\n",
    "\n",
    "    for label in np.unique(y):\n",
    "\n",
    "        X_cond = data[np.where(lbls==label)] # X correspondant à un label    \n",
    "        # estimation des paramètres de la normale\n",
    "        mean_X = np.mean(X_cond, axis=0)\n",
    "        std_X = np.std(X_cond, axis=0) \n",
    "\n",
    "        # nombre de nouveaux patiends à ajouter\n",
    "\n",
    "        nb_new_patients_cond = int(nb_of_new*(len(lbls[np.where(lbls==label)])/lbls.shape[0]))\n",
    "        \n",
    "\n",
    "        # generer les labels\n",
    "        \n",
    "        y_cond = np.empty(nb_new_patients_cond)\n",
    "        y_cond.fill(label)\n",
    "\n",
    "        \n",
    "        # boucle qui genere des nombres aléatoires suivant\n",
    "        # une loi normale avec les paramètres calculés\n",
    "\n",
    "        new_X_cond = np.zeros((0,nb_new_patients_cond))\n",
    "\n",
    "        for i in range(X.shape[1]):\n",
    "            new_feature = np.random.normal(mean_X[i], std_X[i], (1,nb_new_patients_cond))\n",
    "            if(noise):\n",
    "                new_feature += np.random.normal(0,1, new_feature.shape)*sigma_noise\n",
    "            new_X_cond = np.append(new_X_cond,new_feature, axis=0)\n",
    "\n",
    "        new_X = np.concatenate((new_X,new_X_cond),axis=1)\n",
    "        new_y = np.append(new_y, y_cond)\n",
    "\n",
    "    new_X = MinMaxScaler().fit_transform(new_X.T)\n",
    "    \n",
    "    \n",
    "    print(new_X.shape)\n",
    "    print(new_y.shape)\n",
    "    \n",
    "    return (new_X,new_y)\n",
    "\n"
   ]
  },
  {
   "cell_type": "code",
   "execution_count": 5,
   "metadata": {},
   "outputs": [
    {
     "name": "stdout",
     "output_type": "stream",
     "text": [
      "(14994, 1000)\n",
      "(14994,)\n"
     ]
    }
   ],
   "source": [
    "X_art,y_art = generate_artificial_data(X,y,15001)\n",
    "\n",
    "X_train, X_test, y_train, y_test = train_test_split(X_art, y_art, test_size=0.2, random_state=42)"
   ]
  },
  {
   "cell_type": "code",
   "execution_count": 8,
   "metadata": {},
   "outputs": [
    {
     "name": "stdout",
     "output_type": "stream",
     "text": [
      "(14994, 5)\n",
      "(5, 1000)\n",
      "(14994, 1000)\n",
      "RMSE = 0.01402773798497853\n"
     ]
    }
   ],
   "source": [
    "from sklearn.decomposition import TruncatedSVD\n",
    "\n",
    "svd = TruncatedSVD(n_components = 5)\n",
    "A = svd.fit_transform(X_art)\n",
    "T = svd.components_\n",
    "print(A.shape)\n",
    "print(T.shape)\n",
    "D = np.dot(A,T)\n",
    "print(D.shape)\n",
    "################ WARNING ###############\n",
    "# pearson = np.corrcoef(D,X_art)\n",
    "# print(\"Pearson =\", pearson) \n",
    "########################################\n",
    "\n",
    "rmse = mean_squared_error(D,X_art)\n",
    "print(\"RMSE =\", rmse)\n"
   ]
  },
  {
   "cell_type": "code",
   "execution_count": 14,
   "metadata": {},
   "outputs": [],
   "source": [
    "X_train, X_test, y_train, y_test = train_test_split(A, y_art, test_size=0.2, random_state=42)"
   ]
  },
  {
   "cell_type": "code",
   "execution_count": 15,
   "metadata": {},
   "outputs": [
    {
     "name": "stdout",
     "output_type": "stream",
     "text": [
      "Train:\n",
      "             precision    recall  f1-score   support\n",
      "\n",
      "       -1.0       1.00      1.00      1.00      1072\n",
      "        0.0       0.69      0.79      0.74      2962\n",
      "        1.0       0.86      0.91      0.88      2804\n",
      "        2.0       1.00      1.00      1.00        87\n",
      "        3.0       0.66      0.65      0.65      1584\n",
      "        4.0       0.74      0.64      0.69       539\n",
      "        5.0       0.63      0.48      0.54      1564\n",
      "        6.0       0.99      0.97      0.98       183\n",
      "        7.0       0.98      0.98      0.98       939\n",
      "        8.0       1.00      0.27      0.42        15\n",
      "        9.0       0.90      0.80      0.85       246\n",
      "\n",
      "avg / total       0.78      0.79      0.78     11995\n",
      "\n",
      "Test:\n",
      "             precision    recall  f1-score   support\n",
      "\n",
      "       -1.0       1.00      1.00      1.00       263\n",
      "        0.0       0.70      0.78      0.74       782\n",
      "        1.0       0.85      0.86      0.86       656\n",
      "        2.0       1.00      1.00      1.00        22\n",
      "        3.0       0.69      0.69      0.69       408\n",
      "        4.0       0.71      0.72      0.72       139\n",
      "        5.0       0.61      0.49      0.54       385\n",
      "        6.0       0.97      1.00      0.99        35\n",
      "        7.0       0.97      0.97      0.97       221\n",
      "        8.0       1.00      0.83      0.91         6\n",
      "        9.0       0.91      0.76      0.83        82\n",
      "\n",
      "avg / total       0.78      0.78      0.78      2999\n",
      "\n"
     ]
    }
   ],
   "source": [
    "from sklearn.svm import SVC\n",
    "\n",
    "model = SVC(C=10.)\n",
    "model.fit(X_train,y_train)\n",
    "pred_train = model.predict(X_train)\n",
    "\n",
    "print(\"Train:\")\n",
    "print(classification_report(y_train,pred_train))\n",
    "pred_test = model.predict(X_test)\n",
    "\n",
    "print(\"Test:\")\n",
    "print(classification_report(y_test,pred_test))"
   ]
  },
  {
   "cell_type": "code",
   "execution_count": 12,
   "metadata": {},
   "outputs": [
    {
     "name": "stdout",
     "output_type": "stream",
     "text": [
      "(14994, 1000)\n",
      "(14994,)\n",
      "(4996, 1000)\n",
      "(4996,)\n"
     ]
    }
   ],
   "source": [
    "X_train_art,y_train_art = generate_artificial_data(X,y,15001)\n",
    "X_test_art, y_test_art = generate_artificial_data(X,y,5001)\n",
    "\n",
    "df_train_X = pd.DataFrame(X_train_art)\n",
    "df_train_X.to_csv(\"data/challenge/train/data.csv\")\n",
    "df_train_y = pd.DataFrame(y_train_art)\n",
    "df_train_y.to_csv(\"data/challenge/train/metadata.csv\")\n",
    "\n",
    "df_test_X = pd.DataFrame(X_test_art)\n",
    "df_test_X.to_csv(\"data/challenge/test/data.csv\")\n",
    "df_test_y = pd.DataFrame(y_test_art)\n",
    "df_test_y.to_csv(\"data/challenge/test/metadata.csv\")"
   ]
  },
  {
   "cell_type": "code",
   "execution_count": 14,
   "metadata": {},
   "outputs": [
    {
     "name": "stdout",
     "output_type": "stream",
     "text": [
      "[[0. 0. 0. 0. 0.]]\n",
      "[[ 0.00163597  0.0052493   0.00546016 -0.00536443  0.0025316 ]]\n"
     ]
    }
   ],
   "source": [
    "ar1 = np.zeros((1,5))\n",
    "print(ar1)\n",
    "print(ar1 + np.random.normal(0,1, ar1.shape)*1e-2)"
   ]
  },
  {
   "cell_type": "code",
   "execution_count": null,
   "metadata": {},
   "outputs": [],
   "source": []
  },
  {
   "cell_type": "code",
   "execution_count": null,
   "metadata": {},
   "outputs": [],
   "source": []
  },
  {
   "cell_type": "code",
   "execution_count": null,
   "metadata": {},
   "outputs": [],
   "source": []
  }
 ],
 "metadata": {
  "kernelspec": {
   "display_name": "Python 3",
   "language": "python",
   "name": "python3"
  },
  "language_info": {
   "codemirror_mode": {
    "name": "ipython",
    "version": 3
   },
   "file_extension": ".py",
   "mimetype": "text/x-python",
   "name": "python",
   "nbconvert_exporter": "python",
   "pygments_lexer": "ipython3",
   "version": "3.6.5"
  }
 },
 "nbformat": 4,
 "nbformat_minor": 2
}
