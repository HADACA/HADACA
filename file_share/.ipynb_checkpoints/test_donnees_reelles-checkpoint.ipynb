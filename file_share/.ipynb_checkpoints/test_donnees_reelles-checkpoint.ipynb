{
 "cells": [
  {
   "cell_type": "code",
   "execution_count": 1,
   "metadata": {},
   "outputs": [],
   "source": [
    "from sklearn.model_selection import train_test_split\n",
    "from sklearn.metrics import classification_report, mean_squared_error, log_loss\n",
    "from sklearn.feature_selection import SelectKBest\n",
    "from sklearn.feature_selection import chi2\n",
    "from sklearn.preprocessing import MinMaxScaler\n",
    "import pandas as pd\n",
    "import numpy as np\n"
   ]
  },
  {
   "cell_type": "code",
   "execution_count": 2,
   "metadata": {},
   "outputs": [
    {
     "name": "stdout",
     "output_type": "stream",
     "text": [
      "Shape of X : (685, 20103)\n",
      "Shape of y : (685,)\n",
      "labels : Index(['stage ib', 'stage ia', 'stage i', 'stage iib', 'stage iv',\n",
      "       'stage iiia', 'not reported', 'stage iia', 'stage ii', 'stage iiib'],\n",
      "      dtype='object')\n"
     ]
    }
   ],
   "source": [
    "# Chargement des données\n",
    "df_data = pd.read_csv(\"data/clean_data.csv\")\n",
    "df_metadata = pd.read_csv(\"data/metadata.csv\")\n",
    "# df_data_t = df_data.transpose()\n",
    "# df_metadata\n",
    "\n",
    "# Convertir les données en ndarray et supprimer les colonnes inutiles\n",
    "X = df_data.loc[:, ~df_data.columns.str.contains('^Unnamed')].values\n",
    "X = X.T\n",
    "\n",
    "# Générer les labels en fonction d'une colonne choisie\n",
    "s = pd.Series(df_metadata[\"tumor_stage\"].values)\n",
    "labels,values = pd.factorize(s)\n",
    "y = labels\n",
    "\n",
    "print(\"Shape of X :\", X.shape)\n",
    "print(\"Shape of y :\", y.shape)\n",
    "\n",
    "print(\"labels :\", values)\n"
   ]
  },
  {
   "cell_type": "code",
   "execution_count": 3,
   "metadata": {},
   "outputs": [
    {
     "name": "stdout",
     "output_type": "stream",
     "text": [
      "(685, 1000)\n"
     ]
    }
   ],
   "source": [
    "# selection des k best features grâce au test chi2\n",
    "\n",
    "chi2_selector = SelectKBest(chi2, k=1000)\n",
    "X = chi2_selector.fit_transform(X, y)\n",
    "print(X.shape)"
   ]
  },
  {
   "cell_type": "code",
   "execution_count": 15,
   "metadata": {},
   "outputs": [],
   "source": [
    "def generate_artificial_data(data, lbls, nb_of_new, noise = True):\n",
    "    \n",
    "    sigma_noise = 1e-2\n",
    "    new_X = np.zeros((data.shape[1],0))\n",
    "    new_y = np.zeros((0))\n",
    "\n",
    "    for label in np.unique(y):\n",
    "\n",
    "        X_cond = data[np.where(lbls==label)] # X correspondant à un label    \n",
    "        # estimation des paramètres de la normale\n",
    "        mean_X = np.mean(X_cond, axis=0)\n",
    "        std_X = np.std(X_cond, axis=0) \n",
    "\n",
    "        # nombre de nouveaux patiends à ajouter\n",
    "\n",
    "        nb_new_patients_cond = int(nb_of_new*(len(lbls[np.where(lbls==label)])/lbls.shape[0]))\n",
    "        \n",
    "\n",
    "        # generer les labels\n",
    "        \n",
    "        y_cond = np.empty(nb_new_patients_cond)\n",
    "        y_cond.fill(label)\n",
    "\n",
    "        \n",
    "        # boucle qui genere des nombres aléatoires suivant\n",
    "        # une loi normale avec les paramètres calculés\n",
    "\n",
    "        new_X_cond = np.zeros((0,nb_new_patients_cond))\n",
    "\n",
    "        for i in range(X.shape[1]):\n",
    "            new_feature = np.random.normal(mean_X[i], std_X[i], (1,nb_new_patients_cond))\n",
    "            if(noise):\n",
    "                new_feature += np.random.normal(0,1, new_feature.shape)*sigma_noise\n",
    "            new_X_cond = np.append(new_X_cond,new_feature, axis=0)\n",
    "\n",
    "        new_X = np.concatenate((new_X,new_X_cond),axis=1)\n",
    "        new_y = np.append(new_y, y_cond)\n",
    "\n",
    "    new_X = MinMaxScaler().fit_transform(new_X.T)\n",
    "    \n",
    "    \n",
    "    print(new_X.shape)\n",
    "    print(new_y.shape)\n",
    "    \n",
    "    return (new_X,new_y)\n",
    "\n"
   ]
  },
  {
   "cell_type": "code",
   "execution_count": 10,
   "metadata": {},
   "outputs": [
    {
     "name": "stdout",
     "output_type": "stream",
     "text": [
      "(14994, 1000)\n",
      "(14994,)\n"
     ]
    }
   ],
   "source": [
    "X_art,y_art = generate_artificial_data(X,y,15001)\n",
    "\n",
    "X_train, X_test, y_train, y_test = train_test_split(X_art, y_art, test_size=0.2, random_state=42)"
   ]
  },
  {
   "cell_type": "code",
   "execution_count": 6,
   "metadata": {},
   "outputs": [
    {
     "name": "stdout",
     "output_type": "stream",
     "text": [
      "             precision    recall  f1-score   support\n",
      "\n",
      "       -1.0       1.00      1.00      1.00       190\n",
      "        0.0       0.88      0.94      0.91       503\n",
      "        1.0       0.97      0.97      0.97       482\n",
      "        2.0       1.00      1.00      1.00        18\n",
      "        3.0       0.95      0.94      0.95       259\n",
      "        4.0       0.99      0.94      0.97        90\n",
      "        5.0       0.91      0.81      0.86       250\n",
      "        6.0       1.00      1.00      1.00        31\n",
      "        7.0       1.00      1.00      1.00       132\n",
      "        8.0       0.00      0.00      0.00         1\n",
      "        9.0       1.00      0.95      0.98        44\n",
      "\n",
      "avg / total       0.94      0.94      0.94      2000\n",
      "\n"
     ]
    },
    {
     "name": "stderr",
     "output_type": "stream",
     "text": [
      "C:\\Program Files (x86)\\Microsoft Visual Studio\\Shared\\Python36_64\\lib\\site-packages\\sklearn\\metrics\\classification.py:1135: UndefinedMetricWarning: Precision and F-score are ill-defined and being set to 0.0 in labels with no predicted samples.\n",
      "  'precision', 'predicted', average, warn_for)\n"
     ]
    }
   ],
   "source": [
    "from sklearn.svm import SVC\n",
    "\n",
    "model = SVC(C=10.)\n",
    "model.fit(X_train,y_train)\n",
    "pred = model.predict(X_test)\n",
    "print(classification_report(y_test,pred))"
   ]
  },
  {
   "cell_type": "code",
   "execution_count": 12,
   "metadata": {},
   "outputs": [
    {
     "name": "stdout",
     "output_type": "stream",
     "text": [
      "(14994, 1000)\n",
      "(14994,)\n",
      "(4996, 1000)\n",
      "(4996,)\n"
     ]
    }
   ],
   "source": [
    "X_train_art,y_train_art = generate_artificial_data(X,y,15001)\n",
    "X_test_art, y_test_art = generate_artificial_data(X,y,5001)\n",
    "\n",
    "df_train_X = pd.DataFrame(X_train_art)\n",
    "df_train_X.to_csv(\"data/challenge/train/data.csv\")\n",
    "df_train_y = pd.DataFrame(y_train_art)\n",
    "df_train_y.to_csv(\"data/challenge/train/metadata.csv\")\n",
    "\n",
    "df_test_X = pd.DataFrame(X_test_art)\n",
    "df_test_X.to_csv(\"data/challenge/test/data.csv\")\n",
    "df_test_y = pd.DataFrame(y_test_art)\n",
    "df_test_y.to_csv(\"data/challenge/test/metadata.csv\")"
   ]
  },
  {
   "cell_type": "code",
   "execution_count": 14,
   "metadata": {},
   "outputs": [
    {
     "name": "stdout",
     "output_type": "stream",
     "text": [
      "[[0. 0. 0. 0. 0.]]\n",
      "[[ 0.00163597  0.0052493   0.00546016 -0.00536443  0.0025316 ]]\n"
     ]
    }
   ],
   "source": [
    "ar1 = np.zeros((1,5))\n",
    "print(ar1)\n",
    "print(ar1 + np.random.normal(0,1, ar1.shape)*1e-2)"
   ]
  },
  {
   "cell_type": "code",
   "execution_count": null,
   "metadata": {},
   "outputs": [],
   "source": []
  },
  {
   "cell_type": "code",
   "execution_count": null,
   "metadata": {},
   "outputs": [],
   "source": []
  },
  {
   "cell_type": "code",
   "execution_count": null,
   "metadata": {},
   "outputs": [],
   "source": []
  }
 ],
 "metadata": {
  "kernelspec": {
   "display_name": "Python 3",
   "language": "python",
   "name": "python3"
  },
  "language_info": {
   "codemirror_mode": {
    "name": "ipython",
    "version": 3
   },
   "file_extension": ".py",
   "mimetype": "text/x-python",
   "name": "python",
   "nbconvert_exporter": "python",
   "pygments_lexer": "ipython3",
   "version": "3.6.5"
  }
 },
 "nbformat": 4,
 "nbformat_minor": 2
}
