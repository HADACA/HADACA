{
 "cells": [
  {
   "cell_type": "code",
   "execution_count": 36,
   "metadata": {},
   "outputs": [],
   "source": [
    "from sklearn.model_selection import train_test_split\n",
    "from sklearn.metrics import classification_report\n",
    "from sklearn.feature_selection import SelectKBest\n",
    "from sklearn.feature_selection import chi2\n",
    "from sklearn.metrics import log_loss\n",
    "import pandas as pd\n",
    "import numpy as np\n"
   ]
  },
  {
   "cell_type": "code",
   "execution_count": 37,
   "metadata": {},
   "outputs": [
    {
     "name": "stdout",
     "output_type": "stream",
     "text": [
      "Shape of X : (685, 20103)\n",
      "Shape of y : (685,)\n",
      "labels : Index(['stage ib', 'stage ia', 'stage i', 'stage iib', 'stage iv',\n",
      "       'stage iiia', 'not reported', 'stage iia', 'stage ii', 'stage iiib'],\n",
      "      dtype='object')\n"
     ]
    }
   ],
   "source": [
    "# Chargement des données\n",
    "df_data = pd.read_csv(\"data/clean_data.csv\")\n",
    "df_metadata = pd.read_csv(\"data/metadata.csv\")\n",
    "\n",
    "# Convertir les données en ndarray et supprimer les colonnes inutiles\n",
    "X = df_data.loc[:, ~df_data.columns.str.contains('^Unnamed')].values\n",
    "X = X.T\n",
    "\n",
    "# Générer les labels en fonction d'une colonne choisie\n",
    "s = pd.Series(df_metadata[\"tumor_stage\"].values)\n",
    "labels,values = pd.factorize(s)\n",
    "y = labels\n",
    "\n",
    "print(\"Shape of X :\", X.shape)\n",
    "print(\"Shape of y :\", y.shape)\n",
    "\n",
    "print(\"labels :\", values)\n",
    "\n",
    "X_train, X_test, y_train, y_test = train_test_split(X, y, test_size=0.2, random_state=42)   \n"
   ]
  },
  {
   "cell_type": "code",
   "execution_count": 41,
   "metadata": {},
   "outputs": [
    {
     "data": {
      "text/html": [
       "<div>\n",
       "<style scoped>\n",
       "    .dataframe tbody tr th:only-of-type {\n",
       "        vertical-align: middle;\n",
       "    }\n",
       "\n",
       "    .dataframe tbody tr th {\n",
       "        vertical-align: top;\n",
       "    }\n",
       "\n",
       "    .dataframe thead th {\n",
       "        text-align: right;\n",
       "    }\n",
       "</style>\n",
       "<table border=\"1\" class=\"dataframe\">\n",
       "  <thead>\n",
       "    <tr style=\"text-align: right;\">\n",
       "      <th></th>\n",
       "      <th>0</th>\n",
       "      <th>1</th>\n",
       "      <th>2</th>\n",
       "      <th>3</th>\n",
       "      <th>4</th>\n",
       "      <th>5</th>\n",
       "      <th>6</th>\n",
       "      <th>7</th>\n",
       "      <th>8</th>\n",
       "      <th>9</th>\n",
       "      <th>...</th>\n",
       "      <th>20093</th>\n",
       "      <th>20094</th>\n",
       "      <th>20095</th>\n",
       "      <th>20096</th>\n",
       "      <th>20097</th>\n",
       "      <th>20098</th>\n",
       "      <th>20099</th>\n",
       "      <th>20100</th>\n",
       "      <th>20101</th>\n",
       "      <th>20102</th>\n",
       "    </tr>\n",
       "  </thead>\n",
       "  <tbody>\n",
       "    <tr>\n",
       "      <th>count</th>\n",
       "      <td>687.000000</td>\n",
       "      <td>687.000000</td>\n",
       "      <td>687.000000</td>\n",
       "      <td>687.000000</td>\n",
       "      <td>687.00000</td>\n",
       "      <td>687.000000</td>\n",
       "      <td>687.000000</td>\n",
       "      <td>687.000000</td>\n",
       "      <td>687.000000</td>\n",
       "      <td>687.000000</td>\n",
       "      <td>...</td>\n",
       "      <td>687.00000</td>\n",
       "      <td>687.000000</td>\n",
       "      <td>687.000000</td>\n",
       "      <td>687.000000</td>\n",
       "      <td>687.000000</td>\n",
       "      <td>687.000000</td>\n",
       "      <td>687.000000</td>\n",
       "      <td>687.000000</td>\n",
       "      <td>687.000000</td>\n",
       "      <td>687.00000</td>\n",
       "    </tr>\n",
       "    <tr>\n",
       "      <th>unique</th>\n",
       "      <td>687.000000</td>\n",
       "      <td>687.000000</td>\n",
       "      <td>687.000000</td>\n",
       "      <td>687.000000</td>\n",
       "      <td>687.00000</td>\n",
       "      <td>687.000000</td>\n",
       "      <td>687.000000</td>\n",
       "      <td>687.000000</td>\n",
       "      <td>687.000000</td>\n",
       "      <td>687.000000</td>\n",
       "      <td>...</td>\n",
       "      <td>687.00000</td>\n",
       "      <td>687.000000</td>\n",
       "      <td>687.000000</td>\n",
       "      <td>687.000000</td>\n",
       "      <td>687.000000</td>\n",
       "      <td>687.000000</td>\n",
       "      <td>687.000000</td>\n",
       "      <td>687.000000</td>\n",
       "      <td>687.000000</td>\n",
       "      <td>687.00000</td>\n",
       "    </tr>\n",
       "    <tr>\n",
       "      <th>top</th>\n",
       "      <td>0.660569</td>\n",
       "      <td>0.509137</td>\n",
       "      <td>0.072333</td>\n",
       "      <td>0.191283</td>\n",
       "      <td>0.99105</td>\n",
       "      <td>0.118721</td>\n",
       "      <td>0.011137</td>\n",
       "      <td>0.092511</td>\n",
       "      <td>0.073411</td>\n",
       "      <td>0.110074</td>\n",
       "      <td>...</td>\n",
       "      <td>0.05117</td>\n",
       "      <td>0.079595</td>\n",
       "      <td>0.046512</td>\n",
       "      <td>0.847541</td>\n",
       "      <td>0.111704</td>\n",
       "      <td>0.030079</td>\n",
       "      <td>0.061064</td>\n",
       "      <td>0.326466</td>\n",
       "      <td>0.093704</td>\n",
       "      <td>0.07159</td>\n",
       "    </tr>\n",
       "    <tr>\n",
       "      <th>freq</th>\n",
       "      <td>1.000000</td>\n",
       "      <td>1.000000</td>\n",
       "      <td>1.000000</td>\n",
       "      <td>1.000000</td>\n",
       "      <td>1.00000</td>\n",
       "      <td>1.000000</td>\n",
       "      <td>1.000000</td>\n",
       "      <td>1.000000</td>\n",
       "      <td>1.000000</td>\n",
       "      <td>1.000000</td>\n",
       "      <td>...</td>\n",
       "      <td>1.00000</td>\n",
       "      <td>1.000000</td>\n",
       "      <td>1.000000</td>\n",
       "      <td>1.000000</td>\n",
       "      <td>1.000000</td>\n",
       "      <td>1.000000</td>\n",
       "      <td>1.000000</td>\n",
       "      <td>1.000000</td>\n",
       "      <td>1.000000</td>\n",
       "      <td>1.00000</td>\n",
       "    </tr>\n",
       "  </tbody>\n",
       "</table>\n",
       "<p>4 rows × 20103 columns</p>\n",
       "</div>"
      ],
      "text/plain": [
       "             0           1           2           3          4           5      \\\n",
       "count   687.000000  687.000000  687.000000  687.000000  687.00000  687.000000   \n",
       "unique  687.000000  687.000000  687.000000  687.000000  687.00000  687.000000   \n",
       "top       0.660569    0.509137    0.072333    0.191283    0.99105    0.118721   \n",
       "freq      1.000000    1.000000    1.000000    1.000000    1.00000    1.000000   \n",
       "\n",
       "             6           7           8           9        ...          20093  \\\n",
       "count   687.000000  687.000000  687.000000  687.000000    ...      687.00000   \n",
       "unique  687.000000  687.000000  687.000000  687.000000    ...      687.00000   \n",
       "top       0.011137    0.092511    0.073411    0.110074    ...        0.05117   \n",
       "freq      1.000000    1.000000    1.000000    1.000000    ...        1.00000   \n",
       "\n",
       "             20094       20095       20096       20097       20098  \\\n",
       "count   687.000000  687.000000  687.000000  687.000000  687.000000   \n",
       "unique  687.000000  687.000000  687.000000  687.000000  687.000000   \n",
       "top       0.079595    0.046512    0.847541    0.111704    0.030079   \n",
       "freq      1.000000    1.000000    1.000000    1.000000    1.000000   \n",
       "\n",
       "             20099       20100       20101      20102  \n",
       "count   687.000000  687.000000  687.000000  687.00000  \n",
       "unique  687.000000  687.000000  687.000000  687.00000  \n",
       "top       0.061064    0.326466    0.093704    0.07159  \n",
       "freq      1.000000    1.000000    1.000000    1.00000  \n",
       "\n",
       "[4 rows x 20103 columns]"
      ]
     },
     "execution_count": 41,
     "metadata": {},
     "output_type": "execute_result"
    }
   ],
   "source": [
    "df_data_t = df_data.transpose()\n",
    "df_data_t.describe()"
   ]
  },
  {
   "cell_type": "code",
   "execution_count": 30,
   "metadata": {},
   "outputs": [],
   "source": [
    "from sklearn.decomposition import TruncatedSVD\n",
    "\n",
    "model = TruncatedSVD(n_components = 50)\n",
    "A = model.fit_transform(X)\n",
    "T = model.components_\n",
    "D = np.dot(A,T)"
   ]
  },
  {
   "cell_type": "code",
   "execution_count": 31,
   "metadata": {},
   "outputs": [
    {
     "data": {
      "text/plain": [
       "0.0025490126675077876"
      ]
     },
     "execution_count": 31,
     "metadata": {},
     "output_type": "execute_result"
    }
   ],
   "source": [
    "mean_squared_error(X,D)"
   ]
  },
  {
   "cell_type": "code",
   "execution_count": 28,
   "metadata": {},
   "outputs": [
    {
     "name": "stdout",
     "output_type": "stream",
     "text": [
      "             precision    recall  f1-score   support\n",
      "\n",
      "         -1       0.46      1.00      0.63        12\n",
      "          0       0.24      0.60      0.35        30\n",
      "          1       0.30      0.41      0.34        27\n",
      "          3       0.00      0.00      0.00        28\n",
      "          4       0.00      0.00      0.00         5\n",
      "          5       0.00      0.00      0.00        21\n",
      "          6       0.00      0.00      0.00         1\n",
      "          7       0.00      0.00      0.00        11\n",
      "          9       0.00      0.00      0.00         2\n",
      "\n",
      "avg / total       0.15      0.30      0.20       137\n",
      "\n"
     ]
    },
    {
     "name": "stderr",
     "output_type": "stream",
     "text": [
      "C:\\Program Files (x86)\\Microsoft Visual Studio\\Shared\\Python36_64\\lib\\site-packages\\sklearn\\metrics\\classification.py:1135: UndefinedMetricWarning: Precision and F-score are ill-defined and being set to 0.0 in labels with no predicted samples.\n",
      "  'precision', 'predicted', average, warn_for)\n"
     ]
    }
   ],
   "source": [
    "from sklearn.svm import SVC\n",
    "\n",
    "model = SVC(C=10.)\n",
    "model.fit(X_train,y_train)\n",
    "pred = model.predict(X_test)\n",
    "print(classification_report(y_test,pred))"
   ]
  },
  {
   "cell_type": "code",
   "execution_count": 29,
   "metadata": {},
   "outputs": [],
   "source": [
    "chi2_selector = SelectKBest(chi2, k=1)\n",
    "X_kbest = chi2_selector.fit_transform(X, y)\n",
    "X_train, X_test, y_train, y_test = train_test_split(X_kbest, y, test_size=0.2, random_state=42)   \n"
   ]
  },
  {
   "cell_type": "code",
   "execution_count": 35,
   "metadata": {},
   "outputs": [
    {
     "name": "stdout",
     "output_type": "stream",
     "text": [
      "             precision    recall  f1-score   support\n",
      "\n",
      "         -1       0.90      0.75      0.82        12\n",
      "          0       0.24      1.00      0.38        30\n",
      "          1       0.00      0.00      0.00        27\n",
      "          3       0.00      0.00      0.00        28\n",
      "          4       0.00      0.00      0.00         5\n",
      "          5       0.00      0.00      0.00        21\n",
      "          6       0.00      0.00      0.00         1\n",
      "          7       0.00      0.00      0.00        11\n",
      "          9       0.00      0.00      0.00         2\n",
      "\n",
      "avg / total       0.13      0.28      0.16       137\n",
      "\n"
     ]
    },
    {
     "name": "stderr",
     "output_type": "stream",
     "text": [
      "C:\\Program Files (x86)\\Microsoft Visual Studio\\Shared\\Python36_64\\lib\\site-packages\\sklearn\\metrics\\classification.py:1135: UndefinedMetricWarning: Precision and F-score are ill-defined and being set to 0.0 in labels with no predicted samples.\n",
      "  'precision', 'predicted', average, warn_for)\n"
     ]
    }
   ],
   "source": [
    "model = SVC(C=10.)\n",
    "model.fit(X_train,y_train)\n",
    "pred = model.predict(X_test)\n",
    "# print(\"log loass:\", log_loss(y_test,pred))\n",
    "print(classification_report(y_test,pred))"
   ]
  },
  {
   "cell_type": "code",
   "execution_count": 24,
   "metadata": {},
   "outputs": [
    {
     "name": "stdout",
     "output_type": "stream",
     "text": [
      "[(array([0.84089555]), 0), (array([0.57640103]), 0), (array([0.66398585]), 0), (array([0.67277344]), 0), (array([0.60502405]), 0), (array([0.61642684]), 0), (array([0.04111567]), 1), (array([0.10300795]), 1), (array([0.64098739]), 0), (array([0.19455798]), 0), (array([0.76831346]), 0), (array([0.58581236]), 0), (array([0.48485486]), 0), (array([0.71270767]), 0), (array([0.10144172]), 0), (array([0.03770736]), 1), (array([0.37755857]), 0), (array([0.5884909]), 0), (array([0.79074771]), 0), (array([0.60450463]), 0), (array([0.89080295]), 0), (array([0.63324632]), 0), (array([0.10078853]), 1), (array([0.47341552]), 0), (array([0.56303475]), 0), (array([0.89449985]), 0), (array([0.16192081]), 0), (array([0.19658556]), 0), (array([0.70556838]), 0), (array([0.5733945]), 0), (array([0.06238439]), 1), (array([0.69972305]), 0), (array([0.54438825]), 0), (array([0.60958904]), 0), (array([0.05688243]), 0), (array([0.43855204]), 0), (array([0.05186854]), 1), (array([0.12085269]), 1), (array([0.26525912]), 0), (array([0.12002342]), 0), (array([0.10284551]), 1), (array([0.42292242]), 0), (array([0.49544353]), 0), (array([0.46037025]), 0), (array([0.77994914]), 0), (array([0.80546466]), 0), (array([0.3000467]), 0), (array([0.95364717]), 0), (array([0.11440142]), 1), (array([0.71641482]), 0), (array([0.47464153]), 0), (array([0.62612613]), 0), (array([0.90523345]), 0), (array([0.54921458]), 0), (array([0.46247183]), 0), (array([0.5871297]), 0), (array([0.51498795]), 0), (array([0.62659966]), 0), (array([0.03771353]), 1), (array([0.76979619]), 0), (array([0.88536938]), 0), (array([0.54780726]), 0), (array([0.50934579]), 0), (array([0.74521781]), 0), (array([0.14300989]), 1), (array([0.08943032]), 1), (array([0.75272331]), 0), (array([0.81245067]), 0), (array([0.25510204]), 0), (array([0.03682509]), 0), (array([0.48287891]), 0), (array([0.70769919]), 0), (array([0.81440962]), 0), (array([0.12966231]), 1), (array([0.65490289]), 0), (array([0.04599888]), 1), (array([0.23618007]), 0), (array([0.79815354]), 0), (array([0.52219918]), 0), (array([0.04807855]), 1), (array([0.66673634]), 0), (array([0.46344023]), 0), (array([0.74261642]), 0), (array([0.75027094]), 0), (array([0.89227006]), 0), (array([0.81506646]), 0), (array([0.73303907]), 0), (array([0.83053162]), 0), (array([0.18723594]), 1), (array([0.65068958]), 0), (array([0.83393502]), 0), (array([0.15405098]), 0), (array([0.35486618]), 0), (array([0.44985275]), 0), (array([0.81203704]), 0), (array([0.59941945]), 0), (array([0.04432953]), 1), (array([0.09689632]), 1), (array([0.67349337]), 0), (array([0.69722682]), 0), (array([0.76965311]), 0), (array([0.73245092]), 0), (array([0.10433929]), 1), (array([0.11408844]), 0), (array([0.65133314]), 0), (array([0.13642439]), 0), (array([0.50363682]), 0), (array([0.0933231]), 1), (array([0.75727615]), 0), (array([0.056783]), 1), (array([0.05017076]), 1), (array([0.82416327]), 0), (array([0.85928874]), 0), (array([0.0702513]), 1), (array([0.30845779]), 0), (array([0.80654707]), 0), (array([0.76959882]), 0), (array([0.62196851]), 0), (array([0.55860178]), 0), (array([0.20670313]), 0), (array([0.08264024]), 1), (array([0.71616294]), 0), (array([0.7346473]), 0), (array([0.41868439]), 0), (array([0.15217949]), 0), (array([0.49420897]), 0), (array([0.64525099]), 0), (array([0.5168497]), 0), (array([0.67952358]), 0), (array([0.74309396]), 0), (array([0.74601878]), 0), (array([0.12243543]), 1), (array([0.0888486]), 0), (array([0.45329834]), 0), (array([0.10319654]), 1), (array([0.36799669]), 0), (array([0.62405221]), 0), (array([0.84098977]), 0), (array([0.64888659]), 0), (array([0.49748463]), 0), (array([0.61893331]), 0), (array([0.97792177]), 0), (array([0.79530686]), 0), (array([0.27686857]), 0), (array([0.54862843]), 0), (array([0.05709814]), 1), (array([0.05836489]), 1), (array([0.06638588]), 1), (array([0.79214403]), 0), (array([0.12517047]), 1), (array([0.207502]), 0), (array([0.39526922]), 0), (array([0.71468401]), 0), (array([0.75562372]), 0), (array([0.05483595]), 1), (array([0.27459358]), 0), (array([0.10446719]), 1), (array([0.61469072]), 0), (array([0.3814847]), 0), (array([0.88589933]), 0), (array([0.29060655]), 0), (array([0.70401691]), 0), (array([0.64656516]), 0), (array([0.04449935]), 1), (array([0.10680243]), 0), (array([0.44854913]), 0), (array([0.25526316]), 0), (array([0.57891265]), 0), (array([0.64375695]), 0), (array([0.53313874]), 0), (array([0.15832222]), 1), (array([0.95128193]), 0), (array([0.73139771]), 0), (array([0.06503053]), 1), (array([0.29998631]), 0), (array([0.0446535]), 1), (array([0.65088355]), 0), (array([0.63922496]), 0), (array([0.73977783]), 0), (array([0.06199677]), 1), (array([0.39791356]), 0), (array([0.66716694]), 0), (array([0.55616019]), 0), (array([0.09327509]), 1), (array([0.66039854]), 0), (array([0.70671835]), 0), (array([0.45637346]), 0), (array([0.64363387]), 0), (array([0.96988297]), 0), (array([0.45997574]), 0), (array([0.44636948]), 0), (array([0.54362991]), 0), (array([0.05067664]), 1), (array([0.68493443]), 0), (array([0.41831586]), 0), (array([0.55486229]), 0), (array([0.51945989]), 0), (array([0.06994512]), 1), (array([0.05418252]), 1), (array([0.46256817]), 0), (array([0.06278717]), 1), (array([0.07173073]), 1), (array([0.70721649]), 0), (array([0.84785471]), 0), (array([0.64759546]), 0), (array([0.56995863]), 0), (array([0.64229471]), 0), (array([0.54578621]), 0), (array([0.28067061]), 0), (array([0.97159862]), 0), (array([0.77973724]), 0), (array([0.66753771]), 0), (array([0.04719733]), 1), (array([0.0434117]), 0), (array([0.10803658]), 1), (array([0.57635585]), 0), (array([0.64597944]), 0), (array([0.6574057]), 0), (array([0.69132517]), 0), (array([0.0911055]), 0), (array([0.63175907]), 0), (array([0.48521157]), 0), (array([0.62350174]), 0), (array([0.7064263]), 0), (array([0.68616293]), 0), (array([0.56373429]), 0), (array([0.7152228]), 0), (array([0.62335733]), 0), (array([0.28115052]), 0), (array([0.10768533]), 1), (array([0.48910666]), 0), (array([0.73354445]), 0), (array([0.13624152]), 1), (array([0.10957233]), 1), (array([0.67667828]), 0), (array([0.69000797]), 0), (array([0.5757185]), 0), (array([0.73089193]), 0), (array([0.05050994]), 1), (array([0.74369071]), 0), (array([0.12200957]), 0), (array([0.22763527]), 1), (array([0.25985177]), 0), (array([0.17753451]), 0), (array([0.70387584]), 0), (array([0.82548532]), 0), (array([0.14115614]), 1), (array([0.38689249]), 0), (array([0.63950215]), 0), (array([0.50747339]), 0), (array([0.70231602]), 0), (array([0.48649381]), 0), (array([0.71554139]), 0), (array([0.03740192]), 1), (array([0.50773271]), 0), (array([0.48950454]), 0), (array([0.07433519]), 0), (array([0.23729873]), 0), (array([0.05749518]), 1), (array([0.41760601]), 0), (array([0.75355218]), 0), (array([0.80768356]), 0), (array([0.06501007]), 1), (array([0.69434833]), 0), (array([0.06102996]), 1), (array([0.26596031]), 0), (array([0.65575906]), 0), (array([0.87194646]), 0), (array([0.91404683]), 0), (array([0.70687885]), 0), (array([0.06031619]), 1), (array([0.31321113]), 0), (array([0.55583521]), 0), (array([0.58816208]), 0), (array([0.64307067]), 0), (array([0.4573299]), 0), (array([0.74975906]), 0), (array([0.85902863]), 0), (array([0.71807649]), 0), (array([0.50948905]), 0), (array([0.05469434]), 1), (array([0.03868137]), 1), (array([0.18878213]), 0), (array([0.44332069]), 0), (array([0.58353859]), 0), (array([0.5744139]), 0), (array([0.77104785]), 0), (array([0.6479532]), 0), (array([0.36293062]), 0), (array([0.72840878]), 0), (array([0.42583607]), 0), (array([0.60124668]), 0), (array([0.08911896]), 1), (array([0.50023121]), 0), (array([0.58113329]), 0), (array([0.58146799]), 0), (array([0.59726075]), 0), (array([0.05267608]), 1), (array([0.31186686]), 0), (array([0.82870515]), 0), (array([0.6597699]), 0), (array([0.61777562]), 0), (array([0.81953092]), 0), (array([0.59803299]), 0), (array([0.47633323]), 0), (array([0.78478691]), 0), (array([0.7050333]), 0), (array([0.58953566]), 0), (array([0.60850556]), 0), (array([0.78398135]), 0), (array([0.6699762]), 0), (array([0.59073523]), 0), (array([0.11889903]), 0), (array([0.62028986]), 0), (array([0.04700507]), 1), (array([0.5299725]), 0), (array([0.62843498]), 0), (array([0.2374756]), 0), (array([0.87277914]), 0), (array([0.66433349]), 0), (array([0.62851043]), 0), (array([0.1086292]), 0), (array([0.44365193]), 0), (array([0.60412475]), 0), (array([0.64206203]), 0), (array([0.76025521]), 0), (array([0.56107757]), 0), (array([0.72732569]), 0), (array([0.46978984]), 0), (array([0.93456766]), 0), (array([0.76326349]), 0), (array([0.68487491]), 0), (array([0.72675963]), 0), (array([0.44948524]), 0), (array([0.46834531]), 0), (array([0.46186404]), 0), (array([0.55266595]), 0), (array([0.22270889]), 0), (array([0.05242419]), 1), (array([0.57273814]), 0), (array([0.65081506]), 0), (array([0.18742066]), 0), (array([0.2566622]), 0), (array([0.62055675]), 0), (array([0.65332747]), 0), (array([0.6335248]), 0), (array([0.50162957]), 0), (array([0.13971292]), 1), (array([0.66778441]), 0), (array([0.37449301]), 0), (array([0.34470077]), 0), (array([0.43767172]), 0), (array([0.49610486]), 0), (array([0.76968348]), 0), (array([0.71400308]), 0), (array([0.53833471]), 0), (array([0.05258331]), 1), (array([0.86734608]), 0), (array([0.65163538]), 0), (array([0.72527874]), 0), (array([0.91573083]), 0), (array([0.55352651]), 0), (array([0.68688337]), 0), (array([0.58916561]), 0), (array([0.44193324]), 0), (array([0.74409821]), 0), (array([0.70582586]), 0), (array([0.30249854]), 0), (array([0.62276616]), 0), (array([0.07038067]), 1), (array([0.88612778]), 0), (array([0.5793514]), 0), (array([0.07359626]), 1), (array([0.60702875]), 0), (array([0.09188106]), 1), (array([0.70764346]), 0), (array([0.65091802]), 0), (array([0.96806327]), 0), (array([0.76324284]), 0), (array([0.9116896]), 0), (array([0.60461568]), 0), (array([0.05640386]), 1), (array([0.37308501]), 0), (array([0.08613745]), 1), (array([0.50412065]), 0), (array([0.12005321]), 0), (array([0.0984508]), 1), (array([0.64792332]), 0), (array([0.05729867]), 1), (array([0.56835581]), 0), (array([0.57480153]), 0), (array([0.65771905]), 0), (array([0.53618732]), 0), (array([0.05818792]), 1), (array([0.08091221]), 1), (array([0.66477926]), 0), (array([0.55317348]), 0), (array([0.42142437]), 0), (array([0.78192404]), 0), (array([0.48326871]), 0), (array([0.75122231]), 0), (array([0.74811162]), 0), (array([0.47346382]), 0), (array([0.71159447]), 0), (array([0.46449648]), 0), (array([0.39505925]), 0), (array([0.04739139]), 1), (array([0.46092732]), 0), (array([0.63841959]), 0), (array([0.10031781]), 0), (array([0.66419583]), 0), (array([0.10585539]), 1), (array([0.11075576]), 1), (array([0.57588399]), 0), (array([0.87764289]), 0), (array([0.76434655]), 0), (array([0.41137041]), 0), (array([0.70242215]), 0), (array([0.16258016]), 0), (array([0.71952063]), 0), (array([0.96759936]), 0), (array([0.66941213]), 0), (array([0.65463464]), 0), (array([0.05865478]), 1), (array([0.63831367]), 0), (array([0.36642118]), 0), (array([0.66604378]), 0), (array([0.49819422]), 0), (array([0.86378715]), 0), (array([0.56616314]), 0), (array([0.40662291]), 0), (array([0.85267929]), 0), (array([0.45468265]), 0), (array([0.07130555]), 0), (array([0.60374353]), 0), (array([0.52477191]), 0), (array([0.77367361]), 0), (array([0.51966627]), 0), (array([0.6727867]), 0), (array([0.42977783]), 0), (array([0.62547227]), 0), (array([0.49950317]), 0), (array([0.64228863]), 0), (array([0.76101539]), 0), (array([0.43957487]), 0), (array([0.79400308]), 0), (array([0.17188421]), 1), (array([0.61109547]), 0), (array([0.58490566]), 0), (array([0.71654961]), 0), (array([0.05148339]), 1), (array([0.17654752]), 0), (array([0.44553044]), 0), (array([0.62435751]), 0), (array([0.59390787]), 0), (array([0.83061626]), 0), (array([0.46369698]), 0), (array([0.83699431]), 0), (array([0.07298838]), 1), (array([0.10354119]), 1), (array([0.7800375]), 0), (array([0.56280055]), 0), (array([0.1493637]), 1), (array([0.40668053]), 0), (array([0.63328823]), 0), (array([0.77047713]), 0), (array([0.57961641]), 0), (array([0.62951401]), 0), (array([0.51153765]), 0), (array([0.63917401]), 0), (array([0.77716473]), 0), (array([0.57179487]), 0), (array([0.60247558]), 0), (array([0.6312286]), 0), (array([0.05196524]), 1), (array([0.21946832]), 0), (array([0.5998518]), 0), (array([0.39860323]), 0), (array([0.4487413]), 0), (array([0.30583798]), 0), (array([0.49980471]), 0), (array([0.61404841]), 0), (array([0.1537756]), 1), (array([0.51600558]), 0), (array([0.65094664]), 0), (array([0.0718749]), 1), (array([0.79821908]), 0), (array([0.70232486]), 0), (array([0.73235239]), 0), (array([0.68178202]), 0), (array([0.36166093]), 0), (array([0.77189431]), 0), (array([0.67198796]), 0), (array([0.47179929]), 0), (array([0.60850747]), 0), (array([0.2732432]), 0), (array([0.42559637]), 0), (array([0.43826387]), 0), (array([0.05295097]), 1), (array([0.79603001]), 0), (array([0.13319194]), 0), (array([0.7222634]), 0), (array([0.68475674]), 0), (array([0.5657114]), 0), (array([0.71434958]), 0), (array([0.0500715]), 1), (array([0.52036482]), 0), (array([0.05792003]), 1), (array([0.48563013]), 0), (array([0.05929927]), 1), (array([0.55972046]), 0), (array([0.08713191]), 1), (array([0.75885897]), 0), (array([0.60033691]), 0), (array([0.49525133]), 0), (array([0.57570052]), 0), (array([0.8490991]), 0), (array([0.6692226]), 0), (array([0.61216058]), 0), (array([0.67068632]), 0), (array([0.54026515]), 0), (array([0.13238085]), 1), (array([0.53159395]), 0), (array([0.64715841]), 0), (array([0.26547619]), 0), (array([0.65995414]), 0), (array([0.52193444]), 0), (array([0.72146119]), 0), (array([0.68617875]), 0), (array([0.61647787]), 0), (array([0.08932185]), 1), (array([0.65718827]), 0), (array([0.04584131]), 1), (array([0.73154855]), 0), (array([0.12215633]), 0), (array([0.60938452]), 0), (array([0.49129594]), 0), (array([0.78613502]), 0), (array([0.74672048]), 0), (array([0.76320336]), 0), (array([0.60373885]), 0), (array([0.10508123]), 1), (array([0.79985035]), 0), (array([0.77111502]), 0), (array([0.77488856]), 0), (array([0.59318885]), 0), (array([0.65357461]), 0), (array([0.72531681]), 0)]\n"
     ]
    }
   ],
   "source": [
    "print(list(zip(X_train,y_train)))"
   ]
  }
 ],
 "metadata": {
  "kernelspec": {
   "display_name": "Python 3",
   "language": "python",
   "name": "python3"
  },
  "language_info": {
   "codemirror_mode": {
    "name": "ipython",
    "version": 3
   },
   "file_extension": ".py",
   "mimetype": "text/x-python",
   "name": "python",
   "nbconvert_exporter": "python",
   "pygments_lexer": "ipython3",
   "version": "3.6.5"
  }
 },
 "nbformat": 4,
 "nbformat_minor": 2
}
